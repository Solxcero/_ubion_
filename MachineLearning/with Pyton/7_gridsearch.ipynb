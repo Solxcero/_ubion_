{
 "cells": [
  {
   "cell_type": "code",
   "execution_count": 1,
   "metadata": {},
   "outputs": [],
   "source": [
    "import mglearn\n",
    "import numpy as np\n",
    "import matplotlib.pyplot as plt"
   ]
  },
  {
   "cell_type": "markdown",
   "metadata": {},
   "source": [
    "### GridSearch\n",
    "- 매개변수 튜닝을 통한 **일반화 성능 개선**\n",
    "- 모델에서 중요한 매개변수의(일반화 성능을 최대로 높여주는) 값을 찾는 일은 어려운 작업이지만, 모든 모델과 데이터셋에서 해야 하는 필수적인 일\n",
    "- 관심 있는 매개변수들을 대상으로 가능한 모든 조합을 시도하는 것"
   ]
  },
  {
   "cell_type": "code",
   "execution_count": 2,
   "metadata": {},
   "outputs": [
    {
     "name": "stdout",
     "output_type": "stream",
     "text": [
      "Train Shape:112  Test Shape:38\n",
      "Best Score:0.9736842105263158\n",
      "Optimize Params:{'C': 100, 'gamma': 0.001}\n"
     ]
    }
   ],
   "source": [
    "from sklearn.svm import SVC \n",
    "from sklearn.model_selection import train_test_split\n",
    "from sklearn.datasets import load_iris\n",
    "\n",
    "iris = load_iris()\n",
    "X_train,X_test,y_train,y_test = train_test_split(iris.data, iris.target, random_state=0)\n",
    "print(f'Train Shape:{X_train.shape[0]}  Test Shape:{X_test.shape[0]}')\n",
    "\n",
    "best_score = 0\n",
    "\n",
    "for gamma in [0.001,0.01,0.1,1,10,100]:\n",
    "    for C in [0.001,0.01,0.1,1,10,100]:\n",
    "        \n",
    "        svm = SVC(gamma=gamma,C=C)\n",
    "        svm.fit(X_train,y_train)\n",
    "        \n",
    "        score = svm.score(X_test,y_test)\n",
    "        \n",
    "        if score > best_score:\n",
    "            best_score = score\n",
    "            best_parameters = {'C': C,'gamma':gamma}\n",
    "            \n",
    "print(f'Best Score:{best_score}')\n",
    "print(f'Optimize Params:{best_parameters}')"
   ]
  },
  {
   "cell_type": "code",
   "execution_count": null,
   "metadata": {},
   "outputs": [],
   "source": []
  }
 ],
 "metadata": {
  "interpreter": {
   "hash": "de415b4ccc84710333d4cce7c3157faf7a031aee324e8431b231be5e6b20506c"
  },
  "kernelspec": {
   "display_name": "Python 3.10.4 64-bit",
   "language": "python",
   "name": "python3"
  },
  "language_info": {
   "codemirror_mode": {
    "name": "ipython",
    "version": 3
   },
   "file_extension": ".py",
   "mimetype": "text/x-python",
   "name": "python",
   "nbconvert_exporter": "python",
   "pygments_lexer": "ipython3",
   "version": "3.10.4"
  },
  "orig_nbformat": 4
 },
 "nbformat": 4,
 "nbformat_minor": 2
}
