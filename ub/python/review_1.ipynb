{
 "cells": [
  {
   "cell_type": "code",
   "execution_count": 3,
   "metadata": {},
   "outputs": [
    {
     "ename": "TypeError",
     "evalue": "unsupported operand type(s) for +: 'int' and 'str'",
     "output_type": "error",
     "traceback": [
      "\u001b[1;31m---------------------------------------------------------------------------\u001b[0m",
      "\u001b[1;31mTypeError\u001b[0m                                 Traceback (most recent call last)",
      "\u001b[1;32mc:\\ubion\\_Ubion\\python\\review_1.ipynb Cell 1'\u001b[0m in \u001b[0;36m<cell line: 3>\u001b[1;34m()\u001b[0m\n\u001b[0;32m      <a href='vscode-notebook-cell:/c%3A/ubion/_Ubion/python/review_1.ipynb#ch0000000?line=0'>1</a>\u001b[0m a\u001b[39m=\u001b[39m \u001b[39m15\u001b[39m\n\u001b[0;32m      <a href='vscode-notebook-cell:/c%3A/ubion/_Ubion/python/review_1.ipynb#ch0000000?line=1'>2</a>\u001b[0m b\u001b[39m=\u001b[39m\u001b[39m'\u001b[39m\u001b[39md\u001b[39m\u001b[39m'\u001b[39m\n\u001b[1;32m----> <a href='vscode-notebook-cell:/c%3A/ubion/_Ubion/python/review_1.ipynb#ch0000000?line=2'>3</a>\u001b[0m a\u001b[39m+\u001b[39;49mb\n",
      "\u001b[1;31mTypeError\u001b[0m: unsupported operand type(s) for +: 'int' and 'str'"
     ]
    }
   ],
   "source": [
    "a= 15\n",
    "b='d'\n",
    "a+b"
   ]
  },
  {
   "cell_type": "code",
   "execution_count": 2,
   "metadata": {},
   "outputs": [
    {
     "name": "stdout",
     "output_type": "stream",
     "text": [
      "10\n"
     ]
    }
   ],
   "source": [
    "a=10\n",
    "print(a)"
   ]
  },
  {
   "cell_type": "code",
   "execution_count": 3,
   "metadata": {},
   "outputs": [
    {
     "name": "stdout",
     "output_type": "stream",
     "text": [
      "HolaSol\n",
      "Hola Sol\n",
      " Hola \t Sol\n"
     ]
    }
   ],
   "source": [
    "print(\"Hola\" + \"Sol\")\n",
    "print(\"Hola\",\"Sol\", end=\"\")\n",
    "\n",
    "print(\"\\n Hola\",\"\\t Sol\")"
   ]
  },
  {
   "cell_type": "code",
   "execution_count": 4,
   "metadata": {},
   "outputs": [],
   "source": [
    "#sql\n",
    "# result = cursor.fetchall() => \n",
    "# 매번 실행하기 어려우니까 함수로 지정하기 "
   ]
  },
  {
   "cell_type": "code",
   "execution_count": 5,
   "metadata": {},
   "outputs": [],
   "source": [
    "#Bool 타입의 데이터 -> 조건문, 반복문 \n",
    "bool_str = True\n",
    "bool_str_2 = False"
   ]
  },
  {
   "cell_type": "code",
   "execution_count": 6,
   "metadata": {},
   "outputs": [
    {
     "name": "stdout",
     "output_type": "stream",
     "text": [
      "<class 'float'>\n"
     ]
    }
   ],
   "source": [
    "#float\n",
    "print(type(3.14))"
   ]
  },
  {
   "cell_type": "code",
   "execution_count": 7,
   "metadata": {},
   "outputs": [
    {
     "name": "stdout",
     "output_type": "stream",
     "text": [
      "3\n"
     ]
    }
   ],
   "source": [
    "#튜플 ()\n",
    "# 가장 기본적인 리스트 형태 / 데이터 수정 불가 \n",
    "tuple_num = (1,2,3,4)\n",
    "print(tuple_num[2])\n"
   ]
  },
  {
   "cell_type": "code",
   "execution_count": 8,
   "metadata": {},
   "outputs": [
    {
     "name": "stdout",
     "output_type": "stream",
     "text": [
      "(4, 5)\n"
     ]
    }
   ],
   "source": [
    "tuple_num_2 = ((1,2,3),(4,5,6))\n",
    "print(tuple_num_2[1][:2])"
   ]
  },
  {
   "cell_type": "code",
   "execution_count": 9,
   "metadata": {},
   "outputs": [
    {
     "name": "stdout",
     "output_type": "stream",
     "text": [
      "<class 'str'>\n"
     ]
    }
   ],
   "source": [
    "# 리스트 []\n",
    "# 리스트는 데이터 수정 가능(튜플과 차이)\n",
    "list_num = [1,2,3,4,\"a\"]\n",
    "print(type(list_num[4]))  #? 문자열만 따로 뽑는 방법은?"
   ]
  },
  {
   "cell_type": "code",
   "execution_count": 10,
   "metadata": {},
   "outputs": [
    {
     "name": "stdout",
     "output_type": "stream",
     "text": [
      "test\n"
     ]
    }
   ],
   "source": [
    "# 딕셔너리\n",
    "dict_num = {\"name\":\"test\", \"phone\":\"0000\"}\n",
    "print(dict_num[\"name\"])"
   ]
  },
  {
   "cell_type": "code",
   "execution_count": 11,
   "metadata": {},
   "outputs": [
    {
     "name": "stdout",
     "output_type": "stream",
     "text": [
      "a is smaller than 8 \n",
      "because a is 3\n"
     ]
    }
   ],
   "source": [
    "# 조건문 => True or False\n",
    "a = 3\n",
    "if a > 8 :\n",
    "    print (\"a is bigger than 8\")\n",
    "\n",
    "else:\n",
    "    print(\"a is smaller than 8 \\nbecause a is\",a)\n"
   ]
  },
  {
   "cell_type": "code",
   "execution_count": 12,
   "metadata": {},
   "outputs": [
    {
     "name": "stdout",
     "output_type": "stream",
     "text": [
      "S\n",
      "F\n"
     ]
    }
   ],
   "source": [
    "if a: \n",
    "    print(\"S\")\n",
    "else:\n",
    "    print(\"F\")\n",
    "\n",
    "b=\"\"\n",
    "if b:  # b 값이 존재한다면\n",
    "    print(\"S\")\n",
    "else:\n",
    "    print(\"F\") #b 값이 존재하지 않는다면 "
   ]
  },
  {
   "cell_type": "code",
   "execution_count": 13,
   "metadata": {},
   "outputs": [
    {
     "name": "stdout",
     "output_type": "stream",
     "text": [
      "1\n",
      "4\n",
      "7\n",
      "12\n"
     ]
    }
   ],
   "source": [
    "# 반복문 \n",
    "sum=0\n",
    "for i in range(1,10,3):\n",
    "    sum += i\n",
    "    print(\"%d\"%i)  # %d - 정수 , %s- 문자, %f- 실수\n",
    "\n",
    "print(sum)"
   ]
  },
  {
   "cell_type": "code",
   "execution_count": 14,
   "metadata": {},
   "outputs": [
    {
     "name": "stdout",
     "output_type": "stream",
     "text": [
      "{'name': 'sol', 'pw': '0789'}\n",
      "{'name': 'cero', 'pw': '1789'}\n",
      "{'name': 'lee', 'pw': '2789'}\n"
     ]
    }
   ],
   "source": [
    "dict_list = [{\"name\":\"sol\",\"pw\":\"0789\"},\n",
    "            {\"name\":\"cero\",\"pw\":\"1789\"},\n",
    "            {\"name\":\"lee\",\"pw\":\"2789\"}]\n",
    "\n",
    "for i in range(len(dict_list)):  #시작값, 증가값 기본형태면 안써도 됨\n",
    "    print(dict_list[i])"
   ]
  },
  {
   "cell_type": "code",
   "execution_count": 15,
   "metadata": {},
   "outputs": [
    {
     "name": "stdout",
     "output_type": "stream",
     "text": [
      "{'name': 'sol', 'pw': '0789'}\n",
      "{'name': 'cero', 'pw': '1789'}\n",
      "{'name': 'lee', 'pw': '2789'}\n"
     ]
    }
   ],
   "source": [
    "for list in dict_list:    #list 대신 i 넣어도 됨. 형태는 딕셔너리 \n",
    "    print(list)    # 이 방법도 같이!"
   ]
  },
  {
   "cell_type": "code",
   "execution_count": 16,
   "metadata": {},
   "outputs": [
    {
     "name": "stdout",
     "output_type": "stream",
     "text": [
      "sol\n",
      "cero\n",
      "lee\n"
     ]
    }
   ],
   "source": [
    "for i in dict_list:\n",
    "    print(i[\"name\"])"
   ]
  },
  {
   "cell_type": "code",
   "execution_count": 17,
   "metadata": {},
   "outputs": [
    {
     "name": "stdout",
     "output_type": "stream",
     "text": [
      "{'name': 'sol', 'pw': '0789'}\n",
      "{'name': 'cero', 'pw': '1789'}\n",
      "{'name': 'lee', 'pw': '2789'}\n"
     ]
    }
   ],
   "source": [
    "#while 문 ==> 무한 루프 주의하기 \n",
    "i = 0    \n",
    "while i < len(dict_list):\n",
    "    print(dict_list[i])\n",
    "    i += 1"
   ]
  },
  {
   "cell_type": "code",
   "execution_count": 18,
   "metadata": {},
   "outputs": [
    {
     "name": "stdout",
     "output_type": "stream",
     "text": [
      "sol\n",
      "cero\n",
      "lee\n"
     ]
    }
   ],
   "source": [
    "# 함수 ==> def 함수명(매개변수,매개변수,...or, args):\n",
    "# 함수를 호출 ==> 함수명(인자,인자)\n",
    "# 함수 dict_list==> 인자 값에 키 값 넣어서 \n",
    "\n",
    "\n",
    "def func_1(input_key): \n",
    "     for list in dict_list:\n",
    "          print(list[input_key])\n",
    "\n",
    "func_1(\"name\")  \n",
    "     "
   ]
  },
  {
   "cell_type": "code",
   "execution_count": null,
   "metadata": {},
   "outputs": [],
   "source": []
  },
  {
   "cell_type": "code",
   "execution_count": 19,
   "metadata": {},
   "outputs": [
    {
     "name": "stdout",
     "output_type": "stream",
     "text": [
      "sol\n",
      "cero\n",
      "lee\n"
     ]
    }
   ],
   "source": [
    "def func_2(key):\n",
    "    for i in range(len(dict_list)):\n",
    "        print(dict_list[i][key])\n",
    "func_2(\"name\")\n"
   ]
  },
  {
   "cell_type": "code",
   "execution_count": 20,
   "metadata": {},
   "outputs": [
    {
     "name": "stdout",
     "output_type": "stream",
     "text": [
      "sol\n",
      "cero\n",
      "lee\n"
     ]
    }
   ],
   "source": [
    "def func_3(list,input_key):\n",
    "    i = 0\n",
    "    while i < len(list):\n",
    "        print(list[i][input_key])\n",
    "        i += 1\n",
    "func_3(dict_list, \"name\")"
   ]
  },
  {
   "cell_type": "code",
   "execution_count": 21,
   "metadata": {},
   "outputs": [
    {
     "name": "stdout",
     "output_type": "stream",
     "text": [
      "hola\n"
     ]
    }
   ],
   "source": [
    "def func_4():\n",
    "    return \"hola\"\n",
    "print(func_4())"
   ]
  },
  {
   "cell_type": "code",
   "execution_count": 22,
   "metadata": {},
   "outputs": [
    {
     "name": "stdout",
     "output_type": "stream",
     "text": [
      "11\n"
     ]
    }
   ],
   "source": [
    "def func_5(input_a, input_b):\n",
    "    result = input_a + input_b  # result=지역변수\n",
    "    return result\n",
    "print(func_5(5,6))"
   ]
  },
  {
   "cell_type": "code",
   "execution_count": 23,
   "metadata": {},
   "outputs": [
    {
     "name": "stdout",
     "output_type": "stream",
     "text": [
      "10\n",
      "10\n"
     ]
    }
   ],
   "source": [
    "def func_5():\n",
    "    a  = 10\n",
    "    def func_6():\n",
    "        print(a)\n",
    "    func_6()\n",
    "    return a\n",
    "print(func_5())\n"
   ]
  },
  {
   "cell_type": "code",
   "execution_count": 24,
   "metadata": {},
   "outputs": [
    {
     "name": "stdout",
     "output_type": "stream",
     "text": [
      "3\n"
     ]
    },
    {
     "data": {
      "text/plain": [
       "6"
      ]
     },
     "execution_count": 24,
     "metadata": {},
     "output_type": "execute_result"
    }
   ],
   "source": [
    "# 함수 생성 ->매개변수 3개-> def함수1(a,b,c): ->\n",
    "# 함수 안에 함수를 하나 더 생성 -> 함수1 -> a+b ->\n",
    "# 함수 2 -> a+b 값에 -c 함수 \n",
    "\n",
    "def  func1(a,b,c):   #return => 함수 끝 \n",
    "    sum = a + b\n",
    "    def func2():\n",
    "        result = sum - c\n",
    "        return result\n",
    "    print(func2())\n",
    "    return sum\n",
    "   \n",
    "func1(3,3,3)\n",
    "            "
   ]
  },
  {
   "cell_type": "code",
   "execution_count": 25,
   "metadata": {},
   "outputs": [
    {
     "name": "stdout",
     "output_type": "stream",
     "text": [
      "0\n"
     ]
    }
   ],
   "source": [
    "def func_9(input_a,input_b):  #사용안하는 변수는 색 흐려짐\n",
    "    sum = input_a + input_b   \n",
    "    return sum \n",
    "\n",
    "def func_10(input_c,input_d,input_e):\n",
    "    sum2 = func_9(input_c,input_d)\n",
    "    result = sum2-input_e\n",
    "    return result\n",
    "\n",
    "print(func_10(1,2,3))"
   ]
  },
  {
   "cell_type": "code",
   "execution_count": 26,
   "metadata": {},
   "outputs": [
    {
     "name": "stdout",
     "output_type": "stream",
     "text": [
      "-2\n"
     ]
    }
   ],
   "source": [
    "# 함수 3개 생성\n",
    "# 함수 1: 두 수의 합 / 함수 2: 두 수의 차/ 함수 3: def 함수3(a,b,c) \n",
    "# -> c의 값이 'S'면 함수1(a,b)\n",
    "# -> c의 값이 'D'면 함수2(a,b) 호출\n",
    "# print(함수3())\n",
    "\n",
    "#매개변수도 그 함수 밖에서는 의미 없음 \n",
    "\n",
    "def func1(a,b):    # return 값과 print 있고 없고 차이 명확하게 이해하기     \n",
    "    sum = a+b\n",
    "    return sum    \n",
    "\n",
    "def func2(a,b):\n",
    "    sum2 = a - b\n",
    "    return sum2\n",
    "\n",
    "def func3(a,b,c):\n",
    "    if c == 'S':\n",
    "        result = func2(a,b)\n",
    "        print(result)\n",
    "    elif c == 'D':\n",
    "        print(func2(a,b))\n",
    "    else :\n",
    "        return \"Not Match\"\n",
    "\n",
    "\n",
    "func3(1,3,'D')  # func3에서는 return 값이 없어서 print  쓰면 none 나옴 "
   ]
  },
  {
   "cell_type": "code",
   "execution_count": 27,
   "metadata": {},
   "outputs": [
    {
     "name": "stdout",
     "output_type": "stream",
     "text": [
      "2\n",
      "4\n",
      "6\n",
      "8\n"
     ]
    }
   ],
   "source": [
    "# 함수 -> 입력 값 2개 a~b, c=\"짝수\",\"홀수\" (짝:a~b 짝수/ 홀:a~b홀수)\n",
    "# a,b 값 \n",
    "\n",
    "def num(a,b,c):\n",
    "    for i in range(a,b+1,2):\n",
    "        if c % 2== 0:\n",
    "            if a % 2 ==0:\n",
    "                print(i)\n",
    "            else:\n",
    "                i += 1\n",
    "                print(i)\n",
    "        elif c % 2== 1:\n",
    "            if a % 2== 0:\n",
    "                i+=1\n",
    "                print(i)\n",
    "            else:        \n",
    "                print(i)\n",
    "   \n",
    "\n",
    "num(1,8,2)"
   ]
  },
  {
   "cell_type": "code",
   "execution_count": 28,
   "metadata": {},
   "outputs": [
    {
     "name": "stdout",
     "output_type": "stream",
     "text": [
      "1\n",
      "3\n",
      "5\n",
      "7\n"
     ]
    }
   ],
   "source": [
    "def func_14(a,b):\n",
    "    for i in range(a,b+1,1):\n",
    "        if i % 2 ==0:\n",
    "            print(i)\n",
    "\n",
    "def func_15(a,b):\n",
    "    for i in range(a,b+1,1):\n",
    "        if i % 2 ==1:\n",
    "            print(i)\n",
    "\n",
    "def func_16(a,b,c):\n",
    "    if c ==\"짝수\":\n",
    "        func_14(a,b)\n",
    "    elif c == \"홀수\":\n",
    "        func_15(a,b)\n",
    "func_16(1,8,'홀수')"
   ]
  },
  {
   "cell_type": "code",
   "execution_count": 29,
   "metadata": {},
   "outputs": [
    {
     "name": "stdout",
     "output_type": "stream",
     "text": [
      "[1, 3, 5, 7]\n"
     ]
    }
   ],
   "source": [
    "# 결과값 리스트로 출력 하는 법\n",
    "def func_14(a,b):\n",
    "    _list = []\n",
    "    for i in range(a,b+1,1):\n",
    "        if i % 2 ==0:\n",
    "           _list.append(i)\n",
    "    return _list\n",
    "\n",
    "def func_15(a,b):\n",
    "    _list =[]\n",
    "    for i in range(a,b+1,1):\n",
    "        if i % 2 ==1:\n",
    "            _list.append(i)\n",
    "    return _list\n",
    "    \n",
    "\n",
    "def func_16(a,b,c):\n",
    "    if c ==\"짝수\":\n",
    "        return func_14(a,b)\n",
    "    elif c == \"홀수\":\n",
    "        return func_15(a,b)\n",
    "print(func_16(1,8,'홀수'))"
   ]
  },
  {
   "cell_type": "code",
   "execution_count": 30,
   "metadata": {},
   "outputs": [
    {
     "name": "stdout",
     "output_type": "stream",
     "text": [
      "[1, 3, 5, 7]\n"
     ]
    }
   ],
   "source": [
    "#전역변수와 지역변수 차이로 리스트 만들기 \n",
    "\n",
    "_list=[]\n",
    "\n",
    "def func_17(a,b):\n",
    "    for i in range(a,b+1,1):\n",
    "        if i % 2 ==0:\n",
    "            _list.append(i)\n",
    "\n",
    "def func_18(a,b):\n",
    "    for i in range(a,b+1,1):\n",
    "        if i % 2 ==1:\n",
    "            _list.append(i)\n",
    "\n",
    "def func_19(a,b,c):\n",
    "    if c ==\"짝수\":\n",
    "        func_17(a,b)\n",
    "    elif c == \"홀수\":\n",
    "        func_18(a,b)\n",
    "\n",
    "    print(_list)\n",
    "func_19(1,8,'홀수')\n",
    "\n",
    "   \n",
    "\n",
    "    \n",
    "\n"
   ]
  },
  {
   "cell_type": "code",
   "execution_count": 31,
   "metadata": {},
   "outputs": [
    {
     "data": {
      "text/plain": [
       "'Mon'"
      ]
     },
     "execution_count": 31,
     "metadata": {},
     "output_type": "execute_result"
    }
   ],
   "source": [
    "x =[\"Mon\",\"Tue\",\"Wed\",\"Thu\",\"Fri\",\"Sat\",\"Sun\"] \n",
    "x[0]"
   ]
  },
  {
   "cell_type": "code",
   "execution_count": null,
   "metadata": {},
   "outputs": [],
   "source": []
  }
 ],
 "metadata": {
  "interpreter": {
   "hash": "de415b4ccc84710333d4cce7c3157faf7a031aee324e8431b231be5e6b20506c"
  },
  "kernelspec": {
   "display_name": "Python 3.10.2 64-bit",
   "language": "python",
   "name": "python3"
  },
  "language_info": {
   "codemirror_mode": {
    "name": "ipython",
    "version": 3
   },
   "file_extension": ".py",
   "mimetype": "text/x-python",
   "name": "python",
   "nbconvert_exporter": "python",
   "pygments_lexer": "ipython3",
   "version": "3.10.4"
  },
  "orig_nbformat": 4
 },
 "nbformat": 4,
 "nbformat_minor": 2
}
