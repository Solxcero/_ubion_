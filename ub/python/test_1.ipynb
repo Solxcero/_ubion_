{
 "cells": [
  {
   "cell_type": "code",
   "execution_count": 2,
   "metadata": {},
   "outputs": [],
   "source": [
    "# "
   ]
  },
  {
   "cell_type": "code",
   "execution_count": 3,
   "metadata": {},
   "outputs": [
    {
     "name": "stdout",
     "output_type": "stream",
     "text": [
      "americano     5000\n",
      "latte         6000\n",
      "cappuccino    6500\n",
      "mocha         6500\n",
      "dtype: int64\n"
     ]
    }
   ],
   "source": [
    "import pandas as pd\n",
    "pd_list = pd.Series([5000,6000,6500,6500],\n",
    "                    index=[\"americano\",\"latte\",\"cappuccino\",\"mocha\"])\n",
    "\n",
    "print(pd_list)\n"
   ]
  },
  {
   "cell_type": "code",
   "execution_count": 4,
   "metadata": {},
   "outputs": [
    {
     "name": "stdout",
     "output_type": "stream",
     "text": [
      "시리즈의 값: [5000 6000 6500 6500]\n",
      "시리즈의 인덱스 값: Index(['americano', 'latte', 'cappuccino', 'mocha'], dtype='object')\n"
     ]
    }
   ],
   "source": [
    "print(\"시리즈의 값:\", pd_list.values)   #변수.values -> 시리즈 값만 출력\n",
    "print(\"시리즈의 인덱스 값:\",pd_list.index)  #변수.index -> 시리즈의 인덱스 값만 출력 "
   ]
  },
  {
   "cell_type": "code",
   "execution_count": 5,
   "metadata": {},
   "outputs": [
    {
     "name": "stdout",
     "output_type": "stream",
     "text": [
      "   A  B  C\n",
      "a  1  2  3\n",
      "b  4  5  6\n",
      "c  7  8  9\n"
     ]
    }
   ],
   "source": [
    "#DataFrame  이차원 리스트 : 행렬의 구조와 매우 유사 \n",
    "_values = [[1,2,3],[4,5,6],[7,8,9]]\n",
    "_index = ['a','b','c']\n",
    "_columns = ['A','B','C']\n",
    "\n",
    "pd_dataframe = pd.DataFrame(data=_values, index=_index, columns=_columns) \n",
    "# = 로 이어주는 이유: 순서 바뀌지 않게..\n",
    "\n",
    "print(pd_dataframe)"
   ]
  },
  {
   "cell_type": "code",
   "execution_count": 6,
   "metadata": {},
   "outputs": [
    {
     "name": "stdout",
     "output_type": "stream",
     "text": [
      "df의 인덱스 값: Index(['a', 'b', 'c'], dtype='object')\n",
      "df의 컬럼 값: Index(['A', 'B', 'C'], dtype='object')\n",
      "df의 프레임 값: [[1 2 3]\n",
      " [4 5 6]\n",
      " [7 8 9]]\n"
     ]
    }
   ],
   "source": [
    "print(\"df의 인덱스 값:\", pd_dataframe.index)\n",
    "print(\"df의 컬럼 값:\",pd_dataframe.columns)\n",
    "print(\"df의 프레임 값:\",pd_dataframe.values)"
   ]
  },
  {
   "cell_type": "code",
   "execution_count": 7,
   "metadata": {},
   "outputs": [
    {
     "name": "stdout",
     "output_type": "stream",
     "text": [
      "  name sex          phone\n",
      "0    A   m  010-3126-9994\n",
      "1    B   f  010-6523-1786\n",
      "2    C   f  010-0620-0210\n"
     ]
    }
   ],
   "source": [
    "list_data_2={\n",
    "    \"name\":[\"A\",\"B\",\"C\"],\n",
    "    \"sex\":[\"m\",\"f\",\"f\"],\n",
    "    \"phone\":[\"010-3126-9994\",\"010-6523-1786\",\"010-0620-0210\"]\n",
    "\n",
    "}       #데이터형 딕셔너리는 key:value로 데이터가 구성되어있기 때문에 key 값이 columns의 값으로 지정\n",
    " #절대 모듈이름을 파일명으로 저장하지 말것 \n",
    "pd_dataframe_3=pd.DataFrame(list_data_2)\n",
    "\n",
    "print(pd_dataframe_3)"
   ]
  },
  {
   "cell_type": "code",
   "execution_count": 8,
   "metadata": {},
   "outputs": [
    {
     "name": "stdout",
     "output_type": "stream",
     "text": [
      "  name sex          phone\n",
      "0    A   m  010-3126-9994\n",
      "1    B   f  010-6523-1786\n",
      "  name sex          phone\n",
      "1    B   f  010-6523-1786\n",
      "2    C   f  010-0620-0210\n",
      "0    m\n",
      "1    f\n",
      "2    f\n",
      "Name: sex, dtype: object\n"
     ]
    }
   ],
   "source": [
    "# 판다스는 데이터프레임에서 원하는 구간만 조회가 가능\n",
    "\n",
    "print(pd_dataframe_3.head(2))\n",
    "\n",
    "print(pd_dataframe_3.tail(2))\n",
    "\n",
    "print(pd_dataframe_3[\"sex\"])"
   ]
  },
  {
   "cell_type": "markdown",
   "metadata": {},
   "source": [
    "판다스는 데이터를 데이터프레임으로 생성할 수 있지만 외부의 데이터파일(csv,text,Excel,SQL,JSON)을 읽어서 데이터프레임으로 생성할 수 있다\n",
    "csv_data = pd.read_csv(\"/경로.csv\") "
   ]
  },
  {
   "cell_type": "code",
   "execution_count": 9,
   "metadata": {},
   "outputs": [
    {
     "name": "stdout",
     "output_type": "stream",
     "text": [
      "[1 2 3 4 5]\n"
     ]
    }
   ],
   "source": [
    "import numpy as np  # 배열 \n",
    "\n",
    "np_array_1=np.array([1,2,3,4,5])\n",
    "print(np_array_1)   #행렬형태 => 연산가능"
   ]
  },
  {
   "cell_type": "code",
   "execution_count": 10,
   "metadata": {},
   "outputs": [
    {
     "name": "stdout",
     "output_type": "stream",
     "text": [
      "[[1 2 3]\n",
      " [4 5 6]]\n"
     ]
    }
   ],
   "source": [
    "np_array_2=np.array([[1,2,3],[4,5,6]])  \n",
    "\n",
    "print(np_array_2)"
   ]
  },
  {
   "cell_type": "code",
   "execution_count": 11,
   "metadata": {},
   "outputs": [
    {
     "name": "stdout",
     "output_type": "stream",
     "text": [
      "array_1 data type: <class 'numpy.ndarray'>\n",
      "arrya_2 data type: <class 'numpy.ndarray'>\n"
     ]
    }
   ],
   "source": [
    "print(\"array_1 data type:\",type(np_array_1))\n",
    "print(\"arrya_2 data type:\",type(np_array_2))"
   ]
  },
  {
   "cell_type": "code",
   "execution_count": 12,
   "metadata": {},
   "outputs": [
    {
     "name": "stdout",
     "output_type": "stream",
     "text": [
      "array1 축의 개수 : 1\n",
      "array1 의 크기: (5,)\n"
     ]
    }
   ],
   "source": [
    "print(\"array1 축의 개수 :\",np_array_1.ndim)\n",
    "print(\"array1 의 크기:\",np_array_1.shape)"
   ]
  },
  {
   "cell_type": "code",
   "execution_count": 13,
   "metadata": {},
   "outputs": [
    {
     "name": "stdout",
     "output_type": "stream",
     "text": [
      "[[0. 0. 0.]\n",
      " [0. 0. 0.]\n",
      " [0. 0. 0.]]\n"
     ]
    }
   ],
   "source": [
    "zero_array=np.zeros((3,3))\n",
    "print(zero_array)  #영행렬"
   ]
  },
  {
   "cell_type": "code",
   "execution_count": 14,
   "metadata": {},
   "outputs": [
    {
     "name": "stdout",
     "output_type": "stream",
     "text": [
      "[[1. 1. 1.]\n",
      " [1. 1. 1.]]\n"
     ]
    }
   ],
   "source": [
    "one_array=np.ones((2,3))\n",
    "print(one_array)  #모든 원소 값이 1인 배열"
   ]
  },
  {
   "cell_type": "code",
   "execution_count": 15,
   "metadata": {},
   "outputs": [
    {
     "name": "stdout",
     "output_type": "stream",
     "text": [
      "[[5 5 5 5]\n",
      " [5 5 5 5]\n",
      " [5 5 5 5]]\n"
     ]
    }
   ],
   "source": [
    "full_array=np.full((3,4),5)\n",
    "print(full_array)   # 모든 원소의 값을 지정한 값으로 "
   ]
  },
  {
   "cell_type": "code",
   "execution_count": 16,
   "metadata": {},
   "outputs": [
    {
     "name": "stdout",
     "output_type": "stream",
     "text": [
      "[[1. 0. 0.]\n",
      " [0. 1. 0.]\n",
      " [0. 0. 1.]]\n"
     ]
    }
   ],
   "source": [
    "eye_array=np.eye(3)\n",
    "print(eye_array)  #단위행렬"
   ]
  },
  {
   "cell_type": "code",
   "execution_count": 17,
   "metadata": {},
   "outputs": [
    {
     "name": "stdout",
     "output_type": "stream",
     "text": [
      "[[0.0142224  0.50086836]\n",
      " [0.96848889 0.68479489]]\n"
     ]
    }
   ],
   "source": [
    "random_array=np.random.random((2,2))   #random.random 랜덤의 종류가 다양하기 때문\n",
    "print(random_array) #1보다 작은 숫자만"
   ]
  },
  {
   "cell_type": "code",
   "execution_count": 24,
   "metadata": {},
   "outputs": [
    {
     "data": {
      "text/plain": [
       "0.014222396903502021"
      ]
     },
     "execution_count": 24,
     "metadata": {},
     "output_type": "execute_result"
    }
   ],
   "source": [
    "random_array[0][0]"
   ]
  },
  {
   "cell_type": "code",
   "execution_count": 19,
   "metadata": {},
   "outputs": [
    {
     "name": "stdout",
     "output_type": "stream",
     "text": [
      "[0 1 2 3 4 5 6 7 8 9]\n"
     ]
    }
   ],
   "source": [
    "arange_array=np.arange(10)\n",
    "print(arange_array)   #0부터 n-1까지의 원소 값을 가지는 배열 생성 "
   ]
  },
  {
   "cell_type": "code",
   "execution_count": 20,
   "metadata": {},
   "outputs": [
    {
     "name": "stdout",
     "output_type": "stream",
     "text": [
      "[ 1  3  5  7  9 11 13 15 17 19]\n"
     ]
    }
   ],
   "source": [
    "arange_array_2=np.arange(1,20,2)\n",
    "print(arange_array_2)   #arange(i,j,k)는 i부터 시작해서 j-1까지 k씩 증가하는 배열 :for문"
   ]
  },
  {
   "cell_type": "code",
   "execution_count": 21,
   "metadata": {},
   "outputs": [
    {
     "name": "stdout",
     "output_type": "stream",
     "text": [
      "[[ 0  1  2  3  4  5]\n",
      " [ 6  7  8  9 10 11]\n",
      " [12 13 14 15 16 17]\n",
      " [18 19 20 21 22 23]\n",
      " [24 25 26 27 28 29]]\n"
     ]
    }
   ],
   "source": [
    "arange_array_3=np.arange(30)\n",
    "reshape_array=arange_array_3.reshape((5,6))\n",
    "\n",
    "print(reshape_array)  #배열 내부의 데이터는 변경하지 않고 배열의 구조를 변경 "
   ]
  },
  {
   "cell_type": "code",
   "execution_count": 22,
   "metadata": {},
   "outputs": [
    {
     "name": "stdout",
     "output_type": "stream",
     "text": [
      "[5 7 9]\n",
      "[5 7 9]\n"
     ]
    }
   ],
   "source": [
    "x = np.array([1,2,3])\n",
    "y = np.array([4,5,6])\n",
    "\n",
    "result = x+y\n",
    "result2= np.add(x,y)\n",
    "\n",
    "print(result)\n",
    "print(result2)   #두 가지 방식 "
   ]
  },
  {
   "cell_type": "code",
   "execution_count": 23,
   "metadata": {},
   "outputs": [
    {
     "name": "stdout",
     "output_type": "stream",
     "text": [
      "[[19 22]\n",
      " [43 50]]\n",
      "[[19 22]\n",
      " [43 50]]\n"
     ]
    }
   ],
   "source": [
    "x = np.array([[1,2],[3,4]])\n",
    "y = np.array([[5,6],[7,8]])\n",
    "\n",
    "result = np.dot(x,y)\n",
    "z = x@y   #행렬 곱 함수형태와 연산자 형태 \n",
    "\n",
    "print(result)\n",
    "print(z)"
   ]
  },
  {
   "cell_type": "code",
   "execution_count": null,
   "metadata": {},
   "outputs": [],
   "source": []
  }
 ],
 "metadata": {
  "interpreter": {
   "hash": "de415b4ccc84710333d4cce7c3157faf7a031aee324e8431b231be5e6b20506c"
  },
  "kernelspec": {
   "display_name": "Python 3.10.2 64-bit",
   "language": "python",
   "name": "python3"
  },
  "language_info": {
   "codemirror_mode": {
    "name": "ipython",
    "version": 3
   },
   "file_extension": ".py",
   "mimetype": "text/x-python",
   "name": "python",
   "nbconvert_exporter": "python",
   "pygments_lexer": "ipython3",
   "version": "3.10.2"
  },
  "orig_nbformat": 4
 },
 "nbformat": 4,
 "nbformat_minor": 2
}
