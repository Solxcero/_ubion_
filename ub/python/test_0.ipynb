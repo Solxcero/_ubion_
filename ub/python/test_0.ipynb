{
 "cells": [
  {
   "cell_type": "code",
   "execution_count": 1,
   "metadata": {},
   "outputs": [
    {
     "name": "stdout",
     "output_type": "stream",
     "text": [
      "score: 55\n",
      "D\n",
      "Finish\n"
     ]
    }
   ],
   "source": [
    "#조건문\n",
    "score = int(input())\n",
    "print(\"score:\", score)\n",
    "\n",
    "if score >= 90 :\n",
    "    print(\"A\")\n",
    "\n",
    "elif score >= 80 :\n",
    "    print(\"B\")\n",
    "\n",
    "elif score >= 70 :\n",
    "    print(\"C\")\n",
    "\n",
    "elif score >= 60 :\n",
    "    print(\"D\")\n",
    "\n",
    "else:\n",
    "    print(\"D\")\n",
    "\n",
    "print(\"Finish\")"
   ]
  },
  {
   "cell_type": "code",
   "execution_count": 6,
   "metadata": {},
   "outputs": [
    {
     "name": "stdout",
     "output_type": "stream",
     "text": [
      "Let's repeat!\n",
      "Let's repeat!\n",
      "Let's repeat!\n",
      "Let's repeat!\n",
      "Let's repeat!\n"
     ]
    }
   ],
   "source": [
    "#반복문\n",
    "\n",
    "for i in range(0,5,1) :\n",
    "    print(\"Let's repeat!\")\n"
   ]
  },
  {
   "cell_type": "code",
   "execution_count": 9,
   "metadata": {},
   "outputs": [
    {
     "name": "stdout",
     "output_type": "stream",
     "text": [
      "0 time(s)\n",
      "1 time(s)\n",
      "2 time(s)\n",
      "3 time(s)\n",
      "4 time(s)\n"
     ]
    }
   ],
   "source": [
    "for i in range(0,5,1) :\n",
    "    print(\"%d time(s)\" %i)"
   ]
  },
  {
   "cell_type": "code",
   "execution_count": 10,
   "metadata": {},
   "outputs": [
    {
     "name": "stdout",
     "output_type": "stream",
     "text": [
      "55\n"
     ]
    }
   ],
   "source": [
    "# 1 부터 10까지 합\n",
    "\n",
    "sum = 0\n",
    "for i in range (1, 11):\n",
    "    sum += i\n",
    "\n",
    "print(sum)"
   ]
  },
  {
   "cell_type": "code",
   "execution_count": 13,
   "metadata": {},
   "outputs": [
    {
     "name": "stdout",
     "output_type": "stream",
     "text": [
      "First i=1, Second j=1\n",
      "First i=1, Second j=2\n",
      "First i=2, Second j=1\n",
      "First i=2, Second j=2\n",
      "First i=3, Second j=1\n",
      "First i=3, Second j=2\n",
      "First i=4, Second j=1\n",
      "First i=4, Second j=2\n"
     ]
    }
   ],
   "source": [
    "# 다중for문\n",
    "\n",
    "for i in range(1,5,1):\n",
    "    for j in range(1,3,1) :\n",
    "        print(\"First i=%d, Second j=%d\" %(i,j))"
   ]
  },
  {
   "cell_type": "code",
   "execution_count": 3,
   "metadata": {},
   "outputs": [
    {
     "name": "stdout",
     "output_type": "stream",
     "text": [
      "55\n"
     ]
    }
   ],
   "source": [
    "#while 문\n",
    "\n",
    "sum = 0\n",
    "i = 1\n",
    "\n",
    "while i < 11:  #while 뒤의 조건식이 거짓이 되기 전까지 반복\n",
    "    sum += i   #  반복 실행할 코드\n",
    "    i += 1   # 변수 = 변수 + 증가값\n",
    "\n",
    "print(sum)"
   ]
  },
  {
   "cell_type": "code",
   "execution_count": 18,
   "metadata": {},
   "outputs": [
    {
     "name": "stdout",
     "output_type": "stream",
     "text": [
      "1 times\n",
      "2 times\n",
      "3 times\n",
      "4 times\n",
      "5 times\n"
     ]
    }
   ],
   "source": [
    "#break 문\n",
    "\n",
    "for i in range(1,100) :\n",
    "    print(\"%d times\" %i)\n",
    "    if i == 5:\n",
    "        break"
   ]
  },
  {
   "cell_type": "code",
   "execution_count": 21,
   "metadata": {},
   "outputs": [
    {
     "name": "stdout",
     "output_type": "stream",
     "text": [
      "Below 500\n",
      "32 is the number you are looking for\n"
     ]
    }
   ],
   "source": [
    "sum = 0   # 합이 n 이상이 되는 숫자\n",
    "n = int(input())\n",
    "print(\"Below %d\" %n)\n",
    "for i in range(1,100):\n",
    "    sum += i\n",
    "    if sum >= n:\n",
    "        break\n",
    "print(\"%d is the number you are looking for\" %i)"
   ]
  },
  {
   "cell_type": "code",
   "execution_count": 22,
   "metadata": {},
   "outputs": [
    {
     "name": "stdout",
     "output_type": "stream",
     "text": [
      "Stop at 9\n"
     ]
    }
   ],
   "source": [
    "#contnue문\n",
    "\n",
    "for i in range(1,10) :\n",
    "    if i <= 3:\n",
    "        continue\n",
    "print(\"Stop at %d\" %i)"
   ]
  },
  {
   "cell_type": "code",
   "execution_count": 23,
   "metadata": {},
   "outputs": [
    {
     "name": "stdout",
     "output_type": "stream",
     "text": [
      "(1, 'hello') (3, 3.14) (1, 'hello', 3, 3.14) (1, 'hello', 1, 'hello', 1, 'hello') (1, 'hello')\n"
     ]
    }
   ],
   "source": [
    "#튜플\n",
    "\n",
    "a =(1, 'hello')\n",
    "b = (3,3.14)\n",
    "c = (a + b)\n",
    "d = a*3\n",
    "e = a\n",
    "\n",
    "print(a,b,c,d,e)"
   ]
  },
  {
   "cell_type": "code",
   "execution_count": 24,
   "metadata": {},
   "outputs": [
    {
     "name": "stdout",
     "output_type": "stream",
     "text": [
      "(2, 3)\n",
      "(1, 2, 3, 4)\n",
      "(1, 2, 3)\n"
     ]
    }
   ],
   "source": [
    "a = (1,2,3,4)\n",
    "\n",
    "print(a[1:3])\n",
    "print(a[0:])\n",
    "print(a[:3])"
   ]
  },
  {
   "cell_type": "code",
   "execution_count": 25,
   "metadata": {},
   "outputs": [
    {
     "name": "stdout",
     "output_type": "stream",
     "text": [
      "[1, 2, 3, 4]\n",
      "1\n",
      "2\n",
      "[1, 2, 3, 4]\n"
     ]
    }
   ],
   "source": [
    "#리스트\n",
    "\n",
    "a = [1,2,3,4]\n",
    "\n",
    "print(a)\n",
    "print(a[0])\n",
    "print(a[1])\n",
    "print(a[0:5])"
   ]
  },
  {
   "cell_type": "code",
   "execution_count": null,
   "metadata": {},
   "outputs": [],
   "source": [
    "# 리스트명.append(값): 리스크 가장 뒤에 항목을 추가\n",
    "# 리스트명.pop(): 리스트 맨 뒤 항목을 삭제\n",
    "# 리스트명.sort(): 리스트 항목을 오름차순으로 정렬\n",
    "# 리스트명.reverse(): 리스트 항목을 역순으로 정렬\n",
    "# 리스트명.index(값): 저장한 값의 위치를 반환\n",
    "# 리스트명.remove(값):리스트에서 지정한 값 삭제\n",
    "# 리스트명.extend(추가할리스트):리스트 위에 새로운 리스트 삽입"
   ]
  },
  {
   "cell_type": "code",
   "execution_count": 29,
   "metadata": {},
   "outputs": [
    {
     "name": "stdout",
     "output_type": "stream",
     "text": [
      "[10, 20, 30, 40] [55, 24, 99, 12]\n"
     ]
    }
   ],
   "source": [
    "a = [20,10,40,30]\n",
    "b = [12,99,24,55]\n",
    "\n",
    "a.sort()\n",
    "b.reverse()\n",
    "\n",
    "print(a,b)"
   ]
  },
  {
   "cell_type": "code",
   "execution_count": 30,
   "metadata": {},
   "outputs": [
    {
     "name": "stdout",
     "output_type": "stream",
     "text": [
      "[20, 30, 40] [55, 24, 99, 12, 22]\n"
     ]
    }
   ],
   "source": [
    "del a[0]\n",
    "b.append(22)\n",
    "\n",
    "print(a,b)"
   ]
  },
  {
   "cell_type": "code",
   "execution_count": 35,
   "metadata": {},
   "outputs": [
    {
     "name": "stdout",
     "output_type": "stream",
     "text": [
      "[1, 2]\n",
      "4\n"
     ]
    }
   ],
   "source": [
    "a = [[1,2],[3,4],[5,6]]\n",
    "print(a[0])\n",
    "print(a[1][1])"
   ]
  },
  {
   "cell_type": "code",
   "execution_count": 42,
   "metadata": {},
   "outputs": [
    {
     "name": "stdout",
     "output_type": "stream",
     "text": [
      "[[3, 4], [5, 6]]\n"
     ]
    }
   ],
   "source": [
    "print(a[1:3])"
   ]
  },
  {
   "cell_type": "code",
   "execution_count": 43,
   "metadata": {},
   "outputs": [
    {
     "name": "stdout",
     "output_type": "stream",
     "text": [
      "[1, 3, 5]\n"
     ]
    }
   ],
   "source": [
    "b=[]\n",
    "for i in range (0,3,1):\n",
    "    b.append(a[i][0])\n",
    "\n",
    "print(b)"
   ]
  },
  {
   "cell_type": "code",
   "execution_count": 45,
   "metadata": {},
   "outputs": [
    {
     "name": "stdout",
     "output_type": "stream",
     "text": [
      "1\n",
      "3\n",
      "5\n"
     ]
    }
   ],
   "source": [
    "for i in range(0,3,1):\n",
    "    print(a[i][0])"
   ]
  },
  {
   "cell_type": "code",
   "execution_count": 46,
   "metadata": {},
   "outputs": [
    {
     "name": "stdout",
     "output_type": "stream",
     "text": [
      "[1, 2, 5, 6]\n"
     ]
    }
   ],
   "source": [
    "c =[]\n",
    "for i in range(0,len(a),2):\n",
    "    c += a[i]\n",
    "print(c)"
   ]
  },
  {
   "cell_type": "code",
   "execution_count": 59,
   "metadata": {},
   "outputs": [
    {
     "name": "stdout",
     "output_type": "stream",
     "text": [
      "{'name': 'test', 'age': 20, 'phone': '01012345678'}\n",
      "test\n"
     ]
    }
   ],
   "source": [
    "# 딕셔너리\n",
    "\n",
    "a = {\"name\":\"test\", \"age\":20, \"phone\":\"01012345678\"}\n",
    "print(a)\n",
    "print(a[\"name\"])"
   ]
  },
  {
   "cell_type": "code",
   "execution_count": 60,
   "metadata": {},
   "outputs": [
    {
     "name": "stdout",
     "output_type": "stream",
     "text": [
      "{'name': 'test', 'age': 20, 'phone': '01012345678', 'area': 'Seoul'}\n"
     ]
    }
   ],
   "source": [
    "a[\"area\"] = \"Seoul\"\n",
    "print(a)"
   ]
  },
  {
   "cell_type": "code",
   "execution_count": 65,
   "metadata": {},
   "outputs": [
    {
     "name": "stdout",
     "output_type": "stream",
     "text": [
      "dict_values(['test', 20, '01012345678', 'Seoul'])\n",
      "dict_keys(['name', 'age', 'phone', 'area'])\n",
      "['name', 'age', 'phone', 'area']\n",
      "dict_items([('name', 'test'), ('age', 20), ('phone', '01012345678'), ('area', 'Seoul')])\n"
     ]
    }
   ],
   "source": [
    "print(a.values())\n",
    "print(a.keys())\n",
    "print(list(a.keys()))\n",
    "print(a.items())"
   ]
  },
  {
   "cell_type": "code",
   "execution_count": 67,
   "metadata": {},
   "outputs": [
    {
     "name": "stdout",
     "output_type": "stream",
     "text": [
      "{'name': 'test', 'age': 25, 'phone': '01012345678', 'area': 'Seoul'}\n"
     ]
    }
   ],
   "source": [
    "a[\"age\"] = 25\n",
    "print(a)"
   ]
  },
  {
   "cell_type": "code",
   "execution_count": 68,
   "metadata": {},
   "outputs": [
    {
     "name": "stdout",
     "output_type": "stream",
     "text": [
      "{'name': 'test', 'age': 25, 'area': 'Seoul'}\n"
     ]
    }
   ],
   "source": [
    "del(a[\"phone\"])\n",
    "print(a)"
   ]
  },
  {
   "cell_type": "code",
   "execution_count": 72,
   "metadata": {},
   "outputs": [
    {
     "name": "stdout",
     "output_type": "stream",
     "text": [
      "H_e_l_l_o_"
     ]
    }
   ],
   "source": [
    "#문자열\n",
    "a = 'Hello'\n",
    "a_len = len(a)\n",
    "\n",
    "for i in range(0,a_len):\n",
    "    print(a[i]+\"_\",end=\"\")  #end=\" \" 해주면 일렬로 출력\n"
   ]
  },
  {
   "cell_type": "code",
   "execution_count": 76,
   "metadata": {},
   "outputs": [
    {
     "name": "stdout",
     "output_type": "stream",
     "text": [
      "  Hola Sol  \n",
      "Hola Sol  \n",
      "  Hola Sol\n",
      "Hola Sol\n"
     ]
    }
   ],
   "source": [
    "b = \"  Hola Sol  \"\n",
    "print(b)\n",
    "print(b.lstrip())\n",
    "print(b.rstrip())\n",
    "print(b.strip())"
   ]
  },
  {
   "cell_type": "code",
   "execution_count": 77,
   "metadata": {},
   "outputs": [
    {
     "name": "stdout",
     "output_type": "stream",
     "text": [
      "  Hola Cero  \n"
     ]
    }
   ],
   "source": [
    "print(b.replace(\"Sol\",\"Cero\"))"
   ]
  },
  {
   "cell_type": "code",
   "execution_count": 78,
   "metadata": {},
   "outputs": [
    {
     "name": "stdout",
     "output_type": "stream",
     "text": [
      "['Hola', 'Sol']\n"
     ]
    }
   ],
   "source": [
    "print(b.split())"
   ]
  },
  {
   "cell_type": "code",
   "execution_count": 79,
   "metadata": {},
   "outputs": [
    {
     "name": "stdout",
     "output_type": "stream",
     "text": [
      "a,b,c,1\n",
      "['a,b,c,1']\n"
     ]
    }
   ],
   "source": [
    "c = \"a,b,c,1\"\n",
    "print(c)\n",
    "print(c.split())"
   ]
  },
  {
   "cell_type": "code",
   "execution_count": 4,
   "metadata": {},
   "outputs": [
    {
     "name": "stdout",
     "output_type": "stream",
     "text": [
      "2\n",
      "2\n",
      "1\n"
     ]
    }
   ],
   "source": [
    "a = (1,2,3,4)\n",
    "b = [1,2,3,4]\n",
    "c = {1:'1', 2:'2', 3:'3'}\n",
    "\n",
    "print(a[1])\n",
    "print(b[1])\n",
    "print(c[1])"
   ]
  },
  {
   "cell_type": "code",
   "execution_count": 21,
   "metadata": {},
   "outputs": [],
   "source": [
    "import pandas as pd"
   ]
  },
  {
   "cell_type": "code",
   "execution_count": 59,
   "metadata": {},
   "outputs": [
    {
     "name": "stdout",
     "output_type": "stream",
     "text": [
      "0                     test                         ...\n",
      "Name: name, dtype: object\n"
     ]
    }
   ],
   "source": [
    "a = [{\"name\":\"                 test                                                  \",\"age\":20 }]\n",
    "b = pd.DataFrame(a)\n",
    "print(b[\"name\"])\n"
   ]
  },
  {
   "cell_type": "code",
   "execution_count": 30,
   "metadata": {},
   "outputs": [],
   "source": [
    "import numpy as np"
   ]
  },
  {
   "cell_type": "code",
   "execution_count": 43,
   "metadata": {},
   "outputs": [
    {
     "data": {
      "text/plain": [
       "array([[0.70362887, 0.29624686],\n",
       "       [0.63542055, 0.29688319],\n",
       "       [0.64863765, 0.64372816],\n",
       "       [0.88402815, 0.04661856],\n",
       "       [0.13009644, 0.93865292],\n",
       "       [0.15908526, 0.48271713],\n",
       "       [0.44780039, 0.75992639],\n",
       "       [0.54352283, 0.28684418],\n",
       "       [0.89090271, 0.27363387],\n",
       "       [0.71759336, 0.2362205 ]])"
      ]
     },
     "execution_count": 43,
     "metadata": {},
     "output_type": "execute_result"
    }
   ],
   "source": [
    "n_a = np.random.random((10,2))\n",
    "n_a"
   ]
  },
  {
   "cell_type": "code",
   "execution_count": 40,
   "metadata": {},
   "outputs": [
    {
     "data": {
      "text/plain": [
       "array([[0.5202934 , 0.        ],\n",
       "       [0.23847225, 0.        ],\n",
       "       [0.86597422, 1.        ],\n",
       "       [0.21814988, 0.        ],\n",
       "       [0.93083058, 0.        ],\n",
       "       [0.67277821, 0.        ],\n",
       "       [0.94973432, 0.        ],\n",
       "       [0.66298542, 0.        ],\n",
       "       [0.3387561 , 0.        ],\n",
       "       [0.54567975, 1.        ]])"
      ]
     },
     "execution_count": 40,
     "metadata": {},
     "output_type": "execute_result"
    }
   ],
   "source": [
    "for i in range(len(n_a)):\n",
    "    if n_a[i][1] > 0.5:\n",
    "        n_a[i][1] = 1\n",
    "\n",
    "    else:\n",
    "        n_a[i][1] = 0\n",
    "n_a"
   ]
  },
  {
   "cell_type": "code",
   "execution_count": 41,
   "metadata": {},
   "outputs": [],
   "source": [
    "import pandas as pd"
   ]
  },
  {
   "cell_type": "code",
   "execution_count": 45,
   "metadata": {},
   "outputs": [
    {
     "data": {
      "text/html": [
       "<div>\n",
       "<style scoped>\n",
       "    .dataframe tbody tr th:only-of-type {\n",
       "        vertical-align: middle;\n",
       "    }\n",
       "\n",
       "    .dataframe tbody tr th {\n",
       "        vertical-align: top;\n",
       "    }\n",
       "\n",
       "    .dataframe thead th {\n",
       "        text-align: right;\n",
       "    }\n",
       "</style>\n",
       "<table border=\"1\" class=\"dataframe\">\n",
       "  <thead>\n",
       "    <tr style=\"text-align: right;\">\n",
       "      <th></th>\n",
       "      <th>0</th>\n",
       "      <th>1</th>\n",
       "    </tr>\n",
       "  </thead>\n",
       "  <tbody>\n",
       "    <tr>\n",
       "      <th>0</th>\n",
       "      <td>0.703629</td>\n",
       "      <td>0.296247</td>\n",
       "    </tr>\n",
       "    <tr>\n",
       "      <th>1</th>\n",
       "      <td>0.635421</td>\n",
       "      <td>0.296883</td>\n",
       "    </tr>\n",
       "    <tr>\n",
       "      <th>2</th>\n",
       "      <td>0.648638</td>\n",
       "      <td>0.643728</td>\n",
       "    </tr>\n",
       "    <tr>\n",
       "      <th>3</th>\n",
       "      <td>0.884028</td>\n",
       "      <td>0.046619</td>\n",
       "    </tr>\n",
       "    <tr>\n",
       "      <th>4</th>\n",
       "      <td>0.130096</td>\n",
       "      <td>0.938653</td>\n",
       "    </tr>\n",
       "    <tr>\n",
       "      <th>5</th>\n",
       "      <td>0.159085</td>\n",
       "      <td>0.482717</td>\n",
       "    </tr>\n",
       "    <tr>\n",
       "      <th>6</th>\n",
       "      <td>0.447800</td>\n",
       "      <td>0.759926</td>\n",
       "    </tr>\n",
       "    <tr>\n",
       "      <th>7</th>\n",
       "      <td>0.543523</td>\n",
       "      <td>0.286844</td>\n",
       "    </tr>\n",
       "    <tr>\n",
       "      <th>8</th>\n",
       "      <td>0.890903</td>\n",
       "      <td>0.273634</td>\n",
       "    </tr>\n",
       "    <tr>\n",
       "      <th>9</th>\n",
       "      <td>0.717593</td>\n",
       "      <td>0.236221</td>\n",
       "    </tr>\n",
       "  </tbody>\n",
       "</table>\n",
       "</div>"
      ],
      "text/plain": [
       "          0         1\n",
       "0  0.703629  0.296247\n",
       "1  0.635421  0.296883\n",
       "2  0.648638  0.643728\n",
       "3  0.884028  0.046619\n",
       "4  0.130096  0.938653\n",
       "5  0.159085  0.482717\n",
       "6  0.447800  0.759926\n",
       "7  0.543523  0.286844\n",
       "8  0.890903  0.273634\n",
       "9  0.717593  0.236221"
      ]
     },
     "execution_count": 45,
     "metadata": {},
     "output_type": "execute_result"
    }
   ],
   "source": [
    "dt = pd.DataFrame(n_a)\n",
    "dt"
   ]
  },
  {
   "cell_type": "code",
   "execution_count": 52,
   "metadata": {},
   "outputs": [
    {
     "data": {
      "text/plain": [
       "0    0.0\n",
       "1    0.0\n",
       "2    1.0\n",
       "3    0.0\n",
       "4    1.0\n",
       "5    0.0\n",
       "6    1.0\n",
       "7    0.0\n",
       "8    0.0\n",
       "9    0.0\n",
       "Name: 1, dtype: float64"
      ]
     },
     "execution_count": 52,
     "metadata": {},
     "output_type": "execute_result"
    }
   ],
   "source": [
    "dt[1].round(0)  #반올림 조건이니까 "
   ]
  },
  {
   "cell_type": "code",
   "execution_count": 53,
   "metadata": {},
   "outputs": [
    {
     "data": {
      "text/plain": [
       "0    0\n",
       "1    0\n",
       "2    1\n",
       "3    0\n",
       "4    1\n",
       "5    0\n",
       "6    1\n",
       "7    0\n",
       "8    0\n",
       "9    0\n",
       "Name: 1, dtype: int64"
      ]
     },
     "execution_count": 53,
     "metadata": {},
     "output_type": "execute_result"
    }
   ],
   "source": [
    "#apply(lambda, def)\n",
    "\n",
    "dt[1].apply(lambda x : 1 if(x>0.5) else 0)"
   ]
  },
  {
   "cell_type": "code",
   "execution_count": 55,
   "metadata": {},
   "outputs": [
    {
     "data": {
      "text/plain": [
       "0    0\n",
       "1    0\n",
       "2    1\n",
       "3    0\n",
       "4    1\n",
       "5    0\n",
       "6    1\n",
       "7    0\n",
       "8    0\n",
       "9    0\n",
       "Name: 1, dtype: int64"
      ]
     },
     "execution_count": 55,
     "metadata": {},
     "output_type": "execute_result"
    }
   ],
   "source": [
    "def _round(x):\n",
    "    if x > 0.5:\n",
    "        return 1\n",
    "\n",
    "    else:\n",
    "        return 0\n",
    "\n",
    "dt[1].apply(_round)"
   ]
  }
 ],
 "metadata": {
  "interpreter": {
   "hash": "de415b4ccc84710333d4cce7c3157faf7a031aee324e8431b231be5e6b20506c"
  },
  "kernelspec": {
   "display_name": "Python 3.10.2 64-bit",
   "language": "python",
   "name": "python3"
  },
  "language_info": {
   "codemirror_mode": {
    "name": "ipython",
    "version": 3
   },
   "file_extension": ".py",
   "mimetype": "text/x-python",
   "name": "python",
   "nbconvert_exporter": "python",
   "pygments_lexer": "ipython3",
   "version": "3.10.2"
  },
  "orig_nbformat": 4
 },
 "nbformat": 4,
 "nbformat_minor": 2
}
