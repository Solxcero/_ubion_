{
 "cells": [
  {
   "cell_type": "code",
   "execution_count": 1,
   "metadata": {},
   "outputs": [],
   "source": [
    "class Class_1():\n",
    "    def func_1(self):\n",
    "        print(\"Hello World\")"
   ]
  },
  {
   "cell_type": "code",
   "execution_count": 4,
   "metadata": {},
   "outputs": [
    {
     "name": "stdout",
     "output_type": "stream",
     "text": [
      "Hello World\n"
     ]
    }
   ],
   "source": [
    "a = Class_1()\n",
    "a.func_1()   #라이브러리 불러 올 때와 유사 "
   ]
  },
  {
   "cell_type": "code",
   "execution_count": null,
   "metadata": {},
   "outputs": [],
   "source": [
    "class Class_2():\n",
    "    def func_2():  #self 넣어줘야 함.\n",
    "        print(\"Hello World\")\n",
    "b = Class_2()    #b가 인자값됨. \n",
    "b.func_2()      #에러"
   ]
  },
  {
   "cell_type": "code",
   "execution_count": 11,
   "metadata": {},
   "outputs": [
    {
     "name": "stdout",
     "output_type": "stream",
     "text": [
      "test test2\n"
     ]
    }
   ],
   "source": [
    "class Class_3():\n",
    "    def __init__(self, input_a, input_b):  #생성 실행 같이 \n",
    "        self.a = input_a\n",
    "        self.b = input_b\n",
    "\n",
    "c =  Class_3(\"test\",\"test2\")\n",
    "print(c.a,c.b)\n"
   ]
  },
  {
   "cell_type": "code",
   "execution_count": 12,
   "metadata": {},
   "outputs": [],
   "source": [
    "d = Class_3(\"test3\",\"test4\")"
   ]
  },
  {
   "cell_type": "code",
   "execution_count": 15,
   "metadata": {},
   "outputs": [
    {
     "name": "stdout",
     "output_type": "stream",
     "text": [
      "test3 test test4 test2\n"
     ]
    }
   ],
   "source": [
    "print(d.a, c.a, d.b, c.b)  #c랑 d는 별개 "
   ]
  },
  {
   "cell_type": "code",
   "execution_count": 16,
   "metadata": {},
   "outputs": [
    {
     "data": {
      "text/plain": [
       "2402992329264"
      ]
     },
     "execution_count": 16,
     "metadata": {},
     "output_type": "execute_result"
    }
   ],
   "source": [
    "#주소출력 함수\n",
    "id(c.a)"
   ]
  },
  {
   "cell_type": "code",
   "execution_count": 17,
   "metadata": {},
   "outputs": [
    {
     "data": {
      "text/plain": [
       "2400923809904"
      ]
     },
     "execution_count": 17,
     "metadata": {},
     "output_type": "execute_result"
    }
   ],
   "source": [
    "id(c.b)"
   ]
  },
  {
   "cell_type": "code",
   "execution_count": 18,
   "metadata": {},
   "outputs": [
    {
     "data": {
      "text/plain": [
       "2400919895728"
      ]
     },
     "execution_count": 18,
     "metadata": {},
     "output_type": "execute_result"
    }
   ],
   "source": [
    "id(d.a)   #같은 곳에 있지 않음 => 클래스 변수 아님"
   ]
  },
  {
   "cell_type": "code",
   "execution_count": 2,
   "metadata": {},
   "outputs": [],
   "source": [
    "#클래스 변수 선언 \n",
    "class Class_4():\n",
    "\n",
    "    name = \"test\"  #self 안하는 이유 : 클래스 기본설정\n",
    "\n",
    "    def __init__(self, input_c):  #초기 생성 -> 초기화 \n",
    "        self.c = input_c\n",
    "\n",
    "a = Class_4(\"123\")\n",
    "b = Class_4(\"456\")\n",
    "c = Class_4(\"789\")\n",
    "  "
   ]
  },
  {
   "cell_type": "code",
   "execution_count": 4,
   "metadata": {},
   "outputs": [
    {
     "name": "stdout",
     "output_type": "stream",
     "text": [
      "test test test\n",
      "123 456 789\n",
      "2260243976752\n",
      "2260243976752\n",
      "2260310799152\n",
      "2260319173296\n",
      "2260319168944\n"
     ]
    }
   ],
   "source": [
    "print(a.name, b.name, c.name)\n",
    "print(a.c, b.c, c.c)\n",
    "\n",
    "print(id(a.name))   # 위치 파악 \n",
    "print(id(b.name))\n",
    "print(id(a.c))\n",
    "print(id(b.c))\n",
    "print(id(c.c))"
   ]
  },
  {
   "cell_type": "code",
   "execution_count": 22,
   "metadata": {},
   "outputs": [
    {
     "name": "stdout",
     "output_type": "stream",
     "text": [
      "['01064960789', '01012345678'] ['01031269994', '01000000000']\n"
     ]
    }
   ],
   "source": [
    "#_list를 공유변수가 아닌 독립적인 변수로 만들기 \n",
    "class Class_5():    \n",
    "    #_list =[] -> 여기다 쓰면 공유변수됨 -append다 합쳐짐\n",
    "    def __init__(self, input_name):\n",
    "        \n",
    "        self.name = input_name\n",
    "        self._list = []  \n",
    "\n",
    "    def add_list(self, input_phone):\n",
    "                \n",
    "        self._list.append(input_phone)\n",
    "\n",
    "d = Class_5(\"test\")\n",
    "e = Class_5(\"test2\")\n",
    "d.add_list(\"01064960789\")\n",
    "e.add_list(\"01031269994\")\n",
    "d.add_list(\"01012345678\")\n",
    "e.add_list(\"01000000000\")\n",
    "print(d._list, e._list)"
   ]
  },
  {
   "cell_type": "code",
   "execution_count": 43,
   "metadata": {},
   "outputs": [
    {
     "name": "stdout",
     "output_type": "stream",
     "text": [
      "test test2\n"
     ]
    }
   ],
   "source": [
    "print(d.name, e.name)"
   ]
  },
  {
   "cell_type": "code",
   "execution_count": 47,
   "metadata": {},
   "outputs": [],
   "source": [
    "d.add_list(\"0000\")"
   ]
  },
  {
   "cell_type": "code",
   "execution_count": 50,
   "metadata": {},
   "outputs": [
    {
     "name": "stdout",
     "output_type": "stream",
     "text": [
      "['01064960789', '01012345678', '0000']\n"
     ]
    }
   ],
   "source": [
    "print(d._list)"
   ]
  },
  {
   "cell_type": "code",
   "execution_count": 2,
   "metadata": {},
   "outputs": [
    {
     "data": {
      "text/plain": [
       "2"
      ]
     },
     "execution_count": 2,
     "metadata": {},
     "output_type": "execute_result"
    }
   ],
   "source": [
    "sum = 0\n",
    "def add(x):\n",
    "    global sum\n",
    "    sum += x\n",
    "    return sum\n",
    "add(2)"
   ]
  },
  {
   "cell_type": "code",
   "execution_count": 3,
   "metadata": {},
   "outputs": [
    {
     "name": "stdout",
     "output_type": "stream",
     "text": [
      "3\n",
      "4\n",
      "8\n"
     ]
    }
   ],
   "source": [
    "sum_1 = 0\n",
    "sum_2 = 0\n",
    "def add_1(x):\n",
    "    global sum_1\n",
    "    sum_1 += x\n",
    "    return sum_1\n",
    "def add_2(x):\n",
    "    global sum_2\n",
    "    sum_2 += x\n",
    "    return sum_2\n",
    "\n",
    "print(add_1(3))\n",
    "print(add_2(4))\n",
    "print(add_1(5))"
   ]
  },
  {
   "cell_type": "code",
   "execution_count": 4,
   "metadata": {},
   "outputs": [
    {
     "name": "stdout",
     "output_type": "stream",
     "text": [
      "4\n",
      "5\n",
      "9\n",
      "12\n"
     ]
    }
   ],
   "source": [
    "#누적합\n",
    "class Class_6():\n",
    "    def __init__(self):\n",
    "        self._sum =0  #독립적인 변수 생성 \n",
    "\n",
    "    def add(self, input_x):\n",
    "        self._sum += input_x\n",
    "        return self._sum\n",
    "\n",
    "a = Class_6()\n",
    "b = Class_6()\n",
    "\n",
    "print(a.add(4))\n",
    "print(b.add(5))\n",
    "print(a.add(5))\n",
    "print(b.add(7))"
   ]
  },
  {
   "cell_type": "code",
   "execution_count": 6,
   "metadata": {},
   "outputs": [
    {
     "name": "stdout",
     "output_type": "stream",
     "text": [
      "4\n"
     ]
    }
   ],
   "source": [
    "class Class_7():\n",
    "    def __init__(self):\n",
    "        self._sum =0\n",
    "\n",
    "    def add(self, input_x):\n",
    "        self._sum += input_x\n",
    "        \n",
    "\n",
    "a = Class_7()\n",
    "b = Class_7()\n",
    "a.add(4)\n",
    "print(a._sum)"
   ]
  },
  {
   "cell_type": "code",
   "execution_count": null,
   "metadata": {},
   "outputs": [],
   "source": [
    "# Class 생성 - 초기에 인자값 2개를 입력 받아서 변수 2개 값 지정\n",
    "# 첫번째 함수 변수 2개의 값을 변경하는 함수\n",
    "# 이 후에 5개의 함수는 변수 2개의 + - * / % 의 함수를 생성\n",
    "# 7개의 함수 다 실행 "
   ]
  },
  {
   "cell_type": "code",
   "execution_count": 18,
   "metadata": {},
   "outputs": [
    {
     "name": "stdout",
     "output_type": "stream",
     "text": [
      "10\n",
      "4\n",
      "21\n",
      "2.3333333333333335\n",
      "1\n"
     ]
    }
   ],
   "source": [
    "class Class_8():  # 사칙연산 부분 함수 하나로 나타내보기!!\n",
    "   \n",
    "    def __init__(self, input_a, input_b):\n",
    "        #클래스 생성 되고 인자 값 2개를 변수 2개에 지정해는 과정\n",
    "        self.a = input_a\n",
    "        self.b = input_b\n",
    "        \n",
    "    \n",
    "    def change(self, input_a, input_b):\n",
    "        #init 함수 안의 변수 값 2개 변경 하는 함수 \n",
    "        self.a = input_a\n",
    "        self.b = input_b\n",
    "\n",
    "    def sum(self):\n",
    "        return self.a + self.b\n",
    "\n",
    "    def sub(self):\n",
    "        self._sub = self.a - self.b\n",
    "        return self._sub\n",
    "\n",
    "    def mul(self):        \n",
    "        return self.a * self.b\n",
    "       \n",
    "    def div(self):\n",
    "        if self.b == 0:\n",
    "            return 0\n",
    "            \n",
    "        else:\n",
    "            return self.a / self.b\n",
    "\n",
    "    def rem(self):\n",
    "        if self.b == 0:\n",
    "            return 0\n",
    "            \n",
    "        else:\n",
    "            return self.a % self.b\n",
    "\n",
    "\n",
    "cal = Class_8(7,3)\n",
    "print(cal.sum())\n",
    "print(cal.sub())\n",
    "print(cal.mul())\n",
    "print(cal.div())\n",
    "print(cal.rem())\n"
   ]
  },
  {
   "cell_type": "code",
   "execution_count": 19,
   "metadata": {},
   "outputs": [
    {
     "name": "stdout",
     "output_type": "stream",
     "text": [
      "2\n",
      "2\n",
      "0\n",
      "0\n",
      "0\n"
     ]
    }
   ],
   "source": [
    "cal.change(2,0)   # 0에 입력하면 에러남.- 나누기에서\n",
    "print(cal.sum())\n",
    "print(cal.sub())\n",
    "print(cal.mul())\n",
    "print(cal.div())\n",
    "print(cal.rem())\n"
   ]
  },
  {
   "cell_type": "code",
   "execution_count": null,
   "metadata": {},
   "outputs": [],
   "source": [
    "# class 밑변의 길이, 높이 인자값으로 넣어주는 클래스 생성\n",
    "# 삼각형일때 넓이, 사각형일 때 넓이 구하는 함수\n",
    "# 함수는 init 을 제외한 단 1개의 함수로 구성 \n",
    "# 인자값에서 삼각형의 넓이인지 사각형의 넓이인지 지정"
   ]
  },
  {
   "cell_type": "code",
   "execution_count": 24,
   "metadata": {},
   "outputs": [
    {
     "name": "stdout",
     "output_type": "stream",
     "text": [
      "6.0\n",
      "12\n"
     ]
    }
   ],
   "source": [
    "class Class_9():  # a: width , b:height\n",
    "    def __init__(self, input_a, input_b):\n",
    "        self.a = input_a\n",
    "        self.b = input_b\n",
    "        \n",
    "\n",
    "    def area(self,input_c):\n",
    "        if input_c == 3:\n",
    "            return self.a*self.b/2\n",
    "        elif input_c == 4:\n",
    "            return self.a*self.b\n",
    "        else:\n",
    "            return \"Not Valid\"\n",
    "\n",
    "sh = Class_9(3,4)\n",
    "print(sh.area(3))\n",
    "print(sh.area(4))"
   ]
  },
  {
   "cell_type": "code",
   "execution_count": 25,
   "metadata": {},
   "outputs": [
    {
     "data": {
      "text/plain": [
       "6.0"
      ]
     },
     "execution_count": 25,
     "metadata": {},
     "output_type": "execute_result"
    }
   ],
   "source": [
    "sh.area(3)"
   ]
  },
  {
   "cell_type": "code",
   "execution_count": 29,
   "metadata": {},
   "outputs": [
    {
     "name": "stdout",
     "output_type": "stream",
     "text": [
      "[18.84, 28.26]\n"
     ]
    }
   ],
   "source": [
    "#원의 넓이(파이 r^2)/원의 둘레(2파이r)   // 인자값과 매개변수 이해 제대로 하기 \n",
    "\n",
    "class Class_10():\n",
    "    _pie = 3.14\n",
    "    def cir(self,r):       \n",
    "        self.result = []\n",
    "        self.result.append(self._pie*r*2)\n",
    "        self.result.append(self._pie*(r**2))\n",
    "        return self.result\n",
    "\n",
    "a = Class_10()\n",
    "print(a.cir(3))\n"
   ]
  },
  {
   "cell_type": "code",
   "execution_count": 37,
   "metadata": {},
   "outputs": [
    {
     "name": "stdout",
     "output_type": "stream",
     "text": [
      "[15.42, 14.13]\n",
      "[18.84, 28.26]\n",
      "[18.84, 28.26]\n"
     ]
    }
   ],
   "source": [
    "#상속: 기능도 받아오고 클래스 변수도 받아오고 \n",
    "class Class_11(Class_10):    \n",
    "    def __init__(self, input_r):\n",
    "        self.r = input_r\n",
    "\n",
    "     #둘레,넓이 구하는 공식    \n",
    "    def half(self):\n",
    "         self.result =[]\n",
    "         self.result.append(self._pie*self.r+2*self.r)\n",
    "         self.result.append(self._pie*(self.r**2)/2)\n",
    "         return self.result\n",
    "\n",
    "# 상속해서 함수 변경  인자값을 안써도 된다?\n",
    "    def cir(self):\n",
    "        self.result = []\n",
    "        self.result.append(2*self._pie*self.r)\n",
    "        self.result.append(self._pie*(self.r**2))\n",
    "        return self.result\n",
    "\n",
    "\n",
    "\n",
    "b = Class_11(3)\n",
    "print(b.half())\n",
    "print(b.cir())  #Class_10에서 기능 불러옴\n",
    "print(a.cir(3))"
   ]
  },
  {
   "cell_type": "code",
   "execution_count": 35,
   "metadata": {},
   "outputs": [
    {
     "name": "stdout",
     "output_type": "stream",
     "text": [
      "[18.84, 28.26]\n"
     ]
    }
   ],
   "source": [
    "print(b.cir(3))"
   ]
  },
  {
   "cell_type": "code",
   "execution_count": null,
   "metadata": {},
   "outputs": [],
   "source": []
  }
 ],
 "metadata": {
  "interpreter": {
   "hash": "de415b4ccc84710333d4cce7c3157faf7a031aee324e8431b231be5e6b20506c"
  },
  "kernelspec": {
   "display_name": "Python 3.10.2 64-bit",
   "language": "python",
   "name": "python3"
  },
  "language_info": {
   "codemirror_mode": {
    "name": "ipython",
    "version": 3
   },
   "file_extension": ".py",
   "mimetype": "text/x-python",
   "name": "python",
   "nbconvert_exporter": "python",
   "pygments_lexer": "ipython3",
   "version": "3.10.2"
  },
  "orig_nbformat": 4
 },
 "nbformat": 4,
 "nbformat_minor": 2
}
