{
 "cells": [
  {
   "cell_type": "code",
   "execution_count": 1,
   "metadata": {},
   "outputs": [],
   "source": [
    "from pymongo import MongoClient"
   ]
  },
  {
   "cell_type": "code",
   "execution_count": 2,
   "metadata": {},
   "outputs": [],
   "source": [
    "client = MongoClient(\n",
    "    host = 'localhost',\n",
    "    port = 27017\n",
    ")  #클래스에 인자값 넣어주는 개념입니다~"
   ]
  },
  {
   "cell_type": "code",
   "execution_count": 3,
   "metadata": {},
   "outputs": [
    {
     "data": {
      "text/plain": [
       "['admin', 'config', 'local', 'test_database', 'ubion']"
      ]
     },
     "execution_count": 3,
     "metadata": {},
     "output_type": "execute_result"
    }
   ],
   "source": [
    "client.list_database_names()  #show.dbs"
   ]
  },
  {
   "cell_type": "code",
   "execution_count": 4,
   "metadata": {},
   "outputs": [
    {
     "data": {
      "text/plain": [
       "[{'_id': ObjectId('62328e7e77d05738d621314c'),\n",
       "  'name': 'test',\n",
       "  'phone': '01012345678'},\n",
       " {'_id': ObjectId('6232905f77d05738d621314e'), 'loc': 'Seoul'},\n",
       " {'_id': ObjectId('6232905f77d05738d621314f'),\n",
       "  'gender': 'male',\n",
       "  'age': 20.0,\n",
       "  'hobby': 'soccer'},\n",
       " {'_id': ObjectId('6232919b77d05738d6213150'), 'name': 'test2', 'age': 25.0},\n",
       " {'_id': ObjectId('6232981b61d23334044e7618'), '1': '1', '2': '2', '3': '3'},\n",
       " {'_id': ObjectId('6232999e61d23334044e7619'), 'a': 'a', 'b': 'b'},\n",
       " {'_id': ObjectId('6232999e61d23334044e761a'), 'c': 'c', 'd': 'd'}]"
      ]
     },
     "execution_count": 4,
     "metadata": {},
     "output_type": "execute_result"
    }
   ],
   "source": [
    "db = client[\"ubion\"]\n",
    "list(db[\"test\"].find())  # test collection을 리스트로 보여주기 . find가 메소드 역할 \n",
    "#list(db.test.find())"
   ]
  },
  {
   "cell_type": "code",
   "execution_count": 5,
   "metadata": {},
   "outputs": [
    {
     "data": {
      "text/plain": [
       "<pymongo.results.InsertOneResult at 0x21b61a80300>"
      ]
     },
     "execution_count": 5,
     "metadata": {},
     "output_type": "execute_result"
    }
   ],
   "source": [
    "data = {\n",
    "    \"1\" :\"1\",\n",
    "    \"2\" :\"2\",\n",
    "    \"3\" : \"3\"\n",
    "}\n",
    "\n",
    "db.test.insert_one(data)"
   ]
  },
  {
   "cell_type": "code",
   "execution_count": 6,
   "metadata": {},
   "outputs": [
    {
     "data": {
      "text/plain": [
       "<pymongo.results.InsertManyResult at 0x21b6158d240>"
      ]
     },
     "execution_count": 6,
     "metadata": {},
     "output_type": "execute_result"
    }
   ],
   "source": [
    "data_2 = [{\n",
    "    \"a\":\"a\",\n",
    "    \"b\":\"b\"\n",
    "},{\n",
    "    \"c\":\"c\",\n",
    "    \"d\":\"d\"\n",
    "}]\n",
    "\n",
    "db.test.insert_many(data_2)"
   ]
  },
  {
   "cell_type": "code",
   "execution_count": 7,
   "metadata": {},
   "outputs": [
    {
     "data": {
      "text/plain": [
       "[{'_id': ObjectId('62328e7e77d05738d621314c'),\n",
       "  'name': 'test',\n",
       "  'phone': '01012345678'},\n",
       " {'_id': ObjectId('6232905f77d05738d621314e'), 'loc': 'Seoul'},\n",
       " {'_id': ObjectId('6232905f77d05738d621314f'),\n",
       "  'gender': 'male',\n",
       "  'age': 20.0,\n",
       "  'hobby': 'soccer'},\n",
       " {'_id': ObjectId('6232919b77d05738d6213150'), 'name': 'test2', 'age': 25.0},\n",
       " {'_id': ObjectId('6232981b61d23334044e7618'), '1': '1', '2': '2', '3': '3'},\n",
       " {'_id': ObjectId('6232999e61d23334044e7619'), 'a': 'a', 'b': 'b'},\n",
       " {'_id': ObjectId('6232999e61d23334044e761a'), 'c': 'c', 'd': 'd'},\n",
       " {'_id': ObjectId('6233d7cf848b5387ecbb9a5f'), '1': '1', '2': '2', '3': '3'},\n",
       " {'_id': ObjectId('6233d7cf848b5387ecbb9a60'), 'a': 'a', 'b': 'b'},\n",
       " {'_id': ObjectId('6233d7cf848b5387ecbb9a61'), 'c': 'c', 'd': 'd'}]"
      ]
     },
     "execution_count": 7,
     "metadata": {},
     "output_type": "execute_result"
    }
   ],
   "source": [
    "list(db.test.find())"
   ]
  },
  {
   "cell_type": "code",
   "execution_count": 8,
   "metadata": {},
   "outputs": [],
   "source": [
    "import m_sql"
   ]
  },
  {
   "cell_type": "code",
   "execution_count": 9,
   "metadata": {},
   "outputs": [],
   "source": [
    "import pandas as pd"
   ]
  },
  {
   "cell_type": "code",
   "execution_count": 10,
   "metadata": {},
   "outputs": [
    {
     "ename": "OperationalError",
     "evalue": "(2003, \"Can't connect to MySQL server on 'darkpreist.iptime.org' (timed out)\")",
     "output_type": "error",
     "traceback": [
      "\u001b[1;31m---------------------------------------------------------------------------\u001b[0m",
      "\u001b[1;31mTimeoutError\u001b[0m                              Traceback (most recent call last)",
      "File \u001b[1;32m~\\AppData\\Local\\Programs\\Python\\Python310\\lib\\site-packages\\pymysql\\connections.py:613\u001b[0m, in \u001b[0;36mConnection.connect\u001b[1;34m(self, sock)\u001b[0m\n\u001b[0;32m    <a href='file:///c%3A/Users/rumbi/AppData/Local/Programs/Python/Python310/lib/site-packages/pymysql/connections.py?line=611'>612</a>\u001b[0m \u001b[39mtry\u001b[39;00m:\n\u001b[1;32m--> <a href='file:///c%3A/Users/rumbi/AppData/Local/Programs/Python/Python310/lib/site-packages/pymysql/connections.py?line=612'>613</a>\u001b[0m     sock \u001b[39m=\u001b[39m socket\u001b[39m.\u001b[39mcreate_connection(\n\u001b[0;32m    <a href='file:///c%3A/Users/rumbi/AppData/Local/Programs/Python/Python310/lib/site-packages/pymysql/connections.py?line=613'>614</a>\u001b[0m         (\u001b[39mself\u001b[39m\u001b[39m.\u001b[39mhost, \u001b[39mself\u001b[39m\u001b[39m.\u001b[39mport), \u001b[39mself\u001b[39m\u001b[39m.\u001b[39mconnect_timeout, \u001b[39m*\u001b[39m\u001b[39m*\u001b[39mkwargs\n\u001b[0;32m    <a href='file:///c%3A/Users/rumbi/AppData/Local/Programs/Python/Python310/lib/site-packages/pymysql/connections.py?line=614'>615</a>\u001b[0m     )\n\u001b[0;32m    <a href='file:///c%3A/Users/rumbi/AppData/Local/Programs/Python/Python310/lib/site-packages/pymysql/connections.py?line=615'>616</a>\u001b[0m     \u001b[39mbreak\u001b[39;00m\n",
      "File \u001b[1;32m~\\AppData\\Local\\Programs\\Python\\Python310\\lib\\socket.py:845\u001b[0m, in \u001b[0;36mcreate_connection\u001b[1;34m(address, timeout, source_address)\u001b[0m\n\u001b[0;32m    <a href='file:///c%3A/Users/rumbi/AppData/Local/Programs/Python/Python310/lib/socket.py?line=843'>844</a>\u001b[0m \u001b[39mtry\u001b[39;00m:\n\u001b[1;32m--> <a href='file:///c%3A/Users/rumbi/AppData/Local/Programs/Python/Python310/lib/socket.py?line=844'>845</a>\u001b[0m     \u001b[39mraise\u001b[39;00m err\n\u001b[0;32m    <a href='file:///c%3A/Users/rumbi/AppData/Local/Programs/Python/Python310/lib/socket.py?line=845'>846</a>\u001b[0m \u001b[39mfinally\u001b[39;00m:\n\u001b[0;32m    <a href='file:///c%3A/Users/rumbi/AppData/Local/Programs/Python/Python310/lib/socket.py?line=846'>847</a>\u001b[0m     \u001b[39m# Break explicitly a reference cycle\u001b[39;00m\n",
      "File \u001b[1;32m~\\AppData\\Local\\Programs\\Python\\Python310\\lib\\socket.py:833\u001b[0m, in \u001b[0;36mcreate_connection\u001b[1;34m(address, timeout, source_address)\u001b[0m\n\u001b[0;32m    <a href='file:///c%3A/Users/rumbi/AppData/Local/Programs/Python/Python310/lib/socket.py?line=831'>832</a>\u001b[0m     sock\u001b[39m.\u001b[39mbind(source_address)\n\u001b[1;32m--> <a href='file:///c%3A/Users/rumbi/AppData/Local/Programs/Python/Python310/lib/socket.py?line=832'>833</a>\u001b[0m sock\u001b[39m.\u001b[39;49mconnect(sa)\n\u001b[0;32m    <a href='file:///c%3A/Users/rumbi/AppData/Local/Programs/Python/Python310/lib/socket.py?line=833'>834</a>\u001b[0m \u001b[39m# Break explicitly a reference cycle\u001b[39;00m\n",
      "\u001b[1;31mTimeoutError\u001b[0m: timed out",
      "\nDuring handling of the above exception, another exception occurred:\n",
      "\u001b[1;31mOperationalError\u001b[0m                          Traceback (most recent call last)",
      "\u001b[1;32mc:\\Ubion\\mongo\\0317.ipynb Cell 10'\u001b[0m in \u001b[0;36m<module>\u001b[1;34m\u001b[0m\n\u001b[1;32m----> <a href='vscode-notebook-cell:/c%3A/Ubion/mongo/0317.ipynb#ch0000009?line=0'>1</a>\u001b[0m _db \u001b[39m=\u001b[39m m_sql\u001b[39m.\u001b[39;49mDatabase()\n",
      "File \u001b[1;32mc:\\Ubion\\mongo\\m_sql.py:7\u001b[0m, in \u001b[0;36mDatabase.__init__\u001b[1;34m(self)\u001b[0m\n\u001b[0;32m      <a href='file:///c%3A/Ubion/mongo/m_sql.py?line=5'>6</a>\u001b[0m \u001b[39mdef\u001b[39;00m \u001b[39m__init__\u001b[39m(\u001b[39mself\u001b[39m):\n\u001b[1;32m----> <a href='file:///c%3A/Ubion/mongo/m_sql.py?line=6'>7</a>\u001b[0m     \u001b[39mself\u001b[39m\u001b[39m.\u001b[39m_db \u001b[39m=\u001b[39m pymysql\u001b[39m.\u001b[39;49mconnect(  \u001b[39m# 선생님 DB 접속해서 작업하기 \u001b[39;49;00m\n\u001b[0;32m      <a href='file:///c%3A/Ubion/mongo/m_sql.py?line=7'>8</a>\u001b[0m     user \u001b[39m=\u001b[39;49m \u001b[39m'\u001b[39;49m\u001b[39mubion\u001b[39;49m\u001b[39m'\u001b[39;49m,\n\u001b[0;32m      <a href='file:///c%3A/Ubion/mongo/m_sql.py?line=8'>9</a>\u001b[0m     password \u001b[39m=\u001b[39;49m \u001b[39m'\u001b[39;49m\u001b[39m1234\u001b[39;49m\u001b[39m'\u001b[39;49m,\n\u001b[0;32m     <a href='file:///c%3A/Ubion/mongo/m_sql.py?line=9'>10</a>\u001b[0m     host \u001b[39m=\u001b[39;49m \u001b[39m'\u001b[39;49m\u001b[39mdarkpreist.iptime.org\u001b[39;49m\u001b[39m'\u001b[39;49m,\n\u001b[0;32m     <a href='file:///c%3A/Ubion/mongo/m_sql.py?line=10'>11</a>\u001b[0m     db \u001b[39m=\u001b[39;49m \u001b[39m'\u001b[39;49m\u001b[39mubion\u001b[39;49m\u001b[39m'\u001b[39;49m,\n\u001b[0;32m     <a href='file:///c%3A/Ubion/mongo/m_sql.py?line=11'>12</a>\u001b[0m     port \u001b[39m=\u001b[39;49m \u001b[39m3306\u001b[39;49m   \n\u001b[0;32m     <a href='file:///c%3A/Ubion/mongo/m_sql.py?line=12'>13</a>\u001b[0m     )\n\u001b[0;32m     <a href='file:///c%3A/Ubion/mongo/m_sql.py?line=14'>15</a>\u001b[0m     \u001b[39mself\u001b[39m\u001b[39m.\u001b[39mcursor \u001b[39m=\u001b[39m \u001b[39mself\u001b[39m\u001b[39m.\u001b[39m_db\u001b[39m.\u001b[39mcursor(pymysql\u001b[39m.\u001b[39mcursors\u001b[39m.\u001b[39mDictCursor)\n",
      "File \u001b[1;32m~\\AppData\\Local\\Programs\\Python\\Python310\\lib\\site-packages\\pymysql\\connections.py:353\u001b[0m, in \u001b[0;36mConnection.__init__\u001b[1;34m(self, user, password, host, database, unix_socket, port, charset, sql_mode, read_default_file, conv, use_unicode, client_flag, cursorclass, init_command, connect_timeout, read_default_group, autocommit, local_infile, max_allowed_packet, defer_connect, auth_plugin_map, read_timeout, write_timeout, bind_address, binary_prefix, program_name, server_public_key, ssl, ssl_ca, ssl_cert, ssl_disabled, ssl_key, ssl_verify_cert, ssl_verify_identity, compress, named_pipe, passwd, db)\u001b[0m\n\u001b[0;32m    <a href='file:///c%3A/Users/rumbi/AppData/Local/Programs/Python/Python310/lib/site-packages/pymysql/connections.py?line=350'>351</a>\u001b[0m     \u001b[39mself\u001b[39m\u001b[39m.\u001b[39m_sock \u001b[39m=\u001b[39m \u001b[39mNone\u001b[39;00m\n\u001b[0;32m    <a href='file:///c%3A/Users/rumbi/AppData/Local/Programs/Python/Python310/lib/site-packages/pymysql/connections.py?line=351'>352</a>\u001b[0m \u001b[39melse\u001b[39;00m:\n\u001b[1;32m--> <a href='file:///c%3A/Users/rumbi/AppData/Local/Programs/Python/Python310/lib/site-packages/pymysql/connections.py?line=352'>353</a>\u001b[0m     \u001b[39mself\u001b[39;49m\u001b[39m.\u001b[39;49mconnect()\n",
      "File \u001b[1;32m~\\AppData\\Local\\Programs\\Python\\Python310\\lib\\site-packages\\pymysql\\connections.py:664\u001b[0m, in \u001b[0;36mConnection.connect\u001b[1;34m(self, sock)\u001b[0m\n\u001b[0;32m    <a href='file:///c%3A/Users/rumbi/AppData/Local/Programs/Python/Python310/lib/site-packages/pymysql/connections.py?line=661'>662</a>\u001b[0m     \u001b[39mif\u001b[39;00m DEBUG:\n\u001b[0;32m    <a href='file:///c%3A/Users/rumbi/AppData/Local/Programs/Python/Python310/lib/site-packages/pymysql/connections.py?line=662'>663</a>\u001b[0m         \u001b[39mprint\u001b[39m(exc\u001b[39m.\u001b[39mtraceback)\n\u001b[1;32m--> <a href='file:///c%3A/Users/rumbi/AppData/Local/Programs/Python/Python310/lib/site-packages/pymysql/connections.py?line=663'>664</a>\u001b[0m     \u001b[39mraise\u001b[39;00m exc\n\u001b[0;32m    <a href='file:///c%3A/Users/rumbi/AppData/Local/Programs/Python/Python310/lib/site-packages/pymysql/connections.py?line=665'>666</a>\u001b[0m \u001b[39m# If e is neither DatabaseError or IOError, It's a bug.\u001b[39;00m\n\u001b[0;32m    <a href='file:///c%3A/Users/rumbi/AppData/Local/Programs/Python/Python310/lib/site-packages/pymysql/connections.py?line=666'>667</a>\u001b[0m \u001b[39m# But raising AssertionError hides original error.\u001b[39;00m\n\u001b[0;32m    <a href='file:///c%3A/Users/rumbi/AppData/Local/Programs/Python/Python310/lib/site-packages/pymysql/connections.py?line=667'>668</a>\u001b[0m \u001b[39m# So just reraise it.\u001b[39;00m\n\u001b[0;32m    <a href='file:///c%3A/Users/rumbi/AppData/Local/Programs/Python/Python310/lib/site-packages/pymysql/connections.py?line=668'>669</a>\u001b[0m \u001b[39mraise\u001b[39;00m\n",
      "\u001b[1;31mOperationalError\u001b[0m: (2003, \"Can't connect to MySQL server on 'darkpreist.iptime.org' (timed out)\")"
     ]
    }
   ],
   "source": [
    "_db = m_sql.Database()"
   ]
  },
  {
   "cell_type": "code",
   "execution_count": null,
   "metadata": {},
   "outputs": [],
   "source": [
    "sql = '''\n",
    "        SELECT * FROM emp\n",
    "        '''\n",
    "result = _db.executeAll(sql)\n",
    "pd.DataFrame(result).to_csv(\"emp.csv\")\n"
   ]
  },
  {
   "cell_type": "code",
   "execution_count": null,
   "metadata": {},
   "outputs": [
    {
     "data": {
      "text/plain": [
       "{'_id': ObjectId('6232b7199dd8bbbf15a2530b'),\n",
       " 'EMPNO': '7369',\n",
       " 'ENAME': 'SMITH',\n",
       " 'JOB': 'CLERK',\n",
       " 'MGR': '7902',\n",
       " 'HIREDATE': '1980-12-17',\n",
       " 'SAL': '800.00',\n",
       " 'DEPTNO': '20'}"
      ]
     },
     "execution_count": 17,
     "metadata": {},
     "output_type": "execute_result"
    }
   ],
   "source": [
    "db.emp.find_one()  #맨 위에 값 하나"
   ]
  },
  {
   "cell_type": "code",
   "execution_count": 11,
   "metadata": {},
   "outputs": [
    {
     "data": {
      "text/plain": [
       "[{'_id': ObjectId('6232c6b91a203e5f7ba0da5d'),\n",
       "  'EMPNO': 7369,\n",
       "  'ENAME': 'SMITH',\n",
       "  'JOB': 'CLERK',\n",
       "  'MGR': 7902,\n",
       "  'HIREDATE': '1980-12-17',\n",
       "  'SAL': 800.0,\n",
       "  'DEPTNO': '20'}]"
      ]
     },
     "execution_count": 11,
     "metadata": {},
     "output_type": "execute_result"
    }
   ],
   "source": [
    "list(db.emp.find(\n",
    "    {\"ENAME\":\"SMITH\"}\n",
    "))\n",
    "# SELECT*FROM emp WHERE ENAME=\"SMITH\"\n",
    "# 앞에 list 붙여줘야 값 출력됨. "
   ]
  },
  {
   "cell_type": "code",
   "execution_count": 12,
   "metadata": {},
   "outputs": [
    {
     "name": "stdout",
     "output_type": "stream",
     "text": [
      "{'_id': ObjectId('6232c6b91a203e5f7ba0da5d'), 'EMPNO': 7369, 'ENAME': 'SMITH', 'JOB': 'CLERK', 'MGR': 7902, 'HIREDATE': '1980-12-17', 'SAL': 800.0, 'DEPTNO': '20'}\n",
      "{'_id': ObjectId('6232c6b91a203e5f7ba0da5e'), 'EMPNO': 7499, 'ENAME': 'ALLEN', 'JOB': 'SALESMAN', 'MGR': 7698, 'HIREDATE': '1981-02-20', 'SAL': 1600.0, 'COMM': 300.0, 'DEPTNO': '30'}\n",
      "{'_id': ObjectId('6232c6b91a203e5f7ba0da5f'), 'EMPNO': 7521, 'ENAME': 'WARD', 'JOB': 'SALESMAN', 'MGR': 7698, 'HIREDATE': '1981-02-22', 'SAL': 1250.0, 'COMM': 500.0, 'DEPTNO': '30'}\n",
      "{'_id': ObjectId('6232c6b91a203e5f7ba0da60'), 'EMPNO': 7566, 'ENAME': 'JONES', 'JOB': 'MANAGER', 'MGR': 7839, 'HIREDATE': '1981-04-02', 'SAL': 2975.0, 'DEPTNO': '20'}\n",
      "{'_id': ObjectId('6232c6b91a203e5f7ba0da61'), 'EMPNO': 7654, 'ENAME': 'MARTIN', 'JOB': 'SALESMAN', 'MGR': 7698, 'HIREDATE': '1981-09-28', 'SAL': 1250.0, 'COMM': 1400.0, 'DEPTNO': '30'}\n",
      "{'_id': ObjectId('6232c6b91a203e5f7ba0da62'), 'EMPNO': 7698, 'ENAME': 'BLAKE', 'JOB': 'MANAGER', 'MGR': 7839, 'HIREDATE': '1981-05-01', 'SAL': 2850.0, 'DEPTNO': '30'}\n",
      "{'_id': ObjectId('6232c6b91a203e5f7ba0da63'), 'EMPNO': 7782, 'ENAME': 'CLARK', 'JOB': 'MANAGER', 'MGR': 7839, 'HIREDATE': '1981-06-09', 'SAL': 2450.0, 'DEPTNO': '10'}\n",
      "{'_id': ObjectId('6232c6b91a203e5f7ba0da64'), 'EMPNO': 7788, 'ENAME': 'SCOTT', 'JOB': 'ANALYST', 'MGR': 7566, 'HIREDATE': '1987-06-28', 'SAL': 3000.0, 'DEPTNO': '20'}\n",
      "{'_id': ObjectId('6232c6b91a203e5f7ba0da65'), 'EMPNO': 7839, 'ENAME': 'KING', 'JOB': 'PRESIDENT', 'HIREDATE': '1981-11-17', 'SAL': 5000.0, 'DEPTNO': '10'}\n",
      "{'_id': ObjectId('6232c6b91a203e5f7ba0da66'), 'EMPNO': 7844, 'ENAME': 'TURNER', 'JOB': 'SALESMAN', 'MGR': 7698, 'HIREDATE': '1981-09-08', 'SAL': 1500.0, 'COMM': 0.0, 'DEPTNO': '30'}\n",
      "{'_id': ObjectId('6232c6b91a203e5f7ba0da67'), 'EMPNO': 7876, 'ENAME': 'ADAMS', 'JOB': 'CLERK', 'MGR': 7788, 'HIREDATE': '1987-07-13', 'SAL': 1100.0, 'DEPTNO': '20'}\n",
      "{'_id': ObjectId('6232c6b91a203e5f7ba0da68'), 'EMPNO': 7900, 'ENAME': 'JAMES', 'JOB': 'CLERK', 'MGR': 7698, 'HIREDATE': '1981-12-03', 'SAL': 950.0, 'DEPTNO': '30'}\n",
      "{'_id': ObjectId('6232c6b91a203e5f7ba0da69'), 'EMPNO': 7902, 'ENAME': 'FORD', 'JOB': 'ANALYST', 'MGR': 7566, 'HIREDATE': '1981-12-03', 'SAL': 3000.0, 'DEPTNO': '20'}\n",
      "{'_id': ObjectId('6232c6b91a203e5f7ba0da6a'), 'EMPNO': 7934, 'ENAME': 'MILLER', 'JOB': 'CLERK', 'MGR': 7782, 'HIREDATE': '1982-01-23', 'SAL': 1300.0, 'DEPTNO': '10'}\n"
     ]
    }
   ],
   "source": [
    "result = db.emp.find()\n",
    "for list in result:\n",
    "    print(list)"
   ]
  },
  {
   "cell_type": "code",
   "execution_count": 13,
   "metadata": {},
   "outputs": [
    {
     "data": {
      "text/html": [
       "<div>\n",
       "<style scoped>\n",
       "    .dataframe tbody tr th:only-of-type {\n",
       "        vertical-align: middle;\n",
       "    }\n",
       "\n",
       "    .dataframe tbody tr th {\n",
       "        vertical-align: top;\n",
       "    }\n",
       "\n",
       "    .dataframe thead th {\n",
       "        text-align: right;\n",
       "    }\n",
       "</style>\n",
       "<table border=\"1\" class=\"dataframe\">\n",
       "  <thead>\n",
       "    <tr style=\"text-align: right;\">\n",
       "      <th></th>\n",
       "      <th>EMPNO</th>\n",
       "      <th>ENAME</th>\n",
       "      <th>DEPTNO</th>\n",
       "    </tr>\n",
       "  </thead>\n",
       "  <tbody>\n",
       "    <tr>\n",
       "      <th>0</th>\n",
       "      <td>7369</td>\n",
       "      <td>SMITH</td>\n",
       "      <td>20</td>\n",
       "    </tr>\n",
       "    <tr>\n",
       "      <th>1</th>\n",
       "      <td>7499</td>\n",
       "      <td>ALLEN</td>\n",
       "      <td>30</td>\n",
       "    </tr>\n",
       "    <tr>\n",
       "      <th>2</th>\n",
       "      <td>7521</td>\n",
       "      <td>WARD</td>\n",
       "      <td>30</td>\n",
       "    </tr>\n",
       "    <tr>\n",
       "      <th>3</th>\n",
       "      <td>7566</td>\n",
       "      <td>JONES</td>\n",
       "      <td>20</td>\n",
       "    </tr>\n",
       "    <tr>\n",
       "      <th>4</th>\n",
       "      <td>7654</td>\n",
       "      <td>MARTIN</td>\n",
       "      <td>30</td>\n",
       "    </tr>\n",
       "    <tr>\n",
       "      <th>5</th>\n",
       "      <td>7698</td>\n",
       "      <td>BLAKE</td>\n",
       "      <td>30</td>\n",
       "    </tr>\n",
       "    <tr>\n",
       "      <th>6</th>\n",
       "      <td>7782</td>\n",
       "      <td>CLARK</td>\n",
       "      <td>10</td>\n",
       "    </tr>\n",
       "    <tr>\n",
       "      <th>7</th>\n",
       "      <td>7788</td>\n",
       "      <td>SCOTT</td>\n",
       "      <td>20</td>\n",
       "    </tr>\n",
       "    <tr>\n",
       "      <th>8</th>\n",
       "      <td>7839</td>\n",
       "      <td>KING</td>\n",
       "      <td>10</td>\n",
       "    </tr>\n",
       "    <tr>\n",
       "      <th>9</th>\n",
       "      <td>7844</td>\n",
       "      <td>TURNER</td>\n",
       "      <td>30</td>\n",
       "    </tr>\n",
       "    <tr>\n",
       "      <th>10</th>\n",
       "      <td>7876</td>\n",
       "      <td>ADAMS</td>\n",
       "      <td>20</td>\n",
       "    </tr>\n",
       "    <tr>\n",
       "      <th>11</th>\n",
       "      <td>7900</td>\n",
       "      <td>JAMES</td>\n",
       "      <td>30</td>\n",
       "    </tr>\n",
       "    <tr>\n",
       "      <th>12</th>\n",
       "      <td>7902</td>\n",
       "      <td>FORD</td>\n",
       "      <td>20</td>\n",
       "    </tr>\n",
       "    <tr>\n",
       "      <th>13</th>\n",
       "      <td>7934</td>\n",
       "      <td>MILLER</td>\n",
       "      <td>10</td>\n",
       "    </tr>\n",
       "  </tbody>\n",
       "</table>\n",
       "</div>"
      ],
      "text/plain": [
       "    EMPNO   ENAME DEPTNO\n",
       "0    7369   SMITH     20\n",
       "1    7499   ALLEN     30\n",
       "2    7521    WARD     30\n",
       "3    7566   JONES     20\n",
       "4    7654  MARTIN     30\n",
       "5    7698   BLAKE     30\n",
       "6    7782   CLARK     10\n",
       "7    7788   SCOTT     20\n",
       "8    7839    KING     10\n",
       "9    7844  TURNER     30\n",
       "10   7876   ADAMS     20\n",
       "11   7900   JAMES     30\n",
       "12   7902    FORD     20\n",
       "13   7934  MILLER     10"
      ]
     },
     "execution_count": 13,
     "metadata": {},
     "output_type": "execute_result"
    }
   ],
   "source": [
    "# emp collection에서 key 값이 EMPNO, ENAME, DEPTNO\n",
    "# 첫 {} : where 절 , 두번째 {}: column절\n",
    "pd.DataFrame(db.emp.find(\n",
    "    {},{\"EMPNO\" :1,\n",
    "    \"ENAME\":1,\n",
    "    \"DEPTNO\":1,\n",
    "    \"_id\":0}))"
   ]
  },
  {
   "cell_type": "code",
   "execution_count": null,
   "metadata": {},
   "outputs": [
    {
     "data": {
      "text/html": [
       "<div>\n",
       "<style scoped>\n",
       "    .dataframe tbody tr th:only-of-type {\n",
       "        vertical-align: middle;\n",
       "    }\n",
       "\n",
       "    .dataframe tbody tr th {\n",
       "        vertical-align: top;\n",
       "    }\n",
       "\n",
       "    .dataframe thead th {\n",
       "        text-align: right;\n",
       "    }\n",
       "</style>\n",
       "<table border=\"1\" class=\"dataframe\">\n",
       "  <thead>\n",
       "    <tr style=\"text-align: right;\">\n",
       "      <th></th>\n",
       "      <th>EMPNO</th>\n",
       "      <th>ENAME</th>\n",
       "      <th>JOB</th>\n",
       "      <th>MGR</th>\n",
       "      <th>HIREDATE</th>\n",
       "      <th>SAL</th>\n",
       "      <th>DEPTNO</th>\n",
       "      <th>COMM</th>\n",
       "    </tr>\n",
       "  </thead>\n",
       "  <tbody>\n",
       "    <tr>\n",
       "      <th>0</th>\n",
       "      <td>7876</td>\n",
       "      <td>ADAMS</td>\n",
       "      <td>CLERK</td>\n",
       "      <td>7788.0</td>\n",
       "      <td>1987-07-13</td>\n",
       "      <td>1100.0</td>\n",
       "      <td>20</td>\n",
       "      <td>NaN</td>\n",
       "    </tr>\n",
       "    <tr>\n",
       "      <th>1</th>\n",
       "      <td>7499</td>\n",
       "      <td>ALLEN</td>\n",
       "      <td>SALESMAN</td>\n",
       "      <td>7698.0</td>\n",
       "      <td>1981-02-20</td>\n",
       "      <td>1600.0</td>\n",
       "      <td>30</td>\n",
       "      <td>300.0</td>\n",
       "    </tr>\n",
       "    <tr>\n",
       "      <th>2</th>\n",
       "      <td>7698</td>\n",
       "      <td>BLAKE</td>\n",
       "      <td>MANAGER</td>\n",
       "      <td>7839.0</td>\n",
       "      <td>1981-05-01</td>\n",
       "      <td>2850.0</td>\n",
       "      <td>30</td>\n",
       "      <td>NaN</td>\n",
       "    </tr>\n",
       "    <tr>\n",
       "      <th>3</th>\n",
       "      <td>7782</td>\n",
       "      <td>CLARK</td>\n",
       "      <td>MANAGER</td>\n",
       "      <td>7839.0</td>\n",
       "      <td>1981-06-09</td>\n",
       "      <td>2450.0</td>\n",
       "      <td>10</td>\n",
       "      <td>NaN</td>\n",
       "    </tr>\n",
       "    <tr>\n",
       "      <th>4</th>\n",
       "      <td>7902</td>\n",
       "      <td>FORD</td>\n",
       "      <td>ANALYST</td>\n",
       "      <td>7566.0</td>\n",
       "      <td>1981-12-03</td>\n",
       "      <td>3000.0</td>\n",
       "      <td>20</td>\n",
       "      <td>NaN</td>\n",
       "    </tr>\n",
       "    <tr>\n",
       "      <th>5</th>\n",
       "      <td>7900</td>\n",
       "      <td>JAMES</td>\n",
       "      <td>CLERK</td>\n",
       "      <td>7698.0</td>\n",
       "      <td>1981-12-03</td>\n",
       "      <td>950.0</td>\n",
       "      <td>30</td>\n",
       "      <td>NaN</td>\n",
       "    </tr>\n",
       "    <tr>\n",
       "      <th>6</th>\n",
       "      <td>7566</td>\n",
       "      <td>JONES</td>\n",
       "      <td>MANAGER</td>\n",
       "      <td>7839.0</td>\n",
       "      <td>1981-04-02</td>\n",
       "      <td>2975.0</td>\n",
       "      <td>20</td>\n",
       "      <td>NaN</td>\n",
       "    </tr>\n",
       "    <tr>\n",
       "      <th>7</th>\n",
       "      <td>7839</td>\n",
       "      <td>KING</td>\n",
       "      <td>PRESIDENT</td>\n",
       "      <td>NaN</td>\n",
       "      <td>1981-11-17</td>\n",
       "      <td>5000.0</td>\n",
       "      <td>10</td>\n",
       "      <td>NaN</td>\n",
       "    </tr>\n",
       "    <tr>\n",
       "      <th>8</th>\n",
       "      <td>7654</td>\n",
       "      <td>MARTIN</td>\n",
       "      <td>SALESMAN</td>\n",
       "      <td>7698.0</td>\n",
       "      <td>1981-09-28</td>\n",
       "      <td>1250.0</td>\n",
       "      <td>30</td>\n",
       "      <td>1400.0</td>\n",
       "    </tr>\n",
       "    <tr>\n",
       "      <th>9</th>\n",
       "      <td>7934</td>\n",
       "      <td>MILLER</td>\n",
       "      <td>CLERK</td>\n",
       "      <td>7782.0</td>\n",
       "      <td>1982-01-23</td>\n",
       "      <td>1300.0</td>\n",
       "      <td>10</td>\n",
       "      <td>NaN</td>\n",
       "    </tr>\n",
       "    <tr>\n",
       "      <th>10</th>\n",
       "      <td>7788</td>\n",
       "      <td>SCOTT</td>\n",
       "      <td>ANALYST</td>\n",
       "      <td>7566.0</td>\n",
       "      <td>1987-06-28</td>\n",
       "      <td>3000.0</td>\n",
       "      <td>20</td>\n",
       "      <td>NaN</td>\n",
       "    </tr>\n",
       "    <tr>\n",
       "      <th>11</th>\n",
       "      <td>7369</td>\n",
       "      <td>SMITH</td>\n",
       "      <td>CLERK</td>\n",
       "      <td>7902.0</td>\n",
       "      <td>1980-12-17</td>\n",
       "      <td>800.0</td>\n",
       "      <td>20</td>\n",
       "      <td>NaN</td>\n",
       "    </tr>\n",
       "    <tr>\n",
       "      <th>12</th>\n",
       "      <td>7844</td>\n",
       "      <td>TURNER</td>\n",
       "      <td>SALESMAN</td>\n",
       "      <td>7698.0</td>\n",
       "      <td>1981-09-08</td>\n",
       "      <td>1500.0</td>\n",
       "      <td>30</td>\n",
       "      <td>0.0</td>\n",
       "    </tr>\n",
       "    <tr>\n",
       "      <th>13</th>\n",
       "      <td>7521</td>\n",
       "      <td>WARD</td>\n",
       "      <td>SALESMAN</td>\n",
       "      <td>7698.0</td>\n",
       "      <td>1981-02-22</td>\n",
       "      <td>1250.0</td>\n",
       "      <td>30</td>\n",
       "      <td>500.0</td>\n",
       "    </tr>\n",
       "  </tbody>\n",
       "</table>\n",
       "</div>"
      ],
      "text/plain": [
       "    EMPNO   ENAME        JOB     MGR    HIREDATE     SAL DEPTNO    COMM\n",
       "0    7876   ADAMS      CLERK  7788.0  1987-07-13  1100.0     20     NaN\n",
       "1    7499   ALLEN   SALESMAN  7698.0  1981-02-20  1600.0     30   300.0\n",
       "2    7698   BLAKE    MANAGER  7839.0  1981-05-01  2850.0     30     NaN\n",
       "3    7782   CLARK    MANAGER  7839.0  1981-06-09  2450.0     10     NaN\n",
       "4    7902    FORD    ANALYST  7566.0  1981-12-03  3000.0     20     NaN\n",
       "5    7900   JAMES      CLERK  7698.0  1981-12-03   950.0     30     NaN\n",
       "6    7566   JONES    MANAGER  7839.0  1981-04-02  2975.0     20     NaN\n",
       "7    7839    KING  PRESIDENT     NaN  1981-11-17  5000.0     10     NaN\n",
       "8    7654  MARTIN   SALESMAN  7698.0  1981-09-28  1250.0     30  1400.0\n",
       "9    7934  MILLER      CLERK  7782.0  1982-01-23  1300.0     10     NaN\n",
       "10   7788   SCOTT    ANALYST  7566.0  1987-06-28  3000.0     20     NaN\n",
       "11   7369   SMITH      CLERK  7902.0  1980-12-17   800.0     20     NaN\n",
       "12   7844  TURNER   SALESMAN  7698.0  1981-09-08  1500.0     30     0.0\n",
       "13   7521    WARD   SALESMAN  7698.0  1981-02-22  1250.0     30   500.0"
      ]
     },
     "execution_count": 56,
     "metadata": {},
     "output_type": "execute_result"
    }
   ],
   "source": [
    "pd.DataFrame(db.emp.find({},{\"_id\":0}).sort(\"ENAME\"))\n",
    "\n",
    "# SELECT *FROM emp ORDER BY ENAME"
   ]
  },
  {
   "cell_type": "code",
   "execution_count": null,
   "metadata": {},
   "outputs": [
    {
     "data": {
      "text/plain": [
       "[{'_id': ObjectId('6232c6b91a203e5f7ba0da60'),\n",
       "  'EMPNO': 7566,\n",
       "  'ENAME': 'JONES',\n",
       "  'JOB': 'MANAGER',\n",
       "  'MGR': 7839,\n",
       "  'HIREDATE': '1981-04-02',\n",
       "  'SAL': 2975.0,\n",
       "  'DEPTNO': '20'},\n",
       " {'_id': ObjectId('6232c6b91a203e5f7ba0da62'),\n",
       "  'EMPNO': 7698,\n",
       "  'ENAME': 'BLAKE',\n",
       "  'JOB': 'MANAGER',\n",
       "  'MGR': 7839,\n",
       "  'HIREDATE': '1981-05-01',\n",
       "  'SAL': 2850.0,\n",
       "  'DEPTNO': '30'},\n",
       " {'_id': ObjectId('6232c6b91a203e5f7ba0da63'),\n",
       "  'EMPNO': 7782,\n",
       "  'ENAME': 'CLARK',\n",
       "  'JOB': 'MANAGER',\n",
       "  'MGR': 7839,\n",
       "  'HIREDATE': '1981-06-09',\n",
       "  'SAL': 2450.0,\n",
       "  'DEPTNO': '10'},\n",
       " {'_id': ObjectId('6232c6b91a203e5f7ba0da64'),\n",
       "  'EMPNO': 7788,\n",
       "  'ENAME': 'SCOTT',\n",
       "  'JOB': 'ANALYST',\n",
       "  'MGR': 7566,\n",
       "  'HIREDATE': '1987-06-28',\n",
       "  'SAL': 3000.0,\n",
       "  'DEPTNO': '20'},\n",
       " {'_id': ObjectId('6232c6b91a203e5f7ba0da65'),\n",
       "  'EMPNO': 7839,\n",
       "  'ENAME': 'KING',\n",
       "  'JOB': 'PRESIDENT',\n",
       "  'HIREDATE': '1981-11-17',\n",
       "  'SAL': 5000.0,\n",
       "  'DEPTNO': '10'},\n",
       " {'_id': ObjectId('6232c6b91a203e5f7ba0da69'),\n",
       "  'EMPNO': 7902,\n",
       "  'ENAME': 'FORD',\n",
       "  'JOB': 'ANALYST',\n",
       "  'MGR': 7566,\n",
       "  'HIREDATE': '1981-12-03',\n",
       "  'SAL': 3000.0,\n",
       "  'DEPTNO': '20'}]"
      ]
     },
     "execution_count": 20,
     "metadata": {},
     "output_type": "execute_result"
    }
   ],
   "source": [
    "# 급여 2000이상 출력\n",
    "result_2 = db.emp.find(\n",
    "    {\n",
    "        \"SAL\": {\n",
    "            \"$gt\" : 2000\n",
    "        }\n",
    "    }\n",
    ")\n",
    "list(result_2)"
   ]
  },
  {
   "cell_type": "code",
   "execution_count": null,
   "metadata": {},
   "outputs": [
    {
     "data": {
      "text/plain": [
       "[{'_id': ObjectId('6232c6b91a203e5f7ba0da60'),\n",
       "  'EMPNO': 7566,\n",
       "  'ENAME': 'JONES',\n",
       "  'JOB': 'MANAGER',\n",
       "  'MGR': 7839,\n",
       "  'HIREDATE': '1981-04-02',\n",
       "  'SAL': 2975.0,\n",
       "  'DEPTNO': '20'},\n",
       " {'_id': ObjectId('6232c6b91a203e5f7ba0da62'),\n",
       "  'EMPNO': 7698,\n",
       "  'ENAME': 'BLAKE',\n",
       "  'JOB': 'MANAGER',\n",
       "  'MGR': 7839,\n",
       "  'HIREDATE': '1981-05-01',\n",
       "  'SAL': 2850.0,\n",
       "  'DEPTNO': '30'},\n",
       " {'_id': ObjectId('6232c6b91a203e5f7ba0da63'),\n",
       "  'EMPNO': 7782,\n",
       "  'ENAME': 'CLARK',\n",
       "  'JOB': 'MANAGER',\n",
       "  'MGR': 7839,\n",
       "  'HIREDATE': '1981-06-09',\n",
       "  'SAL': 2450.0,\n",
       "  'DEPTNO': '10'},\n",
       " {'_id': ObjectId('6232c6b91a203e5f7ba0da64'),\n",
       "  'EMPNO': 7788,\n",
       "  'ENAME': 'SCOTT',\n",
       "  'JOB': 'ANALYST',\n",
       "  'MGR': 7566,\n",
       "  'HIREDATE': '1987-06-28',\n",
       "  'SAL': 3000.0,\n",
       "  'DEPTNO': '20'},\n",
       " {'_id': ObjectId('6232c6b91a203e5f7ba0da65'),\n",
       "  'EMPNO': 7839,\n",
       "  'ENAME': 'KING',\n",
       "  'JOB': 'PRESIDENT',\n",
       "  'HIREDATE': '1981-11-17',\n",
       "  'SAL': 5000.0,\n",
       "  'DEPTNO': '10'},\n",
       " {'_id': ObjectId('6232c6b91a203e5f7ba0da69'),\n",
       "  'EMPNO': 7902,\n",
       "  'ENAME': 'FORD',\n",
       "  'JOB': 'ANALYST',\n",
       "  'MGR': 7566,\n",
       "  'HIREDATE': '1981-12-03',\n",
       "  'SAL': 3000.0,\n",
       "  'DEPTNO': '20'}]"
      ]
     },
     "execution_count": 21,
     "metadata": {},
     "output_type": "execute_result"
    }
   ],
   "source": [
    "result_3 = db.emp.find(\n",
    "    {\n",
    "        \"SAL\": {\n",
    "            \"$gte\" : 2450\n",
    "        }\n",
    "    }\n",
    ")\n",
    "list(result_3)\n",
    "# $gte : >="
   ]
  },
  {
   "cell_type": "code",
   "execution_count": null,
   "metadata": {},
   "outputs": [
    {
     "data": {
      "text/plain": [
       "[{'_id': ObjectId('6232c6b91a203e5f7ba0da5d'),\n",
       "  'EMPNO': 7369,\n",
       "  'ENAME': 'SMITH',\n",
       "  'JOB': 'CLERK',\n",
       "  'MGR': 7902,\n",
       "  'HIREDATE': '1980-12-17',\n",
       "  'SAL': 800.0,\n",
       "  'DEPTNO': '20'},\n",
       " {'_id': ObjectId('6232c6b91a203e5f7ba0da5e'),\n",
       "  'EMPNO': 7499,\n",
       "  'ENAME': 'ALLEN',\n",
       "  'JOB': 'SALESMAN',\n",
       "  'MGR': 7698,\n",
       "  'HIREDATE': '1981-02-20',\n",
       "  'SAL': 1600.0,\n",
       "  'COMM': 300.0,\n",
       "  'DEPTNO': '30'},\n",
       " {'_id': ObjectId('6232c6b91a203e5f7ba0da5f'),\n",
       "  'EMPNO': 7521,\n",
       "  'ENAME': 'WARD',\n",
       "  'JOB': 'SALESMAN',\n",
       "  'MGR': 7698,\n",
       "  'HIREDATE': '1981-02-22',\n",
       "  'SAL': 1250.0,\n",
       "  'COMM': 500.0,\n",
       "  'DEPTNO': '30'},\n",
       " {'_id': ObjectId('6232c6b91a203e5f7ba0da61'),\n",
       "  'EMPNO': 7654,\n",
       "  'ENAME': 'MARTIN',\n",
       "  'JOB': 'SALESMAN',\n",
       "  'MGR': 7698,\n",
       "  'HIREDATE': '1981-09-28',\n",
       "  'SAL': 1250.0,\n",
       "  'COMM': 1400.0,\n",
       "  'DEPTNO': '30'},\n",
       " {'_id': ObjectId('6232c6b91a203e5f7ba0da63'),\n",
       "  'EMPNO': 7782,\n",
       "  'ENAME': 'CLARK',\n",
       "  'JOB': 'MANAGER',\n",
       "  'MGR': 7839,\n",
       "  'HIREDATE': '1981-06-09',\n",
       "  'SAL': 2450.0,\n",
       "  'DEPTNO': '10'},\n",
       " {'_id': ObjectId('6232c6b91a203e5f7ba0da66'),\n",
       "  'EMPNO': 7844,\n",
       "  'ENAME': 'TURNER',\n",
       "  'JOB': 'SALESMAN',\n",
       "  'MGR': 7698,\n",
       "  'HIREDATE': '1981-09-08',\n",
       "  'SAL': 1500.0,\n",
       "  'COMM': 0.0,\n",
       "  'DEPTNO': '30'},\n",
       " {'_id': ObjectId('6232c6b91a203e5f7ba0da67'),\n",
       "  'EMPNO': 7876,\n",
       "  'ENAME': 'ADAMS',\n",
       "  'JOB': 'CLERK',\n",
       "  'MGR': 7788,\n",
       "  'HIREDATE': '1987-07-13',\n",
       "  'SAL': 1100.0,\n",
       "  'DEPTNO': '20'},\n",
       " {'_id': ObjectId('6232c6b91a203e5f7ba0da68'),\n",
       "  'EMPNO': 7900,\n",
       "  'ENAME': 'JAMES',\n",
       "  'JOB': 'CLERK',\n",
       "  'MGR': 7698,\n",
       "  'HIREDATE': '1981-12-03',\n",
       "  'SAL': 950.0,\n",
       "  'DEPTNO': '30'},\n",
       " {'_id': ObjectId('6232c6b91a203e5f7ba0da6a'),\n",
       "  'EMPNO': 7934,\n",
       "  'ENAME': 'MILLER',\n",
       "  'JOB': 'CLERK',\n",
       "  'MGR': 7782,\n",
       "  'HIREDATE': '1982-01-23',\n",
       "  'SAL': 1300.0,\n",
       "  'DEPTNO': '10'}]"
      ]
     },
     "execution_count": 23,
     "metadata": {},
     "output_type": "execute_result"
    }
   ],
   "source": [
    "result_4 = db.emp.find(\n",
    "    {\n",
    "        \"SAL\": {\n",
    "            \"$lte\" : 2450\n",
    "        }\n",
    "    }\n",
    ")\n",
    "list(result_4)"
   ]
  },
  {
   "cell_type": "code",
   "execution_count": null,
   "metadata": {},
   "outputs": [
    {
     "data": {
      "text/plain": [
       "[{'_id': ObjectId('6232c6b91a203e5f7ba0da5d'),\n",
       "  'EMPNO': 7369,\n",
       "  'ENAME': 'SMITH',\n",
       "  'JOB': 'CLERK',\n",
       "  'MGR': 7902,\n",
       "  'HIREDATE': '1980-12-17',\n",
       "  'SAL': 800.0,\n",
       "  'DEPTNO': '20'},\n",
       " {'_id': ObjectId('6232c6b91a203e5f7ba0da5e'),\n",
       "  'EMPNO': 7499,\n",
       "  'ENAME': 'ALLEN',\n",
       "  'JOB': 'SALESMAN',\n",
       "  'MGR': 7698,\n",
       "  'HIREDATE': '1981-02-20',\n",
       "  'SAL': 1600.0,\n",
       "  'COMM': 300.0,\n",
       "  'DEPTNO': '30'}]"
      ]
     },
     "execution_count": 24,
     "metadata": {},
     "output_type": "execute_result"
    }
   ],
   "source": [
    "# SELECT * FROM emp WHERE ENAME = SMITH OR ENAME = ALLEN\n",
    "result_5 = db.emp.find(\n",
    "    {\n",
    "        \"$or\":[\n",
    "            {\n",
    "               \"ENAME\" : \"SMITH\" \n",
    "            },\n",
    "            {\n",
    "                \"ENAME\" : \"ALLEN\"\n",
    "            }\n",
    "        ]\n",
    "    }\n",
    ")\n",
    "list(result_5)"
   ]
  },
  {
   "cell_type": "code",
   "execution_count": null,
   "metadata": {},
   "outputs": [
    {
     "data": {
      "text/plain": [
       "[{'_id': ObjectId('6232c6b91a203e5f7ba0da5d'),\n",
       "  'EMPNO': 7369,\n",
       "  'ENAME': 'SMITH',\n",
       "  'JOB': 'CLERK',\n",
       "  'MGR': 7902,\n",
       "  'HIREDATE': '1980-12-17',\n",
       "  'SAL': 800.0,\n",
       "  'DEPTNO': '20'}]"
      ]
     },
     "execution_count": 25,
     "metadata": {},
     "output_type": "execute_result"
    }
   ],
   "source": [
    "# SELECT * FORM emp WHERE ENAME = SMITH AND JOB = CLERK\n",
    "result_6 = db.emp.find(\n",
    "    {\n",
    "        \"ENAME\":\"SMITH\",\n",
    "        \"JOB\":\"CLERK\"\n",
    "    }\n",
    ")\n",
    "list(result_6)"
   ]
  },
  {
   "cell_type": "code",
   "execution_count": null,
   "metadata": {},
   "outputs": [],
   "source": [
    "import pandas as pd"
   ]
  },
  {
   "cell_type": "code",
   "execution_count": null,
   "metadata": {},
   "outputs": [
    {
     "data": {
      "text/html": [
       "<div>\n",
       "<style scoped>\n",
       "    .dataframe tbody tr th:only-of-type {\n",
       "        vertical-align: middle;\n",
       "    }\n",
       "\n",
       "    .dataframe tbody tr th {\n",
       "        vertical-align: top;\n",
       "    }\n",
       "\n",
       "    .dataframe thead th {\n",
       "        text-align: right;\n",
       "    }\n",
       "</style>\n",
       "<table border=\"1\" class=\"dataframe\">\n",
       "  <thead>\n",
       "    <tr style=\"text-align: right;\">\n",
       "      <th></th>\n",
       "      <th>EMPNO</th>\n",
       "      <th>ENAME</th>\n",
       "      <th>JOB</th>\n",
       "      <th>MGR</th>\n",
       "      <th>HIREDATE</th>\n",
       "      <th>SAL</th>\n",
       "      <th>DEPTNO</th>\n",
       "    </tr>\n",
       "  </thead>\n",
       "  <tbody>\n",
       "    <tr>\n",
       "      <th>0</th>\n",
       "      <td>7566</td>\n",
       "      <td>JONES</td>\n",
       "      <td>MANAGER</td>\n",
       "      <td>7839</td>\n",
       "      <td>1981-04-02</td>\n",
       "      <td>2975.0</td>\n",
       "      <td>20</td>\n",
       "    </tr>\n",
       "    <tr>\n",
       "      <th>1</th>\n",
       "      <td>7698</td>\n",
       "      <td>BLAKE</td>\n",
       "      <td>MANAGER</td>\n",
       "      <td>7839</td>\n",
       "      <td>1981-05-01</td>\n",
       "      <td>2850.0</td>\n",
       "      <td>30</td>\n",
       "    </tr>\n",
       "    <tr>\n",
       "      <th>2</th>\n",
       "      <td>7782</td>\n",
       "      <td>CLARK</td>\n",
       "      <td>MANAGER</td>\n",
       "      <td>7839</td>\n",
       "      <td>1981-06-09</td>\n",
       "      <td>2450.0</td>\n",
       "      <td>10</td>\n",
       "    </tr>\n",
       "    <tr>\n",
       "      <th>3</th>\n",
       "      <td>7788</td>\n",
       "      <td>SCOTT</td>\n",
       "      <td>ANALYST</td>\n",
       "      <td>7566</td>\n",
       "      <td>1987-06-28</td>\n",
       "      <td>3000.0</td>\n",
       "      <td>20</td>\n",
       "    </tr>\n",
       "    <tr>\n",
       "      <th>4</th>\n",
       "      <td>7902</td>\n",
       "      <td>FORD</td>\n",
       "      <td>ANALYST</td>\n",
       "      <td>7566</td>\n",
       "      <td>1981-12-03</td>\n",
       "      <td>3000.0</td>\n",
       "      <td>20</td>\n",
       "    </tr>\n",
       "  </tbody>\n",
       "</table>\n",
       "</div>"
      ],
      "text/plain": [
       "   EMPNO  ENAME      JOB   MGR    HIREDATE     SAL DEPTNO\n",
       "0   7566  JONES  MANAGER  7839  1981-04-02  2975.0     20\n",
       "1   7698  BLAKE  MANAGER  7839  1981-05-01  2850.0     30\n",
       "2   7782  CLARK  MANAGER  7839  1981-06-09  2450.0     10\n",
       "3   7788  SCOTT  ANALYST  7566  1987-06-28  3000.0     20\n",
       "4   7902   FORD  ANALYST  7566  1981-12-03  3000.0     20"
      ]
     },
     "execution_count": 34,
     "metadata": {},
     "output_type": "execute_result"
    }
   ],
   "source": [
    "#SELECT * FROM emp WHERE SAL >= 2000 AND SAL< 4000\n",
    "result_7 = db.emp.find(\n",
    "    {\n",
    "        \"SAL\":{\n",
    "            \"$gte\" : 2000,\n",
    "             \n",
    "            \"$lt\":4000}\n",
    "\n",
    "        \n",
    "    },{\"_id\":0}\n",
    ")\n",
    "pd.DataFrame(result_7)\n"
   ]
  },
  {
   "cell_type": "code",
   "execution_count": null,
   "metadata": {},
   "outputs": [
    {
     "data": {
      "text/html": [
       "<div>\n",
       "<style scoped>\n",
       "    .dataframe tbody tr th:only-of-type {\n",
       "        vertical-align: middle;\n",
       "    }\n",
       "\n",
       "    .dataframe tbody tr th {\n",
       "        vertical-align: top;\n",
       "    }\n",
       "\n",
       "    .dataframe thead th {\n",
       "        text-align: right;\n",
       "    }\n",
       "</style>\n",
       "<table border=\"1\" class=\"dataframe\">\n",
       "  <thead>\n",
       "    <tr style=\"text-align: right;\">\n",
       "      <th></th>\n",
       "      <th>ENAME</th>\n",
       "    </tr>\n",
       "  </thead>\n",
       "  <tbody>\n",
       "    <tr>\n",
       "      <th>0</th>\n",
       "      <td>JONES</td>\n",
       "    </tr>\n",
       "    <tr>\n",
       "      <th>1</th>\n",
       "      <td>ADAMS</td>\n",
       "    </tr>\n",
       "    <tr>\n",
       "      <th>2</th>\n",
       "      <td>JAMES</td>\n",
       "    </tr>\n",
       "  </tbody>\n",
       "</table>\n",
       "</div>"
      ],
      "text/plain": [
       "   ENAME\n",
       "0  JONES\n",
       "1  ADAMS\n",
       "2  JAMES"
      ]
     },
     "execution_count": 52,
     "metadata": {},
     "output_type": "execute_result"
    }
   ],
   "source": [
    "#SELECT * FROM emp WHERE ENAME LIKE %%s%%\n",
    "result_8 = db.emp.find(\n",
    "    {\n",
    "        \"ENAME\" : {\n",
    "            \"$regex\": \"S$\"}\n",
    "    },{\"ENAME\":1,\"_id\":0}\n",
    ")\n",
    "\n",
    "# ^앞에 붙이면 그 문자로 시작. 뒤에  $붙이면 그 문자로 끝. 아무것도 없으면 그 문자가 포함\n",
    "pd.DataFrame(result_8)"
   ]
  },
  {
   "cell_type": "code",
   "execution_count": null,
   "metadata": {},
   "outputs": [],
   "source": [
    "#SELECT ENAME,JOB, SAL, DEPTNO FROM WHERE SAL > 1250 AND SAL <=3000 AND JOB= \n",
    "#ORDER BY ENAME"
   ]
  },
  {
   "cell_type": "code",
   "execution_count": null,
   "metadata": {},
   "outputs": [
    {
     "data": {
      "text/html": [
       "<div>\n",
       "<style scoped>\n",
       "    .dataframe tbody tr th:only-of-type {\n",
       "        vertical-align: middle;\n",
       "    }\n",
       "\n",
       "    .dataframe tbody tr th {\n",
       "        vertical-align: top;\n",
       "    }\n",
       "\n",
       "    .dataframe thead th {\n",
       "        text-align: right;\n",
       "    }\n",
       "</style>\n",
       "<table border=\"1\" class=\"dataframe\">\n",
       "  <thead>\n",
       "    <tr style=\"text-align: right;\">\n",
       "      <th></th>\n",
       "      <th>ENAME</th>\n",
       "      <th>JOB</th>\n",
       "      <th>SAL</th>\n",
       "      <th>DEPTNO</th>\n",
       "    </tr>\n",
       "  </thead>\n",
       "  <tbody>\n",
       "    <tr>\n",
       "      <th>0</th>\n",
       "      <td>TURNER</td>\n",
       "      <td>SALESMAN</td>\n",
       "      <td>1500.0</td>\n",
       "      <td>30</td>\n",
       "    </tr>\n",
       "    <tr>\n",
       "      <th>1</th>\n",
       "      <td>ALLEN</td>\n",
       "      <td>SALESMAN</td>\n",
       "      <td>1600.0</td>\n",
       "      <td>30</td>\n",
       "    </tr>\n",
       "  </tbody>\n",
       "</table>\n",
       "</div>"
      ],
      "text/plain": [
       "    ENAME       JOB     SAL DEPTNO\n",
       "0  TURNER  SALESMAN  1500.0     30\n",
       "1   ALLEN  SALESMAN  1600.0     30"
      ]
     },
     "execution_count": 57,
     "metadata": {},
     "output_type": "execute_result"
    }
   ],
   "source": [
    "result_9 = db.emp.find(\n",
    "    {\"SAL\":{\n",
    "            \"$gt\" : 1250,             \n",
    "            \"$lte\":3000\n",
    "            },\n",
    "     \"JOB\" : \"SALESMAN\"\n",
    "    },\n",
    "    {\"ENAME\":1, \"JOB\":1, \"SAL\":1, \"DEPTNO\":1,\"_id\":0}\n",
    "    \n",
    ").sort(\"ENAME\",-1)  # -1쓰면 내림차순\n",
    "\n",
    "pd.DataFrame(result_9)"
   ]
  },
  {
   "cell_type": "code",
   "execution_count": 14,
   "metadata": {},
   "outputs": [
    {
     "data": {
      "text/plain": [
       "<pymongo.results.UpdateResult at 0x21b61a89200>"
      ]
     },
     "execution_count": 14,
     "metadata": {},
     "output_type": "execute_result"
    }
   ],
   "source": [
    "db.emp.update_one(\n",
    "    {\n",
    "        \"ENAME\" : \"SMITH\"\n",
    "    },\n",
    "    {\n",
    "        \"$set\" : {\n",
    "            \"SAL\" :880\n",
    "        }\n",
    "    }\n",
    ") # update_one 하면 중복데이터 있더라도 하나만 업데이트함. "
   ]
  },
  {
   "cell_type": "code",
   "execution_count": 16,
   "metadata": {},
   "outputs": [
    {
     "data": {
      "text/html": [
       "<div>\n",
       "<style scoped>\n",
       "    .dataframe tbody tr th:only-of-type {\n",
       "        vertical-align: middle;\n",
       "    }\n",
       "\n",
       "    .dataframe tbody tr th {\n",
       "        vertical-align: top;\n",
       "    }\n",
       "\n",
       "    .dataframe thead th {\n",
       "        text-align: right;\n",
       "    }\n",
       "</style>\n",
       "<table border=\"1\" class=\"dataframe\">\n",
       "  <thead>\n",
       "    <tr style=\"text-align: right;\">\n",
       "      <th></th>\n",
       "      <th>EMPNO</th>\n",
       "      <th>ENAME</th>\n",
       "      <th>JOB</th>\n",
       "      <th>MGR</th>\n",
       "      <th>HIREDATE</th>\n",
       "      <th>SAL</th>\n",
       "      <th>DEPTNO</th>\n",
       "    </tr>\n",
       "  </thead>\n",
       "  <tbody>\n",
       "    <tr>\n",
       "      <th>0</th>\n",
       "      <td>7369</td>\n",
       "      <td>SMITH</td>\n",
       "      <td>CLERK</td>\n",
       "      <td>7902</td>\n",
       "      <td>1980-12-17</td>\n",
       "      <td>880</td>\n",
       "      <td>20</td>\n",
       "    </tr>\n",
       "  </tbody>\n",
       "</table>\n",
       "</div>"
      ],
      "text/plain": [
       "   EMPNO  ENAME    JOB   MGR    HIREDATE  SAL DEPTNO\n",
       "0   7369  SMITH  CLERK  7902  1980-12-17  880     20"
      ]
     },
     "execution_count": 16,
     "metadata": {},
     "output_type": "execute_result"
    }
   ],
   "source": [
    "result_10 = db.emp.find({\n",
    "    \"ENAME\" : \"SMITH\"\n",
    "},{\"_id\":0})\n",
    "pd.DataFrame(result_10)"
   ]
  },
  {
   "cell_type": "code",
   "execution_count": 17,
   "metadata": {},
   "outputs": [
    {
     "data": {
      "text/plain": [
       "<pymongo.results.DeleteResult at 0x21b6a2cc140>"
      ]
     },
     "execution_count": 17,
     "metadata": {},
     "output_type": "execute_result"
    }
   ],
   "source": [
    "db.emp.delete_one(\n",
    "    {\n",
    "        \"JOB\" : \"PRESIDENT\"\n",
    "    }\n",
    ")"
   ]
  },
  {
   "cell_type": "code",
   "execution_count": 18,
   "metadata": {},
   "outputs": [
    {
     "data": {
      "text/html": [
       "<div>\n",
       "<style scoped>\n",
       "    .dataframe tbody tr th:only-of-type {\n",
       "        vertical-align: middle;\n",
       "    }\n",
       "\n",
       "    .dataframe tbody tr th {\n",
       "        vertical-align: top;\n",
       "    }\n",
       "\n",
       "    .dataframe thead th {\n",
       "        text-align: right;\n",
       "    }\n",
       "</style>\n",
       "<table border=\"1\" class=\"dataframe\">\n",
       "  <thead>\n",
       "    <tr style=\"text-align: right;\">\n",
       "      <th></th>\n",
       "    </tr>\n",
       "  </thead>\n",
       "  <tbody>\n",
       "  </tbody>\n",
       "</table>\n",
       "</div>"
      ],
      "text/plain": [
       "Empty DataFrame\n",
       "Columns: []\n",
       "Index: []"
      ]
     },
     "execution_count": 18,
     "metadata": {},
     "output_type": "execute_result"
    }
   ],
   "source": [
    "result_11 = db.emp.find({\n",
    "    \"JOB\" : \"PRESIDENT\"\n",
    "},{\"_id\":0})\n",
    "pd.DataFrame(result_11)"
   ]
  },
  {
   "cell_type": "code",
   "execution_count": null,
   "metadata": {},
   "outputs": [],
   "source": []
  }
 ],
 "metadata": {
  "interpreter": {
   "hash": "de415b4ccc84710333d4cce7c3157faf7a031aee324e8431b231be5e6b20506c"
  },
  "kernelspec": {
   "display_name": "Python 3.10.2 64-bit",
   "language": "python",
   "name": "python3"
  },
  "language_info": {
   "codemirror_mode": {
    "name": "ipython",
    "version": 3
   },
   "file_extension": ".py",
   "mimetype": "text/x-python",
   "name": "python",
   "nbconvert_exporter": "python",
   "pygments_lexer": "ipython3",
   "version": "3.10.2"
  },
  "orig_nbformat": 4
 },
 "nbformat": 4,
 "nbformat_minor": 2
}
