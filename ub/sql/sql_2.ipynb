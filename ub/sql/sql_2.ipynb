{
 "cells": [
  {
   "cell_type": "code",
   "execution_count": 3,
   "metadata": {},
   "outputs": [],
   "source": [
    "import pymysql"
   ]
  },
  {
   "cell_type": "code",
   "execution_count": 4,
   "metadata": {},
   "outputs": [],
   "source": [
    "sample_db = pymysql.connect(\n",
    "    user = \"root\", #내PC는 root 임\n",
    "    passwd = \"0789\",  # sql 비밀번호 입력 \n",
    "    host = \"localhost\",  # 내PC/ 127.0.0.1 해도 됨\n",
    "    db = \"ubion\", #연결할 데이터베이스\n",
    "    charset = \"utf8\" #한글이 깨지지 않도록 설정하는 옵션\n",
    ")"
   ]
  },
  {
   "cell_type": "code",
   "execution_count": 33,
   "metadata": {},
   "outputs": [],
   "source": [
    "cursor = sample_db.cursor(pymysql.cursors.DictCursor)"
   ]
  },
  {
   "cell_type": "code",
   "execution_count": 34,
   "metadata": {},
   "outputs": [
    {
     "data": {
      "text/plain": [
       "0"
      ]
     },
     "execution_count": 34,
     "metadata": {},
     "output_type": "execute_result"
    }
   ],
   "source": [
    "sql_create = \"create table base3 (No int(32) auto_increment, post_id varchar(32),primary key(No,post_id), password varchar(32) not null)\"  #파이썬으로 테이블 만들기 \n",
    "cursor.execute(sql_create) "
   ]
  },
  {
   "cell_type": "code",
   "execution_count": 13,
   "metadata": {},
   "outputs": [],
   "source": [
    "sample_db.commit()\n",
    "sample_db.close()"
   ]
  },
  {
   "cell_type": "code",
   "execution_count": 35,
   "metadata": {},
   "outputs": [
    {
     "data": {
      "text/plain": [
       "1"
      ]
     },
     "execution_count": 35,
     "metadata": {},
     "output_type": "execute_result"
    }
   ],
   "source": [
    "sql_insert= \"insert into base3(post_id, password) values('sol','0789')\"\n",
    "cursor.execute(sql_insert)"
   ]
  },
  {
   "cell_type": "code",
   "execution_count": 24,
   "metadata": {},
   "outputs": [
    {
     "data": {
      "text/plain": [
       "0"
      ]
     },
     "execution_count": 24,
     "metadata": {},
     "output_type": "execute_result"
    }
   ],
   "source": [
    "#sql_alter= \"alter table base3 auto_increment=1\"\n",
    "#cursor.execute(sql_alter)"
   ]
  },
  {
   "cell_type": "code",
   "execution_count": 36,
   "metadata": {},
   "outputs": [
    {
     "data": {
      "text/plain": [
       "3"
      ]
     },
     "execution_count": 36,
     "metadata": {},
     "output_type": "execute_result"
    }
   ],
   "source": [
    "sql_insert2= \"insert into base3(post_id, password) values('cero','6496'),('sun','3126'),('young','9994')\"\n",
    "cursor.execute(sql_insert2)"
   ]
  },
  {
   "cell_type": "code",
   "execution_count": 29,
   "metadata": {},
   "outputs": [
    {
     "name": "stdout",
     "output_type": "stream",
     "text": [
      "[{'No': 1, 'post_id': 'sol', 'password': '0789'}, {'No': 2, 'post_id': 'sol', 'password': '0789'}, {'No': 3, 'post_id': 'cero', 'password': '6496'}, {'No': 4, 'post_id': 'sun', 'password': '3126'}, {'No': 5, 'post_id': 'young', 'password': '9994'}]\n"
     ]
    }
   ],
   "source": [
    "sql_select = \"select*from base3\"\n",
    "cursor.execute(sql_select)\n",
    "result=cursor.fetchall()\n",
    "print(result)"
   ]
  },
  {
   "cell_type": "code",
   "execution_count": 37,
   "metadata": {},
   "outputs": [],
   "source": [
    "sample_db.commit()\n",
    "sample_db.close()"
   ]
  },
  {
   "cell_type": "code",
   "execution_count": null,
   "metadata": {},
   "outputs": [],
   "source": []
  }
 ],
 "metadata": {
  "interpreter": {
   "hash": "de415b4ccc84710333d4cce7c3157faf7a031aee324e8431b231be5e6b20506c"
  },
  "kernelspec": {
   "display_name": "Python 3.10.2 64-bit",
   "language": "python",
   "name": "python3"
  },
  "language_info": {
   "codemirror_mode": {
    "name": "ipython",
    "version": 3
   },
   "file_extension": ".py",
   "mimetype": "text/x-python",
   "name": "python",
   "nbconvert_exporter": "python",
   "pygments_lexer": "ipython3",
   "version": "3.10.2"
  },
  "orig_nbformat": 4
 },
 "nbformat": 4,
 "nbformat_minor": 2
}
