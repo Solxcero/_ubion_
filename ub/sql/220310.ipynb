{
 "cells": [
  {
   "cell_type": "code",
   "execution_count": 1,
   "metadata": {},
   "outputs": [],
   "source": [
    "import pymysql\n",
    "import pandas as pd"
   ]
  },
  {
   "cell_type": "code",
   "execution_count": 2,
   "metadata": {},
   "outputs": [],
   "source": [
    "_db = pymysql.connect(\n",
    "    user = 'root',\n",
    "    password = '0789',\n",
    "    host = 'localhost',\n",
    "    db = 'ubion',\n",
    "    #charset = 'utf8'\n",
    ")   # 클래스 안에 값 입력 "
   ]
  },
  {
   "cell_type": "code",
   "execution_count": 3,
   "metadata": {},
   "outputs": [],
   "source": [
    "cursor = _db.cursor(pymysql.cursors.DictCursor)  #생성된 클래스에 메소드입력 "
   ]
  },
  {
   "cell_type": "code",
   "execution_count": 4,
   "metadata": {},
   "outputs": [
    {
     "name": "stdout",
     "output_type": "stream",
     "text": [
      "[{'ID': 'test', 'password': '1234', 'name': '고길동', 'phone': '01012345678', 'ads': '서울시 강북구 쌍문동', 'gender': 1, 'age': 45, 'regit_date': '20220310'}, {'ID': 'test2', 'password': '5678', 'name': '둘리', 'phone': '01098765432', 'ads': '북극 어딘가', 'gender': 1, 'age': 10, 'regit_date': '20220310'}, {'ID': 'test3', 'password': '8513', 'name': '마이콜', 'phone': '01045678765', 'ads': '고길동 옆 집', 'gender': 1, 'age': 28, 'regit_date': '20220310'}, {'ID': 'test4', 'password': '9809', 'name': '또치', 'phone': '01029384756', 'ads': '동물원', 'gender': 2, 'age': 4, 'regit_date': '20220310'}, {'ID': 'test5', 'password': '9999', 'name': '도우너', 'phone': '01087653456', 'ads': '깐따삐아', 'gender': 1, 'age': 10, 'regit_date': '20220310'}, {'ID': 'test6', 'password': '4567', 'name': '희동이', 'phone': '01088765543', 'ads': '고길동집', 'gender': 1, 'age': 3, 'regit_date': '20220311'}, {'ID': 'test7', 'password': '0210', 'name': '이선영', 'phone': '01082825555', 'ads': '수원시', 'gender': 2, 'age': 25, 'regit_date': '20220311'}]\n"
     ]
    }
   ],
   "source": [
    "sql = \"select*from user_info\"\n",
    "\n",
    "cursor.execute(sql)\n",
    "result = cursor.fetchall()\n",
    "print(result)"
   ]
  },
  {
   "cell_type": "code",
   "execution_count": 5,
   "metadata": {},
   "outputs": [
    {
     "data": {
      "text/html": [
       "<div>\n",
       "<style scoped>\n",
       "    .dataframe tbody tr th:only-of-type {\n",
       "        vertical-align: middle;\n",
       "    }\n",
       "\n",
       "    .dataframe tbody tr th {\n",
       "        vertical-align: top;\n",
       "    }\n",
       "\n",
       "    .dataframe thead th {\n",
       "        text-align: right;\n",
       "    }\n",
       "</style>\n",
       "<table border=\"1\" class=\"dataframe\">\n",
       "  <thead>\n",
       "    <tr style=\"text-align: right;\">\n",
       "      <th></th>\n",
       "      <th>ID</th>\n",
       "      <th>password</th>\n",
       "      <th>name</th>\n",
       "      <th>phone</th>\n",
       "      <th>ads</th>\n",
       "      <th>gender</th>\n",
       "      <th>age</th>\n",
       "      <th>regit_date</th>\n",
       "    </tr>\n",
       "  </thead>\n",
       "  <tbody>\n",
       "    <tr>\n",
       "      <th>0</th>\n",
       "      <td>test</td>\n",
       "      <td>1234</td>\n",
       "      <td>고길동</td>\n",
       "      <td>01012345678</td>\n",
       "      <td>서울시 강북구 쌍문동</td>\n",
       "      <td>1</td>\n",
       "      <td>45</td>\n",
       "      <td>20220310</td>\n",
       "    </tr>\n",
       "    <tr>\n",
       "      <th>1</th>\n",
       "      <td>test2</td>\n",
       "      <td>5678</td>\n",
       "      <td>둘리</td>\n",
       "      <td>01098765432</td>\n",
       "      <td>북극 어딘가</td>\n",
       "      <td>1</td>\n",
       "      <td>10</td>\n",
       "      <td>20220310</td>\n",
       "    </tr>\n",
       "    <tr>\n",
       "      <th>2</th>\n",
       "      <td>test3</td>\n",
       "      <td>8513</td>\n",
       "      <td>마이콜</td>\n",
       "      <td>01045678765</td>\n",
       "      <td>고길동 옆 집</td>\n",
       "      <td>1</td>\n",
       "      <td>28</td>\n",
       "      <td>20220310</td>\n",
       "    </tr>\n",
       "    <tr>\n",
       "      <th>3</th>\n",
       "      <td>test4</td>\n",
       "      <td>9809</td>\n",
       "      <td>또치</td>\n",
       "      <td>01029384756</td>\n",
       "      <td>동물원</td>\n",
       "      <td>2</td>\n",
       "      <td>4</td>\n",
       "      <td>20220310</td>\n",
       "    </tr>\n",
       "    <tr>\n",
       "      <th>4</th>\n",
       "      <td>test5</td>\n",
       "      <td>9999</td>\n",
       "      <td>도우너</td>\n",
       "      <td>01087653456</td>\n",
       "      <td>깐따삐아</td>\n",
       "      <td>1</td>\n",
       "      <td>10</td>\n",
       "      <td>20220310</td>\n",
       "    </tr>\n",
       "    <tr>\n",
       "      <th>5</th>\n",
       "      <td>test6</td>\n",
       "      <td>4567</td>\n",
       "      <td>희동이</td>\n",
       "      <td>01088765543</td>\n",
       "      <td>고길동집</td>\n",
       "      <td>1</td>\n",
       "      <td>3</td>\n",
       "      <td>20220311</td>\n",
       "    </tr>\n",
       "    <tr>\n",
       "      <th>6</th>\n",
       "      <td>test7</td>\n",
       "      <td>0210</td>\n",
       "      <td>이선영</td>\n",
       "      <td>01082825555</td>\n",
       "      <td>수원시</td>\n",
       "      <td>2</td>\n",
       "      <td>25</td>\n",
       "      <td>20220311</td>\n",
       "    </tr>\n",
       "  </tbody>\n",
       "</table>\n",
       "</div>"
      ],
      "text/plain": [
       "      ID password name        phone          ads  gender  age regit_date\n",
       "0   test     1234  고길동  01012345678  서울시 강북구 쌍문동       1   45   20220310\n",
       "1  test2     5678   둘리  01098765432       북극 어딘가       1   10   20220310\n",
       "2  test3     8513  마이콜  01045678765      고길동 옆 집       1   28   20220310\n",
       "3  test4     9809   또치  01029384756          동물원       2    4   20220310\n",
       "4  test5     9999  도우너  01087653456         깐따삐아       1   10   20220310\n",
       "5  test6     4567  희동이  01088765543         고길동집       1    3   20220311\n",
       "6  test7     0210  이선영  01082825555          수원시       2   25   20220311"
      ]
     },
     "execution_count": 5,
     "metadata": {},
     "output_type": "execute_result"
    }
   ],
   "source": [
    "# result를 데이터프레임으로 만들기\n",
    "\n",
    "dt = pd.DataFrame(result)\n",
    "dt"
   ]
  },
  {
   "cell_type": "code",
   "execution_count": null,
   "metadata": {},
   "outputs": [],
   "source": [
    "sql = \"insert into user_info values (%s, %s, %s, %s, %s, %s, %s, %s)\"  # sql은 그냥 다 s로 \n",
    "values = [\"test4\",\"9809\",\"또치\",\"01029384756\",\"동물원\", 2, 4, \"20220310\"]\n",
    "\n",
    "cursor.execute(sql, values)\n",
    "_db.commit()"
   ]
  },
  {
   "cell_type": "code",
   "execution_count": 20,
   "metadata": {},
   "outputs": [],
   "source": [
    "sql = \"insert into user_info values (%s, %s, %s, %s, %s, %s, %s, %s)\"\n",
    "\n",
    "_ID = input(\"ID:\")\n",
    "pw = input(\"password:\")\n",
    "name = input(\"name:\")\n",
    "phone = input(\"phone:\")\n",
    "ads = input(\"ads:\")\n",
    "gender = input(\"gender:\") #정수형으로 안바꿔도 됨\n",
    "age = input(\"age:\")\n",
    "regit_date = input(\"regit_date:\")\n",
    "\n",
    "input_list=[_ID, pw, name, phone, ads, gender, age, regit_date]\n",
    "\n",
    "cursor.execute(sql, input_list)\n",
    "_db.commit()"
   ]
  },
  {
   "cell_type": "code",
   "execution_count": 11,
   "metadata": {},
   "outputs": [
    {
     "name": "stdout",
     "output_type": "stream",
     "text": [
      "[{'ads': '동물원', 'register_count': 3, 'dol': 50, 'contract_type': 1}, {'ads': '북극 어딘가', 'register_count': 2, 'dol': 1200, 'contract_type': 0}, {'ads': '서울시 강북구 쌍문동', 'register_count': 5, 'dol': 48, 'contract_type': 0}, {'ads': '수원시', 'register_count': 3, 'dol': 50, 'contract_type': 2}, {'ads': '유비온', 'register_count': 20, 'dol': 60, 'contract_type': 2}]\n"
     ]
    }
   ],
   "source": [
    "sql_2 = \"select*from ads_info\"\n",
    "\n",
    "cursor.execute(sql_2)\n",
    "result_2 = cursor.fetchall()\n",
    "print(result_2)"
   ]
  },
  {
   "cell_type": "code",
   "execution_count": 12,
   "metadata": {},
   "outputs": [
    {
     "data": {
      "text/html": [
       "<div>\n",
       "<style scoped>\n",
       "    .dataframe tbody tr th:only-of-type {\n",
       "        vertical-align: middle;\n",
       "    }\n",
       "\n",
       "    .dataframe tbody tr th {\n",
       "        vertical-align: top;\n",
       "    }\n",
       "\n",
       "    .dataframe thead th {\n",
       "        text-align: right;\n",
       "    }\n",
       "</style>\n",
       "<table border=\"1\" class=\"dataframe\">\n",
       "  <thead>\n",
       "    <tr style=\"text-align: right;\">\n",
       "      <th></th>\n",
       "      <th>ads</th>\n",
       "      <th>register_count</th>\n",
       "      <th>dol</th>\n",
       "      <th>contract_type</th>\n",
       "    </tr>\n",
       "  </thead>\n",
       "  <tbody>\n",
       "    <tr>\n",
       "      <th>0</th>\n",
       "      <td>동물원</td>\n",
       "      <td>3</td>\n",
       "      <td>50</td>\n",
       "      <td>1</td>\n",
       "    </tr>\n",
       "    <tr>\n",
       "      <th>1</th>\n",
       "      <td>북극 어딘가</td>\n",
       "      <td>2</td>\n",
       "      <td>1200</td>\n",
       "      <td>0</td>\n",
       "    </tr>\n",
       "    <tr>\n",
       "      <th>2</th>\n",
       "      <td>서울시 강북구 쌍문동</td>\n",
       "      <td>5</td>\n",
       "      <td>48</td>\n",
       "      <td>0</td>\n",
       "    </tr>\n",
       "    <tr>\n",
       "      <th>3</th>\n",
       "      <td>수원시</td>\n",
       "      <td>3</td>\n",
       "      <td>50</td>\n",
       "      <td>2</td>\n",
       "    </tr>\n",
       "    <tr>\n",
       "      <th>4</th>\n",
       "      <td>유비온</td>\n",
       "      <td>20</td>\n",
       "      <td>60</td>\n",
       "      <td>2</td>\n",
       "    </tr>\n",
       "  </tbody>\n",
       "</table>\n",
       "</div>"
      ],
      "text/plain": [
       "           ads  register_count   dol  contract_type\n",
       "0          동물원               3    50              1\n",
       "1       북극 어딘가               2  1200              0\n",
       "2  서울시 강북구 쌍문동               5    48              0\n",
       "3          수원시               3    50              2\n",
       "4          유비온              20    60              2"
      ]
     },
     "execution_count": 12,
     "metadata": {},
     "output_type": "execute_result"
    }
   ],
   "source": [
    "dt_2 = pd.DataFrame(result_2)\n",
    "dt_2"
   ]
  },
  {
   "cell_type": "code",
   "execution_count": 9,
   "metadata": {},
   "outputs": [],
   "source": [
    "sql_2 = \"insert into ads_info values(%s,%s,%s,%s)\"\n",
    "values_2 = [\"수원시\",3,50,2]\n",
    "\n",
    "cursor.execute(sql_2,values_2)\n",
    "_db.commit()"
   ]
  },
  {
   "cell_type": "code",
   "execution_count": 13,
   "metadata": {},
   "outputs": [
    {
     "data": {
      "text/html": [
       "<div>\n",
       "<style scoped>\n",
       "    .dataframe tbody tr th:only-of-type {\n",
       "        vertical-align: middle;\n",
       "    }\n",
       "\n",
       "    .dataframe tbody tr th {\n",
       "        vertical-align: top;\n",
       "    }\n",
       "\n",
       "    .dataframe thead th {\n",
       "        text-align: right;\n",
       "    }\n",
       "</style>\n",
       "<table border=\"1\" class=\"dataframe\">\n",
       "  <thead>\n",
       "    <tr style=\"text-align: right;\">\n",
       "      <th></th>\n",
       "      <th>ID</th>\n",
       "      <th>name</th>\n",
       "      <th>ads</th>\n",
       "      <th>register_count</th>\n",
       "      <th>contract_type</th>\n",
       "    </tr>\n",
       "  </thead>\n",
       "  <tbody>\n",
       "    <tr>\n",
       "      <th>0</th>\n",
       "      <td>test</td>\n",
       "      <td>고길동</td>\n",
       "      <td>서울시 강북구 쌍문동</td>\n",
       "      <td>5.0</td>\n",
       "      <td>0.0</td>\n",
       "    </tr>\n",
       "    <tr>\n",
       "      <th>1</th>\n",
       "      <td>test2</td>\n",
       "      <td>둘리</td>\n",
       "      <td>북극 어딘가</td>\n",
       "      <td>2.0</td>\n",
       "      <td>0.0</td>\n",
       "    </tr>\n",
       "    <tr>\n",
       "      <th>2</th>\n",
       "      <td>test3</td>\n",
       "      <td>마이콜</td>\n",
       "      <td>고길동 옆 집</td>\n",
       "      <td>NaN</td>\n",
       "      <td>NaN</td>\n",
       "    </tr>\n",
       "    <tr>\n",
       "      <th>3</th>\n",
       "      <td>test4</td>\n",
       "      <td>또치</td>\n",
       "      <td>동물원</td>\n",
       "      <td>3.0</td>\n",
       "      <td>1.0</td>\n",
       "    </tr>\n",
       "    <tr>\n",
       "      <th>4</th>\n",
       "      <td>test5</td>\n",
       "      <td>도우너</td>\n",
       "      <td>깐따삐아</td>\n",
       "      <td>NaN</td>\n",
       "      <td>NaN</td>\n",
       "    </tr>\n",
       "    <tr>\n",
       "      <th>5</th>\n",
       "      <td>test6</td>\n",
       "      <td>희동이</td>\n",
       "      <td>고길동집</td>\n",
       "      <td>NaN</td>\n",
       "      <td>NaN</td>\n",
       "    </tr>\n",
       "    <tr>\n",
       "      <th>6</th>\n",
       "      <td>test7</td>\n",
       "      <td>이선영</td>\n",
       "      <td>수원시</td>\n",
       "      <td>3.0</td>\n",
       "      <td>2.0</td>\n",
       "    </tr>\n",
       "  </tbody>\n",
       "</table>\n",
       "</div>"
      ],
      "text/plain": [
       "      ID name          ads  register_count  contract_type\n",
       "0   test  고길동  서울시 강북구 쌍문동             5.0            0.0\n",
       "1  test2   둘리       북극 어딘가             2.0            0.0\n",
       "2  test3  마이콜      고길동 옆 집             NaN            NaN\n",
       "3  test4   또치          동물원             3.0            1.0\n",
       "4  test5  도우너         깐따삐아             NaN            NaN\n",
       "5  test6  희동이         고길동집             NaN            NaN\n",
       "6  test7  이선영          수원시             3.0            2.0"
      ]
     },
     "execution_count": 13,
     "metadata": {},
     "output_type": "execute_result"
    }
   ],
   "source": [
    "sql_join = \"SELECT user_info.ID, user_info.name, user_info.ads, ads_info.register_count, ads_info.contract_type from user_info left join ads_info on user_info.ads=ads_info.ads\"\n",
    "\n",
    "cursor.execute(sql_join)\n",
    "result_3=cursor.fetchall()\n",
    "\n",
    "dt_3 = pd.DataFrame(result_3)\n",
    "dt_3"
   ]
  },
  {
   "cell_type": "code",
   "execution_count": 14,
   "metadata": {},
   "outputs": [],
   "source": [
    "_db.commit()\n",
    "_db.close()"
   ]
  },
  {
   "cell_type": "code",
   "execution_count": null,
   "metadata": {},
   "outputs": [],
   "source": []
  }
 ],
 "metadata": {
  "interpreter": {
   "hash": "de415b4ccc84710333d4cce7c3157faf7a031aee324e8431b231be5e6b20506c"
  },
  "kernelspec": {
   "display_name": "Python 3.10.2 64-bit",
   "language": "python",
   "name": "python3"
  },
  "language_info": {
   "codemirror_mode": {
    "name": "ipython",
    "version": 3
   },
   "file_extension": ".py",
   "mimetype": "text/x-python",
   "name": "python",
   "nbconvert_exporter": "python",
   "pygments_lexer": "ipython3",
   "version": "3.10.2"
  },
  "orig_nbformat": 4
 },
 "nbformat": 4,
 "nbformat_minor": 2
}
