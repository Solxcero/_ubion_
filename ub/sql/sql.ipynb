{
 "cells": [
  {
   "cell_type": "code",
   "execution_count": 1,
   "metadata": {},
   "outputs": [],
   "source": [
    "import pymysql  #sql 불러오는 라이브러리 /python에서 sql문법을 사용해 데이터베이스를 다루는 방법"
   ]
  },
  {
   "cell_type": "code",
   "execution_count": 3,
   "metadata": {},
   "outputs": [],
   "source": [
    "#데이터베이스 접속 #close 하고 다시 실행 \n",
    "sample_db = pymysql.connect(\n",
    "    user = \"root\", #내PC는 root 임\n",
    "    passwd = \"0789\",  # sql 비밀번호 입력 \n",
    "    host = \"localhost\",  # 내PC/ 127.0.0.1 해도 됨\n",
    "    db = \"ubion\", #연결할 데이터베이스\n",
    "    charset = \"utf8\" #한글이 깨지지 않도록 설정하는 옵션\n",
    "\n",
    ")"
   ]
  },
  {
   "cell_type": "code",
   "execution_count": 50,
   "metadata": {},
   "outputs": [],
   "source": [
    "#cursor 생성 #close 하고 다시 실행해야함\n",
    "cursor = sample_db.cursor(pymysql.cursors.DictCursor)  #cursor 객체를 사용해 mysql다룸 "
   ]
  },
  {
   "cell_type": "code",
   "execution_count": 52,
   "metadata": {},
   "outputs": [
    {
     "name": "stdout",
     "output_type": "stream",
     "text": [
      "[{'post_id': 'test', 'password': '1000'}, {'post_id': 'test3', 'password': '6496'}, {'post_id': 'test4', 'password': '0789'}]\n"
     ]
    }
   ],
   "source": [
    "sql = \"SELECT * FROM base1\"\n",
    "\n",
    "cursor.execute(sql) #sql문 실행\n",
    "result = cursor.fetchall()  #결과 값 받아옴\n",
    "print(result)"
   ]
  },
  {
   "cell_type": "code",
   "execution_count": null,
   "metadata": {},
   "outputs": [],
   "source": [
    "#INSERT\n",
    "sql = \"INSERT INTO base1 values('test2', '1234')\"\n",
    "\n",
    "cursor.execute(sql)\n",
    "\n",
    "# 한 번 만 실행하면 완료. 여러번 실행할 경우 에러뜸=> primary key이기 때문에 이미 값이 입력 됐음 "
   ]
  },
  {
   "cell_type": "code",
   "execution_count": 34,
   "metadata": {},
   "outputs": [
    {
     "data": {
      "text/plain": [
       "1"
      ]
     },
     "execution_count": 34,
     "metadata": {},
     "output_type": "execute_result"
    }
   ],
   "source": [
    "#DELETE\n",
    "sql = \"delete from base1 where post_id='test2'\"\n",
    "cursor.execute(sql)"
   ]
  },
  {
   "cell_type": "code",
   "execution_count": 36,
   "metadata": {},
   "outputs": [
    {
     "name": "stdout",
     "output_type": "stream",
     "text": [
      "()\n"
     ]
    }
   ],
   "source": [
    "#UPDATE\n",
    "sql = \"update base1 set password='1000' where post_id='test'\"\n",
    "cursor.execute(sql)\n"
   ]
  },
  {
   "cell_type": "code",
   "execution_count": 37,
   "metadata": {},
   "outputs": [
    {
     "name": "stdout",
     "output_type": "stream",
     "text": [
      "[{'post_id': 'test', 'password': '1000'}]\n"
     ]
    }
   ],
   "source": [
    "sql=\"select*from base1\"\n",
    "\n",
    "cursor.execute(sql)\n",
    "result = cursor.fetchall()  #결과 값 받아옴\n",
    "print(result)"
   ]
  },
  {
   "cell_type": "code",
   "execution_count": 38,
   "metadata": {},
   "outputs": [],
   "source": [
    " #workbench에 표시됨 => sample_db 종료 시켜줌 \n",
    "sample_db.commit() # 실행 결과 확정\n",
    "sample_db.close()  # 연결 해제 "
   ]
  },
  {
   "cell_type": "code",
   "execution_count": 46,
   "metadata": {},
   "outputs": [
    {
     "data": {
      "text/plain": [
       "1"
      ]
     },
     "execution_count": 46,
     "metadata": {},
     "output_type": "execute_result"
    }
   ],
   "source": [
    "sql_3= \"insert into base1 values('test3','6496')\"\n",
    "cursor.execute(sql_3)\n"
   ]
  },
  {
   "cell_type": "code",
   "execution_count": 47,
   "metadata": {},
   "outputs": [
    {
     "data": {
      "text/plain": [
       "1"
      ]
     },
     "execution_count": 47,
     "metadata": {},
     "output_type": "execute_result"
    }
   ],
   "source": [
    "sql_4 = \"insert into base1 values('test4','0789')\"\n",
    "cursor.execute(sql_4)"
   ]
  },
  {
   "cell_type": "code",
   "execution_count": 48,
   "metadata": {},
   "outputs": [],
   "source": [
    "sample_db.commit()\n",
    "sample_db.close()"
   ]
  },
  {
   "cell_type": "code",
   "execution_count": null,
   "metadata": {},
   "outputs": [],
   "source": []
  },
  {
   "cell_type": "code",
   "execution_count": 53,
   "metadata": {},
   "outputs": [
    {
     "name": "stdout",
     "output_type": "stream",
     "text": [
      "[{'post_id': 'test4', 'password': '0789'}, {'post_id': 'test3', 'password': '6496'}, {'post_id': 'test', 'password': '1000'}]\n"
     ]
    }
   ],
   "source": [
    "select_sql = \"select * from base1 order by post_id desc\"  #group by 역순배열\n",
    "cursor.execute(select_sql)\n",
    "result=cursor.fetchall()\n",
    "print(result)"
   ]
  },
  {
   "cell_type": "code",
   "execution_count": 54,
   "metadata": {},
   "outputs": [
    {
     "name": "stdout",
     "output_type": "stream",
     "text": [
      "[{'No': 3, 'post_id': 'test5', 'phone': '01012345678'}, {'No': 2, 'post_id': 'test2', 'phone': '000'}, {'No': 1, 'post_id': 'test', 'phone': '000'}]\n"
     ]
    }
   ],
   "source": [
    "select_sql = \"select * from base2 order by post_id desc\"  #base2 No 역순으로 \n",
    "cursor.execute(select_sql)\n",
    "result=cursor.fetchall()\n",
    "print(result)"
   ]
  },
  {
   "cell_type": "code",
   "execution_count": 55,
   "metadata": {},
   "outputs": [
    {
     "name": "stdout",
     "output_type": "stream",
     "text": [
      "[{'No': 1, 'post_id': 'test', 'phone': '000'}, {'No': 2, 'post_id': 'test2', 'phone': '000'}, {'No': 3, 'post_id': 'test5', 'phone': '01012345678'}]\n"
     ]
    }
   ],
   "source": [
    "select_sql = \"select * from base2 order by post_id \"  \n",
    "cursor.execute(select_sql)\n",
    "result=cursor.fetchall()\n",
    "print(result)"
   ]
  },
  {
   "cell_type": "code",
   "execution_count": 65,
   "metadata": {},
   "outputs": [
    {
     "name": "stdout",
     "output_type": "stream",
     "text": [
      "[{'post_id': 'test', 'password': '1000', 'phone': '000'}]\n"
     ]
    }
   ],
   "source": [
    "#inner join (=join) , left join\n",
    "select_sql = \"select base1.post_id, base1.password, base2.phone from base1 join base2 on base1.post_id = base2.post_id\"\n",
    "cursor.execute(select_sql)\n",
    "result=cursor.fetchall()\n",
    "print(result)"
   ]
  },
  {
   "cell_type": "code",
   "execution_count": 62,
   "metadata": {},
   "outputs": [
    {
     "name": "stdout",
     "output_type": "stream",
     "text": [
      "[{'password': '1000', 'cnt': 1}, {'password': '6496', 'cnt': 1}, {'password': '0789', 'cnt': 1}]\n"
     ]
    }
   ],
   "source": [
    "select_sql = '''SELECT password, COUNT(password) as cnt FROM base1 GROUP BY password'''\n",
    "cursor.execute(select_sql)\n",
    "result = cursor.fetchall()\n",
    "print(result)"
   ]
  },
  {
   "cell_type": "code",
   "execution_count": 66,
   "metadata": {},
   "outputs": [],
   "source": [
    "sample_db.commit()\n",
    "sample_db.close()"
   ]
  },
  {
   "cell_type": "code",
   "execution_count": null,
   "metadata": {},
   "outputs": [],
   "source": []
  }
 ],
 "metadata": {
  "interpreter": {
   "hash": "de415b4ccc84710333d4cce7c3157faf7a031aee324e8431b231be5e6b20506c"
  },
  "kernelspec": {
   "display_name": "Python 3.10.2 64-bit",
   "language": "python",
   "name": "python3"
  },
  "language_info": {
   "codemirror_mode": {
    "name": "ipython",
    "version": 3
   },
   "file_extension": ".py",
   "mimetype": "text/x-python",
   "name": "python",
   "nbconvert_exporter": "python",
   "pygments_lexer": "ipython3",
   "version": "3.10.4"
  },
  "orig_nbformat": 4
 },
 "nbformat": 4,
 "nbformat_minor": 2
}
