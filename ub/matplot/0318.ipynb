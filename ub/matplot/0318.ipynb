{
 "cells": [
  {
   "cell_type": "code",
   "execution_count": 1,
   "metadata": {},
   "outputs": [],
   "source": [
    "import numpy as np\n",
    "import matplotlib.pyplot as plt"
   ]
  },
  {
   "cell_type": "code",
   "execution_count": 2,
   "metadata": {},
   "outputs": [
    {
     "data": {
      "text/plain": [
       "array([10, 20, 30, 40, 50, 60, 70, 80, 90])"
      ]
     },
     "execution_count": 2,
     "metadata": {},
     "output_type": "execute_result"
    }
   ],
   "source": [
    "x = np.array([10,20,30,40,50,60,70,80,90])\n",
    "x"
   ]
  },
  {
   "cell_type": "code",
   "execution_count": 6,
   "metadata": {},
   "outputs": [
    {
     "data": {
      "text/plain": [
       "array([20, 40, 60, 80])"
      ]
     },
     "execution_count": 6,
     "metadata": {},
     "output_type": "execute_result"
    }
   ],
   "source": [
    "#짝수만 출력\n",
    "x_ = np.array(x[1:len(x):2])\n",
    "x_"
   ]
  },
  {
   "cell_type": "code",
   "execution_count": 8,
   "metadata": {},
   "outputs": [
    {
     "data": {
      "text/plain": [
       "array([50, 60, 70, 80, 90])"
      ]
     },
     "execution_count": 8,
     "metadata": {},
     "output_type": "execute_result"
    }
   ],
   "source": [
    "x__ = np.array(x[4::])  # 이거 여러번 해보기 \n",
    "x__"
   ]
  },
  {
   "cell_type": "code",
   "execution_count": 13,
   "metadata": {},
   "outputs": [
    {
     "data": {
      "text/plain": [
       "array([ 0.        ,  3.33333333,  6.66666667, 10.        ])"
      ]
     },
     "execution_count": 13,
     "metadata": {},
     "output_type": "execute_result"
    }
   ],
   "source": [
    "# 스케일 / 범위 등분하기 \n",
    "np.linspace(0, 10, 4)"
   ]
  },
  {
   "cell_type": "code",
   "execution_count": 14,
   "metadata": {},
   "outputs": [
    {
     "data": {
      "text/plain": [
       "array([   100.        ,   3162.27766017, 100000.        ])"
      ]
     },
     "execution_count": 14,
     "metadata": {},
     "output_type": "execute_result"
    }
   ],
   "source": [
    "np.logspace(2,5,3) # 로그함수함수함수함수"
   ]
  },
  {
   "cell_type": "code",
   "execution_count": 16,
   "metadata": {},
   "outputs": [
    {
     "data": {
      "text/plain": [
       "[<matplotlib.lines.Line2D at 0x231d5a60fd0>]"
      ]
     },
     "execution_count": 16,
     "metadata": {},
     "output_type": "execute_result"
    },
    {
     "data": {
      "image/png": "[encoded data removed]",
      "text/plain": [
       "<Figure size 432x288 with 1 Axes>"
      ]
     },
     "metadata": {
      "needs_background": "light"
     },
     "output_type": "display_data"
    }
   ],
   "source": [
    "plt.plot(np.linspace(2,5,3))"
   ]
  },
  {
   "cell_type": "code",
   "execution_count": 17,
   "metadata": {},
   "outputs": [
    {
     "data": {
      "text/plain": [
       "[<matplotlib.lines.Line2D at 0x231d5afdc00>]"
      ]
     },
     "execution_count": 17,
     "metadata": {},
     "output_type": "execute_result"
    },
    {
     "data": {
      "image/png": "[encoded data removed]",
      "text/plain": [
       "<Figure size 432x288 with 1 Axes>"
      ]
     },
     "metadata": {
      "needs_background": "light"
     },
     "output_type": "display_data"
    }
   ],
   "source": [
    "plt.plot(np.logspace(2,10,50))"
   ]
  },
  {
   "cell_type": "code",
   "execution_count": 19,
   "metadata": {},
   "outputs": [
    {
     "data": {
      "text/plain": [
       "(array([47, 22, 82, 19, 85, 15, 89, 74, 26, 11]),\n",
       " array([34, 13, 66, 82, 10, 31, 29, 84, 51, 20]),\n",
       " array([34, 13, 66, 82, 10, 31, 29, 84, 51, 20]))"
      ]
     },
     "execution_count": 19,
     "metadata": {},
     "output_type": "execute_result"
    }
   ],
   "source": [
    "# seed() 난수\n",
    "np.random.seed(1)\n",
    "result = np.random.randint(10,100,10)\n",
    "np.random.seed(3)\n",
    "result_1 = np.random.randint(10,100,10)\n",
    "np.random.seed(3)\n",
    "result_2 = np.random.randint(10,100,10)\n",
    "\n",
    "result, result_1, result_2"
   ]
  },
  {
   "cell_type": "code",
   "execution_count": 20,
   "metadata": {},
   "outputs": [
    {
     "data": {
      "text/plain": [
       "array([0.2478883 , 0.0935515 , 0.69482365, 0.14537014, 0.4531723 ,\n",
       "       0.21557701, 0.35390507, 0.49263593, 0.91330145, 0.76582638])"
      ]
     },
     "execution_count": 20,
     "metadata": {},
     "output_type": "execute_result"
    }
   ],
   "source": [
    "# rand()\n",
    "np.random.rand(10)"
   ]
  },
  {
   "cell_type": "code",
   "execution_count": 22,
   "metadata": {},
   "outputs": [
    {
     "data": {
      "text/plain": [
       "array([25,  8, 44, 34, 16, 38, 21])"
      ]
     },
     "execution_count": 22,
     "metadata": {},
     "output_type": "execute_result"
    }
   ],
   "source": [
    "# 로또\n",
    "np.random.randint(1,46,7)"
   ]
  },
  {
   "cell_type": "code",
   "execution_count": 23,
   "metadata": {},
   "outputs": [
    {
     "data": {
      "text/plain": [
       "array([-0.53463016, -1.32688896,  0.66805241,  0.28587781, -0.37067527,\n",
       "        1.05045112,  0.2613125 , -0.69459727, -2.02469194,  0.84595316])"
      ]
     },
     "execution_count": 23,
     "metadata": {},
     "output_type": "execute_result"
    }
   ],
   "source": [
    "# randn()\n",
    "np.random.randn(10)"
   ]
  },
  {
   "cell_type": "code",
   "execution_count": 25,
   "metadata": {},
   "outputs": [
    {
     "data": {
      "text/plain": [
       "array([[56, 97, 96, 14, 38],\n",
       "       [31, 49, 62, 34, 53]])"
      ]
     },
     "execution_count": 25,
     "metadata": {},
     "output_type": "execute_result"
    }
   ],
   "source": [
    "#1부터 양수로 나오는거 100은 포함안됨/ 행렬(2차원으로 바꾸기)\n",
    "np.random.randint(1,100,(2,5))"
   ]
  },
  {
   "cell_type": "code",
   "execution_count": 26,
   "metadata": {},
   "outputs": [
    {
     "data": {
      "text/plain": [
       "array([[ 3, 29, 37, 91],\n",
       "       [45, 49, 60, 75],\n",
       "       [55, 92, 22, 57]])"
      ]
     },
     "execution_count": 26,
     "metadata": {},
     "output_type": "execute_result"
    }
   ],
   "source": [
    "r = np.random.randint(1,100,(3,4))\n",
    "r"
   ]
  },
  {
   "cell_type": "code",
   "execution_count": 30,
   "metadata": {},
   "outputs": [
    {
     "data": {
      "text/plain": [
       "array([[45, 49, 60, 75],\n",
       "       [55, 92, 22, 57],\n",
       "       [ 3, 29, 37, 91]])"
      ]
     },
     "execution_count": 30,
     "metadata": {},
     "output_type": "execute_result"
    }
   ],
   "source": [
    "#행 순서바꿀 때 \n",
    "np.random.shuffle(r)\n",
    "r"
   ]
  },
  {
   "cell_type": "code",
   "execution_count": 31,
   "metadata": {},
   "outputs": [
    {
     "data": {
      "text/plain": [
       "array([1., 3., 5., 7.])"
      ]
     },
     "execution_count": 31,
     "metadata": {},
     "output_type": "execute_result"
    }
   ],
   "source": [
    "#루트(제곱근)\n",
    "a = [1,9,25,49]\n",
    "a_sqrt = np.sqrt(a)\n",
    "a_sqrt\n"
   ]
  },
  {
   "cell_type": "code",
   "execution_count": 34,
   "metadata": {},
   "outputs": [
    {
     "data": {
      "text/plain": [
       "1.0"
      ]
     },
     "execution_count": 34,
     "metadata": {},
     "output_type": "execute_result"
    }
   ],
   "source": [
    "np.exp(0)"
   ]
  },
  {
   "cell_type": "code",
   "execution_count": 36,
   "metadata": {},
   "outputs": [
    {
     "data": {
      "text/plain": [
       "2.718281828459045"
      ]
     },
     "execution_count": 36,
     "metadata": {},
     "output_type": "execute_result"
    }
   ],
   "source": [
    "np.exp(1)"
   ]
  },
  {
   "cell_type": "code",
   "execution_count": 48,
   "metadata": {},
   "outputs": [
    {
     "data": {
      "text/plain": [
       "array([-5. , -4.9, -4.8, -4.7, -4.6, -4.5, -4.4, -4.3, -4.2, -4.1, -4. ,\n",
       "       -3.9, -3.8, -3.7, -3.6, -3.5, -3.4, -3.3, -3.2, -3.1, -3. , -2.9,\n",
       "       -2.8, -2.7, -2.6, -2.5, -2.4, -2.3, -2.2, -2.1, -2. , -1.9, -1.8,\n",
       "       -1.7, -1.6, -1.5, -1.4, -1.3, -1.2, -1.1, -1. , -0.9, -0.8, -0.7,\n",
       "       -0.6, -0.5, -0.4, -0.3, -0.2, -0.1,  0. ,  0.1,  0.2,  0.3,  0.4,\n",
       "        0.5,  0.6,  0.7,  0.8,  0.9,  1. ,  1.1,  1.2,  1.3,  1.4,  1.5,\n",
       "        1.6,  1.7,  1.8,  1.9,  2. ,  2.1,  2.2,  2.3,  2.4,  2.5,  2.6,\n",
       "        2.7,  2.8,  2.9,  3. ,  3.1,  3.2,  3.3,  3.4,  3.5,  3.6,  3.7,\n",
       "        3.8,  3.9,  4. ,  4.1,  4.2,  4.3,  4.4,  4.5,  4.6,  4.7,  4.8,\n",
       "        4.9,  5. ])"
      ]
     },
     "execution_count": 48,
     "metadata": {},
     "output_type": "execute_result"
    }
   ],
   "source": [
    "#표준정규분포 만들기 \n",
    "x = np.linspace(-5,5,101)\n",
    "x"
   ]
  },
  {
   "cell_type": "code",
   "execution_count": 49,
   "metadata": {},
   "outputs": [
    {
     "data": {
      "text/plain": [
       "array([1.48671951e-06, 2.43896075e-06, 3.96129909e-06, 6.36982518e-06,\n",
       "       1.01408521e-05, 1.59837411e-05, 2.49424713e-05, 3.85351967e-05,\n",
       "       5.89430678e-05, 8.92616572e-05, 1.33830226e-04, 1.98655471e-04,\n",
       "       2.91946926e-04, 4.24780271e-04, 6.11901930e-04, 8.72682695e-04,\n",
       "       1.23221917e-03, 1.72256894e-03, 2.38408820e-03, 3.26681906e-03,\n",
       "       4.43184841e-03, 5.95253242e-03, 7.91545158e-03, 1.04209348e-02,\n",
       "       1.35829692e-02, 1.75283005e-02, 2.23945303e-02, 2.83270377e-02,\n",
       "       3.54745928e-02, 4.39835960e-02, 5.39909665e-02, 6.56158148e-02,\n",
       "       7.89501583e-02, 9.40490774e-02, 1.10920835e-01, 1.29517596e-01,\n",
       "       1.49727466e-01, 1.71368592e-01, 1.94186055e-01, 2.17852177e-01,\n",
       "       2.41970725e-01, 2.66085250e-01, 2.89691553e-01, 3.12253933e-01,\n",
       "       3.33224603e-01, 3.52065327e-01, 3.68270140e-01, 3.81387815e-01,\n",
       "       3.91042694e-01, 3.96952547e-01, 3.98942280e-01, 3.96952547e-01,\n",
       "       3.91042694e-01, 3.81387815e-01, 3.68270140e-01, 3.52065327e-01,\n",
       "       3.33224603e-01, 3.12253933e-01, 2.89691553e-01, 2.66085250e-01,\n",
       "       2.41970725e-01, 2.17852177e-01, 1.94186055e-01, 1.71368592e-01,\n",
       "       1.49727466e-01, 1.29517596e-01, 1.10920835e-01, 9.40490774e-02,\n",
       "       7.89501583e-02, 6.56158148e-02, 5.39909665e-02, 4.39835960e-02,\n",
       "       3.54745928e-02, 2.83270377e-02, 2.23945303e-02, 1.75283005e-02,\n",
       "       1.35829692e-02, 1.04209348e-02, 7.91545158e-03, 5.95253242e-03,\n",
       "       4.43184841e-03, 3.26681906e-03, 2.38408820e-03, 1.72256894e-03,\n",
       "       1.23221917e-03, 8.72682695e-04, 6.11901930e-04, 4.24780271e-04,\n",
       "       2.91946926e-04, 1.98655471e-04, 1.33830226e-04, 8.92616572e-05,\n",
       "       5.89430678e-05, 3.85351967e-05, 2.49424713e-05, 1.59837411e-05,\n",
       "       1.01408521e-05, 6.36982518e-06, 3.96129909e-06, 2.43896075e-06,\n",
       "       1.48671951e-06])"
      ]
     },
     "execution_count": 49,
     "metadata": {},
     "output_type": "execute_result"
    }
   ],
   "source": [
    "y = (1 / np.sqrt(2 * np.pi)) * np.exp(-x**2/2)  # 정규분포식 \n",
    "y"
   ]
  },
  {
   "cell_type": "code",
   "execution_count": 50,
   "metadata": {},
   "outputs": [
    {
     "data": {
      "image/png": "[encoded data removed]",
      "text/plain": [
       "<Figure size 432x288 with 1 Axes>"
      ]
     },
     "metadata": {
      "needs_background": "light"
     },
     "output_type": "display_data"
    }
   ],
   "source": [
    "plt.plot(x,y)\n",
    "plt.xlabel(\"x\")\n",
    "plt.ylabel(\"y\")\n",
    "plt.show()"
   ]
  },
  {
   "cell_type": "code",
   "execution_count": 51,
   "metadata": {},
   "outputs": [],
   "source": [
    "import scipy.stats as stats"
   ]
  },
  {
   "cell_type": "code",
   "execution_count": 52,
   "metadata": {},
   "outputs": [
    {
     "data": {
      "text/plain": [
       "array([1.48671951e-06, 2.43896075e-06, 3.96129909e-06, 6.36982518e-06,\n",
       "       1.01408521e-05, 1.59837411e-05, 2.49424713e-05, 3.85351967e-05,\n",
       "       5.89430678e-05, 8.92616572e-05, 1.33830226e-04, 1.98655471e-04,\n",
       "       2.91946926e-04, 4.24780271e-04, 6.11901930e-04, 8.72682695e-04,\n",
       "       1.23221917e-03, 1.72256894e-03, 2.38408820e-03, 3.26681906e-03,\n",
       "       4.43184841e-03, 5.95253242e-03, 7.91545158e-03, 1.04209348e-02,\n",
       "       1.35829692e-02, 1.75283005e-02, 2.23945303e-02, 2.83270377e-02,\n",
       "       3.54745928e-02, 4.39835960e-02, 5.39909665e-02, 6.56158148e-02,\n",
       "       7.89501583e-02, 9.40490774e-02, 1.10920835e-01, 1.29517596e-01,\n",
       "       1.49727466e-01, 1.71368592e-01, 1.94186055e-01, 2.17852177e-01,\n",
       "       2.41970725e-01, 2.66085250e-01, 2.89691553e-01, 3.12253933e-01,\n",
       "       3.33224603e-01, 3.52065327e-01, 3.68270140e-01, 3.81387815e-01,\n",
       "       3.91042694e-01, 3.96952547e-01, 3.98942280e-01, 3.96952547e-01,\n",
       "       3.91042694e-01, 3.81387815e-01, 3.68270140e-01, 3.52065327e-01,\n",
       "       3.33224603e-01, 3.12253933e-01, 2.89691553e-01, 2.66085250e-01,\n",
       "       2.41970725e-01, 2.17852177e-01, 1.94186055e-01, 1.71368592e-01,\n",
       "       1.49727466e-01, 1.29517596e-01, 1.10920835e-01, 9.40490774e-02,\n",
       "       7.89501583e-02, 6.56158148e-02, 5.39909665e-02, 4.39835960e-02,\n",
       "       3.54745928e-02, 2.83270377e-02, 2.23945303e-02, 1.75283005e-02,\n",
       "       1.35829692e-02, 1.04209348e-02, 7.91545158e-03, 5.95253242e-03,\n",
       "       4.43184841e-03, 3.26681906e-03, 2.38408820e-03, 1.72256894e-03,\n",
       "       1.23221917e-03, 8.72682695e-04, 6.11901930e-04, 4.24780271e-04,\n",
       "       2.91946926e-04, 1.98655471e-04, 1.33830226e-04, 8.92616572e-05,\n",
       "       5.89430678e-05, 3.85351967e-05, 2.49424713e-05, 1.59837411e-05,\n",
       "       1.01408521e-05, 6.36982518e-06, 3.96129909e-06, 2.43896075e-06,\n",
       "       1.48671951e-06])"
      ]
     },
     "execution_count": 52,
     "metadata": {},
     "output_type": "execute_result"
    }
   ],
   "source": [
    "y_ = stats.norm(0,1).pdf(x)\n",
    "y_"
   ]
  },
  {
   "cell_type": "code",
   "execution_count": 59,
   "metadata": {},
   "outputs": [
    {
     "data": {
      "image/png": "[encoded data removed]",
      "text/plain": [
       "<Figure size 432x288 with 1 Axes>"
      ]
     },
     "metadata": {
      "needs_background": "light"
     },
     "output_type": "display_data"
    }
   ],
   "source": [
    "plt.plot(x,y_,'b--')\n",
    "plt.xlabel(\"x\")\n",
    "plt.ylabel(\"y\")\n",
    "plt.show()"
   ]
  },
  {
   "cell_type": "code",
   "execution_count": 56,
   "metadata": {},
   "outputs": [
    {
     "data": {
      "image/png": "[encoded data removed]",
      "text/plain": [
       "<Figure size 432x288 with 1 Axes>"
      ]
     },
     "metadata": {
      "needs_background": "light"
     },
     "output_type": "display_data"
    }
   ],
   "source": [
    "def norm(_a,_b,_x):\n",
    "    return stats.norm(_a,_b).pdf(_x)\n",
    "\n",
    "x = np.linspace(-20,20,101)\n",
    "\n",
    "for i in range(1,11):\n",
    "        plt.plot(norm(0,i,x))\n",
    "        #_y = norm(0,i,x)\n",
    "        #plt.plot(x,_y)\n",
    "plt.show()\n",
    "   "
   ]
  },
  {
   "cell_type": "code",
   "execution_count": 70,
   "metadata": {},
   "outputs": [
    {
     "data": {
      "text/plain": [
       "(array([2., 0., 0., 0., 0., 0., 0., 0., 0., 0., 0., 1., 0., 0., 0., 1., 0.,\n",
       "        0., 1., 0., 1., 0., 1., 1., 0., 1., 0., 0., 0., 1.]),\n",
       " array([23. , 25.5, 28. , 30.5, 33. , 35.5, 38. , 40.5, 43. , 45.5, 48. ,\n",
       "        50.5, 53. , 55.5, 58. , 60.5, 63. , 65.5, 68. , 70.5, 73. , 75.5,\n",
       "        78. , 80.5, 83. , 85.5, 88. , 90.5, 93. , 95.5, 98. ]),\n",
       " <BarContainer object of 30 artists>)"
      ]
     },
     "execution_count": 70,
     "metadata": {},
     "output_type": "execute_result"
    },
    {
     "data": {
      "image/png": "[encoded data removed]",
      "text/plain": [
       "<Figure size 432x288 with 1 Axes>"
      ]
     },
     "metadata": {
      "needs_background": "light"
     },
     "output_type": "display_data"
    }
   ],
   "source": [
    "#히스토그램\n",
    "x = np.random.randint(10,100,10)\n",
    "\n",
    "plt.hist(x)\n",
    "plt.hist(x, bins=30)"
   ]
  },
  {
   "cell_type": "code",
   "execution_count": 69,
   "metadata": {},
   "outputs": [
    {
     "data": {
      "text/plain": [
       "(array([ 2.,  2.,  4.,  4.,  4.,  5.,  6.,  6.,  7., 10.]),\n",
       " array([21. , 28.7, 36.4, 44.1, 51.8, 59.5, 67.2, 74.9, 82.6, 90.3, 98. ]),\n",
       " <BarContainer object of 10 artists>)"
      ]
     },
     "execution_count": 69,
     "metadata": {},
     "output_type": "execute_result"
    },
    {
     "data": {
      "image/png": "[encoded data removed]",
      "text/plain": [
       "<Figure size 432x288 with 1 Axes>"
      ]
     },
     "metadata": {
      "needs_background": "light"
     },
     "output_type": "display_data"
    }
   ],
   "source": [
    "plt.hist(x, cumulative=True) # 누적 "
   ]
  },
  {
   "cell_type": "code",
   "execution_count": 78,
   "metadata": {},
   "outputs": [
    {
     "data": {
      "text/plain": [
       "(array([0.5, 0. , 0.5, 0. , 0. , 0.5, 0. , 0.5, 0. , 0.5]),\n",
       " array([1. , 1.4, 1.8, 2.2, 2.6, 3. , 3.4, 3.8, 4.2, 4.6, 5. ]),\n",
       " <BarContainer object of 10 artists>)"
      ]
     },
     "execution_count": 78,
     "metadata": {},
     "output_type": "execute_result"
    },
    {
     "data": {
      "image/png": "[encoded data removed]",
      "text/plain": [
       "<Figure size 432x288 with 1 Axes>"
      ]
     },
     "metadata": {
      "needs_background": "light"
     },
     "output_type": "display_data"
    }
   ],
   "source": [
    "x= np.random.randint(0,10,10)\n",
    "plt.hist(x, density=True)  #면적 합이 1"
   ]
  },
  {
   "cell_type": "code",
   "execution_count": 77,
   "metadata": {},
   "outputs": [
    {
     "name": "stdout",
     "output_type": "stream",
     "text": [
      "[2 2 5 7 1 4 7 9 3 1]\n"
     ]
    },
    {
     "data": {
      "text/plain": [
       "(array([2., 2., 1., 1., 0., 1., 0., 2., 0., 1.]),\n",
       " array([1. , 1.8, 2.6, 3.4, 4.2, 5. , 5.8, 6.6, 7.4, 8.2, 9. ]),\n",
       " <BarContainer object of 10 artists>)"
      ]
     },
     "execution_count": 77,
     "metadata": {},
     "output_type": "execute_result"
    },
    {
     "data": {
      "image/png": "[encoded data removed]",
      "text/plain": [
       "<Figure size 432x288 with 1 Axes>"
      ]
     },
     "metadata": {
      "needs_background": "light"
     },
     "output_type": "display_data"
    }
   ],
   "source": [
    "x=np.random.randint(0,10,10)\n",
    "print(x)\n",
    "plt.hist(x)\n"
   ]
  },
  {
   "cell_type": "code",
   "execution_count": 87,
   "metadata": {},
   "outputs": [],
   "source": [
    "x=np.random.randint(10,100,5)\n",
    "labels = [\"A\",\"B\",'C','D','E']\n",
    "\n"
   ]
  },
  {
   "cell_type": "code",
   "execution_count": 93,
   "metadata": {},
   "outputs": [
    {
     "data": {
      "image/png": "[encoded data removed]",
      "text/plain": [
       "<Figure size 432x288 with 1 Axes>"
      ]
     },
     "metadata": {},
     "output_type": "display_data"
    }
   ],
   "source": [
    "explodes = [0.1,0.1,0.1,0.1,0.1]\n",
    "plt.pie(x,autopct='%.1f%%',labels=labels,counterclock=True,explode=explodes,textprops = dict(color=\"white\"))  #소수점 첫째자리 까지 나타내기 \n",
    "plt.show()"
   ]
  },
  {
   "cell_type": "code",
   "execution_count": 102,
   "metadata": {},
   "outputs": [],
   "source": [
    "x = np.linspace(1,10,10)\n",
    "y = np.random.rand(10)"
   ]
  },
  {
   "cell_type": "code",
   "execution_count": 111,
   "metadata": {},
   "outputs": [
    {
     "data": {
      "image/png": "[encoded data removed]",
      "text/plain": [
       "<Figure size 432x288 with 1 Axes>"
      ]
     },
     "metadata": {
      "needs_background": "light"
     },
     "output_type": "display_data"
    }
   ],
   "source": [
    "plt.plot(x,y)\n",
    "plt.xticks(np.arange(0,11,1.0))  #(min(x),max(x)+1,1.0)\n",
    "plt.yticks(np.arange(min(y),max(y)+0.1,0.1).round(1))\n",
    "plt.xlabel(\"X\")\n",
    "plt.ylabel(\"Y\")\n",
    "plt.legend(\"X\", loc =2)\n",
    "plt.grid()\n",
    "plt.show()"
   ]
  },
  {
   "cell_type": "code",
   "execution_count": 110,
   "metadata": {},
   "outputs": [
    {
     "data": {
      "text/plain": [
       "{'whiskers': [<matplotlib.lines.Line2D at 0x231e59c6a10>,\n",
       "  <matplotlib.lines.Line2D at 0x231e59c6980>],\n",
       " 'caps': [<matplotlib.lines.Line2D at 0x231e59c6680>,\n",
       "  <matplotlib.lines.Line2D at 0x231e59c6500>],\n",
       " 'boxes': [<matplotlib.lines.Line2D at 0x231e59c6860>],\n",
       " 'medians': [<matplotlib.lines.Line2D at 0x231e59c6200>],\n",
       " 'fliers': [<matplotlib.lines.Line2D at 0x231e59c4220>],\n",
       " 'means': []}"
      ]
     },
     "execution_count": 110,
     "metadata": {},
     "output_type": "execute_result"
    },
    {
     "data": {
      "image/png": "[encoded data removed]",
      "text/plain": [
       "<Figure size 432x288 with 1 Axes>"
      ]
     },
     "metadata": {
      "needs_background": "light"
     },
     "output_type": "display_data"
    }
   ],
   "source": [
    "plt.boxplot(x)"
   ]
  },
  {
   "cell_type": "code",
   "execution_count": 112,
   "metadata": {},
   "outputs": [],
   "source": [
    "y = np.linspace(1,10,10)\n",
    "x = np.random.rand(10)"
   ]
  },
  {
   "cell_type": "code",
   "execution_count": 115,
   "metadata": {},
   "outputs": [
    {
     "data": {
      "image/png": "[encoded data removed]",
      "text/plain": [
       "<Figure size 432x288 with 1 Axes>"
      ]
     },
     "metadata": {
      "needs_background": "light"
     },
     "output_type": "display_data"
    }
   ],
   "source": [
    "plt.barh(y,x)\n",
    "plt.savefig(\"test.png\",dpi=200,facecolor='white')"
   ]
  },
  {
   "cell_type": "code",
   "execution_count": null,
   "metadata": {},
   "outputs": [],
   "source": []
  }
 ],
 "metadata": {
  "interpreter": {
   "hash": "de415b4ccc84710333d4cce7c3157faf7a031aee324e8431b231be5e6b20506c"
  },
  "kernelspec": {
   "display_name": "Python 3.10.2 64-bit",
   "language": "python",
   "name": "python3"
  },
  "language_info": {
   "codemirror_mode": {
    "name": "ipython",
    "version": 3
   },
   "file_extension": ".py",
   "mimetype": "text/x-python",
   "name": "python",
   "nbconvert_exporter": "python",
   "pygments_lexer": "ipython3",
   "version": "3.10.2"
  },
  "orig_nbformat": 4
 },
 "nbformat": 4,
 "nbformat_minor": 2
}
