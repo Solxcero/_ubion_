{
 "cells": [
  {
   "cell_type": "code",
   "execution_count": 1,
   "metadata": {},
   "outputs": [],
   "source": [
    "import FinanceDataReader as fdr\n",
    "import pandas as pd\n",
    "import matplotlib.pyplot as plt\n",
    "import numpy as np\n",
    "from pmdarima.arima import ndiffs\n",
    "import pmdarima as pm"
   ]
  },
  {
   "cell_type": "code",
   "execution_count": 31,
   "metadata": {},
   "outputs": [
    {
     "data": {
      "text/html": [
       "<div>\n",
       "<style scoped>\n",
       "    .dataframe tbody tr th:only-of-type {\n",
       "        vertical-align: middle;\n",
       "    }\n",
       "\n",
       "    .dataframe tbody tr th {\n",
       "        vertical-align: top;\n",
       "    }\n",
       "\n",
       "    .dataframe thead th {\n",
       "        text-align: right;\n",
       "    }\n",
       "</style>\n",
       "<table border=\"1\" class=\"dataframe\">\n",
       "  <thead>\n",
       "    <tr style=\"text-align: right;\">\n",
       "      <th></th>\n",
       "      <th>Symbol</th>\n",
       "      <th>Market</th>\n",
       "      <th>Name</th>\n",
       "      <th>Sector</th>\n",
       "      <th>Industry</th>\n",
       "      <th>ListingDate</th>\n",
       "      <th>SettleMonth</th>\n",
       "      <th>Representative</th>\n",
       "      <th>HomePage</th>\n",
       "      <th>Region</th>\n",
       "    </tr>\n",
       "  </thead>\n",
       "  <tbody>\n",
       "    <tr>\n",
       "      <th>1</th>\n",
       "      <td>095570</td>\n",
       "      <td>KOSPI</td>\n",
       "      <td>AJ네트웍스</td>\n",
       "      <td>산업용 기계 및 장비 임대업</td>\n",
       "      <td>렌탈(파렛트, OA장비, 건설장비)</td>\n",
       "      <td>2015-08-21</td>\n",
       "      <td>12월</td>\n",
       "      <td>박대현, 손삼달</td>\n",
       "      <td>http://www.ajnet.co.kr</td>\n",
       "      <td>서울특별시</td>\n",
       "    </tr>\n",
       "    <tr>\n",
       "      <th>2</th>\n",
       "      <td>006840</td>\n",
       "      <td>KOSPI</td>\n",
       "      <td>AK홀딩스</td>\n",
       "      <td>기타 금융업</td>\n",
       "      <td>지주사업</td>\n",
       "      <td>1999-08-11</td>\n",
       "      <td>12월</td>\n",
       "      <td>채형석, 이석주(각자 대표이사)</td>\n",
       "      <td>http://www.aekyunggroup.co.kr</td>\n",
       "      <td>서울특별시</td>\n",
       "    </tr>\n",
       "    <tr>\n",
       "      <th>6</th>\n",
       "      <td>152100</td>\n",
       "      <td>KOSPI</td>\n",
       "      <td>ARIRANG 200</td>\n",
       "      <td>NaN</td>\n",
       "      <td>NaN</td>\n",
       "      <td>NaT</td>\n",
       "      <td>NaN</td>\n",
       "      <td>NaN</td>\n",
       "      <td>NaN</td>\n",
       "      <td>NaN</td>\n",
       "    </tr>\n",
       "    <tr>\n",
       "      <th>7</th>\n",
       "      <td>295820</td>\n",
       "      <td>KOSPI</td>\n",
       "      <td>ARIRANG 200동일가중</td>\n",
       "      <td>NaN</td>\n",
       "      <td>NaN</td>\n",
       "      <td>NaT</td>\n",
       "      <td>NaN</td>\n",
       "      <td>NaN</td>\n",
       "      <td>NaN</td>\n",
       "      <td>NaN</td>\n",
       "    </tr>\n",
       "    <tr>\n",
       "      <th>8</th>\n",
       "      <td>253150</td>\n",
       "      <td>KOSPI</td>\n",
       "      <td>ARIRANG 200선물레버리지</td>\n",
       "      <td>NaN</td>\n",
       "      <td>NaN</td>\n",
       "      <td>NaT</td>\n",
       "      <td>NaN</td>\n",
       "      <td>NaN</td>\n",
       "      <td>NaN</td>\n",
       "      <td>NaN</td>\n",
       "    </tr>\n",
       "  </tbody>\n",
       "</table>\n",
       "</div>"
      ],
      "text/plain": [
       "   Symbol Market               Name           Sector             Industry  \\\n",
       "1  095570  KOSPI             AJ네트웍스  산업용 기계 및 장비 임대업  렌탈(파렛트, OA장비, 건설장비)   \n",
       "2  006840  KOSPI              AK홀딩스           기타 금융업                 지주사업   \n",
       "6  152100  KOSPI        ARIRANG 200              NaN                  NaN   \n",
       "7  295820  KOSPI    ARIRANG 200동일가중              NaN                  NaN   \n",
       "8  253150  KOSPI  ARIRANG 200선물레버리지              NaN                  NaN   \n",
       "\n",
       "  ListingDate SettleMonth     Representative                       HomePage  \\\n",
       "1  2015-08-21         12월           박대현, 손삼달         http://www.ajnet.co.kr   \n",
       "2  1999-08-11         12월  채형석, 이석주(각자 대표이사)  http://www.aekyunggroup.co.kr   \n",
       "6         NaT         NaN                NaN                            NaN   \n",
       "7         NaT         NaN                NaN                            NaN   \n",
       "8         NaT         NaN                NaN                            NaN   \n",
       "\n",
       "  Region  \n",
       "1  서울특별시  \n",
       "2  서울특별시  \n",
       "6    NaN  \n",
       "7    NaN  \n",
       "8    NaN  "
      ]
     },
     "execution_count": 31,
     "metadata": {},
     "output_type": "execute_result"
    }
   ],
   "source": [
    "ksp = fdr.StockListing('KOSPI')\n",
    "ksp.head()"
   ]
  },
  {
   "cell_type": "code",
   "execution_count": 27,
   "metadata": {},
   "outputs": [
    {
     "data": {
      "text/html": [
       "<div>\n",
       "<style scoped>\n",
       "    .dataframe tbody tr th:only-of-type {\n",
       "        vertical-align: middle;\n",
       "    }\n",
       "\n",
       "    .dataframe tbody tr th {\n",
       "        vertical-align: top;\n",
       "    }\n",
       "\n",
       "    .dataframe thead th {\n",
       "        text-align: right;\n",
       "    }\n",
       "</style>\n",
       "<table border=\"1\" class=\"dataframe\">\n",
       "  <thead>\n",
       "    <tr style=\"text-align: right;\">\n",
       "      <th></th>\n",
       "      <th>Symbol</th>\n",
       "      <th>Market</th>\n",
       "      <th>Name</th>\n",
       "      <th>Sector</th>\n",
       "      <th>Industry</th>\n",
       "      <th>ListingDate</th>\n",
       "      <th>SettleMonth</th>\n",
       "      <th>Representative</th>\n",
       "      <th>HomePage</th>\n",
       "      <th>Region</th>\n",
       "    </tr>\n",
       "  </thead>\n",
       "  <tbody>\n",
       "    <tr>\n",
       "      <th>0</th>\n",
       "      <td>060310</td>\n",
       "      <td>KOSDAQ</td>\n",
       "      <td>3S</td>\n",
       "      <td>전자부품 제조업</td>\n",
       "      <td>반도체 웨이퍼 캐리어</td>\n",
       "      <td>2002-04-23</td>\n",
       "      <td>03월</td>\n",
       "      <td>김세완</td>\n",
       "      <td>http://www.3sref.com</td>\n",
       "      <td>서울특별시</td>\n",
       "    </tr>\n",
       "    <tr>\n",
       "      <th>3</th>\n",
       "      <td>054620</td>\n",
       "      <td>KOSDAQ</td>\n",
       "      <td>APS홀딩스</td>\n",
       "      <td>기타 금융업</td>\n",
       "      <td>인터넷 트래픽 솔루션</td>\n",
       "      <td>2001-12-04</td>\n",
       "      <td>12월</td>\n",
       "      <td>정기로</td>\n",
       "      <td>http://www.apsholdings.co.kr</td>\n",
       "      <td>경기도</td>\n",
       "    </tr>\n",
       "    <tr>\n",
       "      <th>4</th>\n",
       "      <td>265520</td>\n",
       "      <td>KOSDAQ</td>\n",
       "      <td>AP시스템</td>\n",
       "      <td>특수 목적용 기계 제조업</td>\n",
       "      <td>디스플레이 제조 장비</td>\n",
       "      <td>2017-04-07</td>\n",
       "      <td>12월</td>\n",
       "      <td>김영주</td>\n",
       "      <td>http://www.apsystems.co.kr</td>\n",
       "      <td>경기도</td>\n",
       "    </tr>\n",
       "    <tr>\n",
       "      <th>5</th>\n",
       "      <td>211270</td>\n",
       "      <td>KOSDAQ</td>\n",
       "      <td>AP위성</td>\n",
       "      <td>통신 및 방송 장비 제조업</td>\n",
       "      <td>위성통신 단말기</td>\n",
       "      <td>2016-03-04</td>\n",
       "      <td>12월</td>\n",
       "      <td>류장수</td>\n",
       "      <td>http://www.apsi.co.kr</td>\n",
       "      <td>서울특별시</td>\n",
       "    </tr>\n",
       "    <tr>\n",
       "      <th>53</th>\n",
       "      <td>032790</td>\n",
       "      <td>KOSDAQ</td>\n",
       "      <td>BNGT</td>\n",
       "      <td>기계장비 및 관련 물품 도매업</td>\n",
       "      <td>Bio 이종장기 사업, ICT 프린터 현상기</td>\n",
       "      <td>1997-06-26</td>\n",
       "      <td>12월</td>\n",
       "      <td>조상환</td>\n",
       "      <td>http://www.mgenplus.com</td>\n",
       "      <td>서울특별시</td>\n",
       "    </tr>\n",
       "  </tbody>\n",
       "</table>\n",
       "</div>"
      ],
      "text/plain": [
       "    Symbol  Market    Name            Sector                  Industry  \\\n",
       "0   060310  KOSDAQ      3S          전자부품 제조업               반도체 웨이퍼 캐리어   \n",
       "3   054620  KOSDAQ  APS홀딩스            기타 금융업               인터넷 트래픽 솔루션   \n",
       "4   265520  KOSDAQ   AP시스템     특수 목적용 기계 제조업               디스플레이 제조 장비   \n",
       "5   211270  KOSDAQ    AP위성    통신 및 방송 장비 제조업                  위성통신 단말기   \n",
       "53  032790  KOSDAQ    BNGT  기계장비 및 관련 물품 도매업  Bio 이종장기 사업, ICT 프린터 현상기   \n",
       "\n",
       "   ListingDate SettleMonth Representative                      HomePage Region  \n",
       "0   2002-04-23         03월            김세완          http://www.3sref.com  서울특별시  \n",
       "3   2001-12-04         12월            정기로  http://www.apsholdings.co.kr    경기도  \n",
       "4   2017-04-07         12월            김영주    http://www.apsystems.co.kr    경기도  \n",
       "5   2016-03-04         12월            류장수         http://www.apsi.co.kr  서울특별시  \n",
       "53  1997-06-26         12월            조상환       http://www.mgenplus.com  서울특별시  "
      ]
     },
     "execution_count": 27,
     "metadata": {},
     "output_type": "execute_result"
    }
   ],
   "source": [
    "ksq = fdr.StockListing('KOSDAQ')\n",
    "ksq.head()"
   ]
  },
  {
   "cell_type": "code",
   "execution_count": 29,
   "metadata": {},
   "outputs": [
    {
     "data": {
      "text/plain": [
       "Symbol              0\n",
       "Market              0\n",
       "Name                0\n",
       "Sector             19\n",
       "Industry           23\n",
       "ListingDate        19\n",
       "SettleMonth        19\n",
       "Representative     19\n",
       "HomePage          138\n",
       "Region             19\n",
       "dtype: int64"
      ]
     },
     "execution_count": 29,
     "metadata": {},
     "output_type": "execute_result"
    }
   ],
   "source": [
    "ksq.isna().sum()"
   ]
  },
  {
   "cell_type": "code",
   "execution_count": 30,
   "metadata": {},
   "outputs": [
    {
     "data": {
      "text/plain": [
       "1570"
      ]
     },
     "execution_count": 30,
     "metadata": {},
     "output_type": "execute_result"
    }
   ],
   "source": [
    "len(ksq)"
   ]
  },
  {
   "cell_type": "code",
   "execution_count": 14,
   "metadata": {},
   "outputs": [
    {
     "data": {
      "text/plain": [
       "6032"
      ]
     },
     "execution_count": 14,
     "metadata": {},
     "output_type": "execute_result"
    }
   ],
   "source": [
    "len(ksp)"
   ]
  },
  {
   "cell_type": "code",
   "execution_count": 46,
   "metadata": {},
   "outputs": [],
   "source": [
    "ksp.dropna(axis=0,subset='Sector',inplace=True)   # 파생 지우기 \n",
    "ksp.reset_index(drop=True,inplace=True)\n"
   ]
  },
  {
   "cell_type": "code",
   "execution_count": 48,
   "metadata": {},
   "outputs": [],
   "source": [
    "ksq.dropna(axis=0,subset='Sector',inplace=True)   # 파생 지우기 \n",
    "ksq.reset_index(drop=True,inplace=True)"
   ]
  },
  {
   "cell_type": "code",
   "execution_count": 47,
   "metadata": {},
   "outputs": [
    {
     "data": {
      "text/plain": [
       "0      095570\n",
       "1      006840\n",
       "2      027410\n",
       "3      282330\n",
       "4      138930\n",
       "        ...  \n",
       "815    005870\n",
       "816    079980\n",
       "817    005010\n",
       "818    000540\n",
       "819    003280\n",
       "Name: Symbol, Length: 820, dtype: object"
      ]
     },
     "execution_count": 47,
     "metadata": {},
     "output_type": "execute_result"
    }
   ],
   "source": [
    "ksp_symbol = ksp.Symbol\n",
    "ksp_symbol"
   ]
  },
  {
   "cell_type": "code",
   "execution_count": 49,
   "metadata": {},
   "outputs": [
    {
     "data": {
      "text/plain": [
       "0       060310\n",
       "1       054620\n",
       "2       265520\n",
       "3       211270\n",
       "4       032790\n",
       "         ...  \n",
       "1546    024060\n",
       "1547    010240\n",
       "1548    189980\n",
       "1549    037440\n",
       "1550    238490\n",
       "Name: Symbol, Length: 1551, dtype: object"
      ]
     },
     "execution_count": 49,
     "metadata": {},
     "output_type": "execute_result"
    }
   ],
   "source": [
    "ksq_symbol = ksq.Symbol\n",
    "ksq_symbol"
   ]
  },
  {
   "cell_type": "code",
   "execution_count": null,
   "metadata": {},
   "outputs": [],
   "source": [
    "for symbol in ksq_symbol:\n",
    "    "
   ]
  }
 ],
 "metadata": {
  "interpreter": {
   "hash": "de415b4ccc84710333d4cce7c3157faf7a031aee324e8431b231be5e6b20506c"
  },
  "kernelspec": {
   "display_name": "Python 3.10.4 64-bit",
   "language": "python",
   "name": "python3"
  },
  "language_info": {
   "codemirror_mode": {
    "name": "ipython",
    "version": 3
   },
   "file_extension": ".py",
   "mimetype": "text/x-python",
   "name": "python",
   "nbconvert_exporter": "python",
   "pygments_lexer": "ipython3",
   "version": "3.10.4"
  },
  "orig_nbformat": 4
 },
 "nbformat": 4,
 "nbformat_minor": 2
}
