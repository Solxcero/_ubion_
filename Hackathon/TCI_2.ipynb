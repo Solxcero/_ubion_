{
 "cells": [
  {
   "cell_type": "markdown",
   "metadata": {},
   "source": [
    "### 라이브러리 불러오기"
   ]
  },
  {
   "cell_type": "code",
   "execution_count": 1,
   "metadata": {},
   "outputs": [],
   "source": [
    "import pandas as pd\n",
    "import numpy as np\n",
    "import FinanceDataReader as fdr\n",
    "from datetime import datetime\n",
    "\n",
    "import warnings\n",
    "warnings.filterwarnings('ignore')"
   ]
  },
  {
   "cell_type": "code",
   "execution_count": 58,
   "metadata": {},
   "outputs": [],
   "source": [
    "import matplotlib.pyplot as plt"
   ]
  },
  {
   "cell_type": "markdown",
   "metadata": {},
   "source": [
    "### 프로젝트 개요\n",
    "> corona 기간 : 2020-03-10 ~ 2022.02.28\n",
    "\n",
    "> CTI 지수 포함 변수 \n",
    "  \n",
    "> [상관관계 분석 할 종목들]  \n",
    "바이오(제약), 헬스&케어, 항공주, 여행주,화물(운송)주, 주류, 홈인테리어주   \n",
    "\n",
    "> [상관관계 분석할 다른 상품]  \n",
    "    금,환율,유가 \n",
    "\n",
    "\n",
    "\n",
    "_________________________________________________________________"
   ]
  },
  {
   "cell_type": "markdown",
   "metadata": {},
   "source": [
    "### 데이터 가져오기 "
   ]
  },
  {
   "cell_type": "markdown",
   "metadata": {},
   "source": [
    "#### corona data / stock data"
   ]
  },
  {
   "cell_type": "code",
   "execution_count": 31,
   "metadata": {},
   "outputs": [],
   "source": [
    "df = pd.read_csv('./corona.csv', encoding='utf-8')"
   ]
  },
  {
   "cell_type": "code",
   "execution_count": 49,
   "metadata": {},
   "outputs": [],
   "source": [
    "df_rg= pd.read_excel('./regulation.xlsx')\n",
    "df_rg.rename(columns={'날짜':'Date','거리두기 단계':'Level'},inplace=True)\n",
    "#df_rg['Date'] = pd.to_datetime(df['Date'],infer_datetime_format=True)"
   ]
  },
  {
   "cell_type": "code",
   "execution_count": null,
   "metadata": {},
   "outputs": [],
   "source": [
    "Kospi = fdr.DataReader('KS11') \n",
    "Kodaq = fdr.DataReader('KQ11')"
   ]
  },
  {
   "cell_type": "markdown",
   "metadata": {},
   "source": [
    "### Preprocessing"
   ]
  },
  {
   "cell_type": "markdown",
   "metadata": {},
   "source": [
    "#### corona data"
   ]
  },
  {
   "cell_type": "code",
   "execution_count": 36,
   "metadata": {},
   "outputs": [],
   "source": [
    "df.columns = [\"1\", 'Date', 'DeadCnt', 'ConfirmedCnt', \"2\", \"3\", \"4\", \"5\", \"6\", \"7\"]\n",
    "df.drop([str(i) for i in range(1,8)],axis=1,inplace=True) # Drop Unecessary Columns\n",
    "df = df.sort_values('Date') # Sorting DATE\n",
    "df['DailyDeadCnt'] = (df['DeadCnt']-df['DeadCnt'].shift(1)).fillna(0) # Create DailyDeadCnt by using difference & fill NAN by 0\n",
    "df['DailyConfirmedCnt'] = (df['ConfirmedCnt']-df['ConfirmedCnt'].shift(1)).fillna(0) # Create DailyConfirmedCnt by using difference & fill NAN by 0\n",
    "df['D/C(%)'] = (df['DeadCnt']/df['ConfirmedCnt'])*100 # Create D/C\n",
    "df.drop(['DeadCnt','ConfirmedCnt'],axis=1,inplace=True) # Drop Unecessary Columns\n",
    "df.reset_index(drop=True, inplace=True) # Reset index\n",
    "df['Date'] = df['Date'].str[0:4] + \"-\" + df['Date'].str[5:7] + \"-\" +df['Date'].str[8:10] # Change Date style YYYY-MM-DD\n",
    "df['Date'] = pd.to_datetime(df['Date'],infer_datetime_format=True) # Change datatype f"
   ]
  },
  {
   "cell_type": "code",
   "execution_count": 53,
   "metadata": {},
   "outputs": [],
   "source": [
    "df = pd.merge(df,df_rg,left_on='Date', right_on ='Date', how='left') #기존 corona data 에 거리두기단계 데이터 추가 "
   ]
  },
  {
   "cell_type": "code",
   "execution_count": 55,
   "metadata": {},
   "outputs": [
    {
     "data": {
      "text/html": [
       "<div>\n",
       "<style scoped>\n",
       "    .dataframe tbody tr th:only-of-type {\n",
       "        vertical-align: middle;\n",
       "    }\n",
       "\n",
       "    .dataframe tbody tr th {\n",
       "        vertical-align: top;\n",
       "    }\n",
       "\n",
       "    .dataframe thead th {\n",
       "        text-align: right;\n",
       "    }\n",
       "</style>\n",
       "<table border=\"1\" class=\"dataframe\">\n",
       "  <thead>\n",
       "    <tr style=\"text-align: right;\">\n",
       "      <th></th>\n",
       "      <th>Date</th>\n",
       "      <th>DailyDeadCnt</th>\n",
       "      <th>DailyConfirmedCnt</th>\n",
       "      <th>D/C(%)</th>\n",
       "      <th>Level</th>\n",
       "    </tr>\n",
       "  </thead>\n",
       "  <tbody>\n",
       "    <tr>\n",
       "      <th>0</th>\n",
       "      <td>2020-03-10</td>\n",
       "      <td>0.0</td>\n",
       "      <td>0.0</td>\n",
       "      <td>0.718754</td>\n",
       "      <td>3.0</td>\n",
       "    </tr>\n",
       "    <tr>\n",
       "      <th>1</th>\n",
       "      <td>2020-03-11</td>\n",
       "      <td>6.0</td>\n",
       "      <td>242.0</td>\n",
       "      <td>0.773694</td>\n",
       "      <td>3.0</td>\n",
       "    </tr>\n",
       "    <tr>\n",
       "      <th>2</th>\n",
       "      <td>2020-03-12</td>\n",
       "      <td>6.0</td>\n",
       "      <td>114.0</td>\n",
       "      <td>0.838734</td>\n",
       "      <td>3.0</td>\n",
       "    </tr>\n",
       "    <tr>\n",
       "      <th>3</th>\n",
       "      <td>2020-03-13</td>\n",
       "      <td>1.0</td>\n",
       "      <td>110.0</td>\n",
       "      <td>0.839704</td>\n",
       "      <td>3.0</td>\n",
       "    </tr>\n",
       "    <tr>\n",
       "      <th>4</th>\n",
       "      <td>2020-03-14</td>\n",
       "      <td>5.0</td>\n",
       "      <td>107.0</td>\n",
       "      <td>0.890428</td>\n",
       "      <td>3.0</td>\n",
       "    </tr>\n",
       "    <tr>\n",
       "      <th>...</th>\n",
       "      <td>...</td>\n",
       "      <td>...</td>\n",
       "      <td>...</td>\n",
       "      <td>...</td>\n",
       "      <td>...</td>\n",
       "    </tr>\n",
       "    <tr>\n",
       "      <th>715</th>\n",
       "      <td>2022-02-24</td>\n",
       "      <td>82.0</td>\n",
       "      <td>170015.0</td>\n",
       "      <td>0.307660</td>\n",
       "      <td>2.0</td>\n",
       "    </tr>\n",
       "    <tr>\n",
       "      <th>716</th>\n",
       "      <td>2022-02-25</td>\n",
       "      <td>94.0</td>\n",
       "      <td>165887.0</td>\n",
       "      <td>0.292037</td>\n",
       "      <td>2.0</td>\n",
       "    </tr>\n",
       "    <tr>\n",
       "      <th>717</th>\n",
       "      <td>2022-02-26</td>\n",
       "      <td>112.0</td>\n",
       "      <td>166201.0</td>\n",
       "      <td>0.278850</td>\n",
       "      <td>2.0</td>\n",
       "    </tr>\n",
       "    <tr>\n",
       "      <th>718</th>\n",
       "      <td>2022-02-27</td>\n",
       "      <td>49.0</td>\n",
       "      <td>163555.0</td>\n",
       "      <td>0.265257</td>\n",
       "      <td>2.0</td>\n",
       "    </tr>\n",
       "    <tr>\n",
       "      <th>719</th>\n",
       "      <td>2022-02-28</td>\n",
       "      <td>114.0</td>\n",
       "      <td>139626.0</td>\n",
       "      <td>0.257078</td>\n",
       "      <td>2.0</td>\n",
       "    </tr>\n",
       "  </tbody>\n",
       "</table>\n",
       "<p>720 rows × 5 columns</p>\n",
       "</div>"
      ],
      "text/plain": [
       "          Date  DailyDeadCnt  DailyConfirmedCnt    D/C(%)  Level\n",
       "0   2020-03-10           0.0                0.0  0.718754    3.0\n",
       "1   2020-03-11           6.0              242.0  0.773694    3.0\n",
       "2   2020-03-12           6.0              114.0  0.838734    3.0\n",
       "3   2020-03-13           1.0              110.0  0.839704    3.0\n",
       "4   2020-03-14           5.0              107.0  0.890428    3.0\n",
       "..         ...           ...                ...       ...    ...\n",
       "715 2022-02-24          82.0           170015.0  0.307660    2.0\n",
       "716 2022-02-25          94.0           165887.0  0.292037    2.0\n",
       "717 2022-02-26         112.0           166201.0  0.278850    2.0\n",
       "718 2022-02-27          49.0           163555.0  0.265257    2.0\n",
       "719 2022-02-28         114.0           139626.0  0.257078    2.0\n",
       "\n",
       "[720 rows x 5 columns]"
      ]
     },
     "execution_count": 55,
     "metadata": {},
     "output_type": "execute_result"
    }
   ],
   "source": [
    "df['Level'].fillna(3,inplace=True) #3월초 결측값 3단계로 채움 \n",
    "df"
   ]
  },
  {
   "cell_type": "markdown",
   "metadata": {},
   "source": [
    "#### stock data"
   ]
  },
  {
   "cell_type": "code",
   "execution_count": 56,
   "metadata": {},
   "outputs": [],
   "source": [
    "df_c = df\n",
    "sp_str = ['Kospi', 'Kosdq']\n",
    "sp_df = [Kospi, Kodaq]\n",
    "\n",
    "for i, col in enumerate(sp_df): # Merge Kospi & Kodaq into df_c\n",
    "    corona_df = pd.merge(df_c, col['Close'], left_on='Date', right_on=col.index, how='inner')\n",
    "    corona_df.rename(columns={'Close': sp_str[i]}, inplace=True)\n",
    "    df_c = corona_df"
   ]
  },
  {
   "cell_type": "code",
   "execution_count": 57,
   "metadata": {},
   "outputs": [
    {
     "data": {
      "text/html": [
       "<div>\n",
       "<style scoped>\n",
       "    .dataframe tbody tr th:only-of-type {\n",
       "        vertical-align: middle;\n",
       "    }\n",
       "\n",
       "    .dataframe tbody tr th {\n",
       "        vertical-align: top;\n",
       "    }\n",
       "\n",
       "    .dataframe thead th {\n",
       "        text-align: right;\n",
       "    }\n",
       "</style>\n",
       "<table border=\"1\" class=\"dataframe\">\n",
       "  <thead>\n",
       "    <tr style=\"text-align: right;\">\n",
       "      <th></th>\n",
       "      <th>Date</th>\n",
       "      <th>DailyDeadCnt</th>\n",
       "      <th>DailyConfirmedCnt</th>\n",
       "      <th>D/C(%)</th>\n",
       "      <th>Level</th>\n",
       "      <th>Kospi</th>\n",
       "      <th>Kosdq</th>\n",
       "    </tr>\n",
       "  </thead>\n",
       "  <tbody>\n",
       "    <tr>\n",
       "      <th>0</th>\n",
       "      <td>2020-03-10</td>\n",
       "      <td>0.0</td>\n",
       "      <td>0.0</td>\n",
       "      <td>0.718754</td>\n",
       "      <td>3.0</td>\n",
       "      <td>1962.93</td>\n",
       "      <td>619.97</td>\n",
       "    </tr>\n",
       "    <tr>\n",
       "      <th>1</th>\n",
       "      <td>2020-03-11</td>\n",
       "      <td>6.0</td>\n",
       "      <td>242.0</td>\n",
       "      <td>0.773694</td>\n",
       "      <td>3.0</td>\n",
       "      <td>1908.27</td>\n",
       "      <td>595.61</td>\n",
       "    </tr>\n",
       "    <tr>\n",
       "      <th>2</th>\n",
       "      <td>2020-03-12</td>\n",
       "      <td>6.0</td>\n",
       "      <td>114.0</td>\n",
       "      <td>0.838734</td>\n",
       "      <td>3.0</td>\n",
       "      <td>1834.33</td>\n",
       "      <td>563.49</td>\n",
       "    </tr>\n",
       "    <tr>\n",
       "      <th>3</th>\n",
       "      <td>2020-03-13</td>\n",
       "      <td>1.0</td>\n",
       "      <td>110.0</td>\n",
       "      <td>0.839704</td>\n",
       "      <td>3.0</td>\n",
       "      <td>1771.44</td>\n",
       "      <td>524.00</td>\n",
       "    </tr>\n",
       "    <tr>\n",
       "      <th>4</th>\n",
       "      <td>2020-03-16</td>\n",
       "      <td>0.0</td>\n",
       "      <td>74.0</td>\n",
       "      <td>0.910636</td>\n",
       "      <td>3.0</td>\n",
       "      <td>1714.86</td>\n",
       "      <td>504.51</td>\n",
       "    </tr>\n",
       "    <tr>\n",
       "      <th>...</th>\n",
       "      <td>...</td>\n",
       "      <td>...</td>\n",
       "      <td>...</td>\n",
       "      <td>...</td>\n",
       "      <td>...</td>\n",
       "      <td>...</td>\n",
       "      <td>...</td>\n",
       "    </tr>\n",
       "    <tr>\n",
       "      <th>481</th>\n",
       "      <td>2022-02-22</td>\n",
       "      <td>58.0</td>\n",
       "      <td>99569.0</td>\n",
       "      <td>0.347958</td>\n",
       "      <td>2.0</td>\n",
       "      <td>2706.79</td>\n",
       "      <td>868.11</td>\n",
       "    </tr>\n",
       "    <tr>\n",
       "      <th>482</th>\n",
       "      <td>2022-02-23</td>\n",
       "      <td>99.0</td>\n",
       "      <td>171442.0</td>\n",
       "      <td>0.326597</td>\n",
       "      <td>2.0</td>\n",
       "      <td>2719.53</td>\n",
       "      <td>877.33</td>\n",
       "    </tr>\n",
       "    <tr>\n",
       "      <th>483</th>\n",
       "      <td>2022-02-24</td>\n",
       "      <td>82.0</td>\n",
       "      <td>170015.0</td>\n",
       "      <td>0.307660</td>\n",
       "      <td>2.0</td>\n",
       "      <td>2648.80</td>\n",
       "      <td>848.21</td>\n",
       "    </tr>\n",
       "    <tr>\n",
       "      <th>484</th>\n",
       "      <td>2022-02-25</td>\n",
       "      <td>94.0</td>\n",
       "      <td>165887.0</td>\n",
       "      <td>0.292037</td>\n",
       "      <td>2.0</td>\n",
       "      <td>2676.76</td>\n",
       "      <td>872.98</td>\n",
       "    </tr>\n",
       "    <tr>\n",
       "      <th>485</th>\n",
       "      <td>2022-02-28</td>\n",
       "      <td>114.0</td>\n",
       "      <td>139626.0</td>\n",
       "      <td>0.257078</td>\n",
       "      <td>2.0</td>\n",
       "      <td>2699.18</td>\n",
       "      <td>881.07</td>\n",
       "    </tr>\n",
       "  </tbody>\n",
       "</table>\n",
       "<p>486 rows × 7 columns</p>\n",
       "</div>"
      ],
      "text/plain": [
       "          Date  DailyDeadCnt  DailyConfirmedCnt    D/C(%)  Level    Kospi  \\\n",
       "0   2020-03-10           0.0                0.0  0.718754    3.0  1962.93   \n",
       "1   2020-03-11           6.0              242.0  0.773694    3.0  1908.27   \n",
       "2   2020-03-12           6.0              114.0  0.838734    3.0  1834.33   \n",
       "3   2020-03-13           1.0              110.0  0.839704    3.0  1771.44   \n",
       "4   2020-03-16           0.0               74.0  0.910636    3.0  1714.86   \n",
       "..         ...           ...                ...       ...    ...      ...   \n",
       "481 2022-02-22          58.0            99569.0  0.347958    2.0  2706.79   \n",
       "482 2022-02-23          99.0           171442.0  0.326597    2.0  2719.53   \n",
       "483 2022-02-24          82.0           170015.0  0.307660    2.0  2648.80   \n",
       "484 2022-02-25          94.0           165887.0  0.292037    2.0  2676.76   \n",
       "485 2022-02-28         114.0           139626.0  0.257078    2.0  2699.18   \n",
       "\n",
       "      Kosdq  \n",
       "0    619.97  \n",
       "1    595.61  \n",
       "2    563.49  \n",
       "3    524.00  \n",
       "4    504.51  \n",
       "..      ...  \n",
       "481  868.11  \n",
       "482  877.33  \n",
       "483  848.21  \n",
       "484  872.98  \n",
       "485  881.07  \n",
       "\n",
       "[486 rows x 7 columns]"
      ]
     },
     "execution_count": 57,
     "metadata": {},
     "output_type": "execute_result"
    }
   ],
   "source": [
    "corona_df"
   ]
  },
  {
   "cell_type": "code",
   "execution_count": 83,
   "metadata": {},
   "outputs": [
    {
     "data": {
      "image/png": "[encoded data removed]",
      "text/plain": [
       "<Figure size 576x288 with 4 Axes>"
      ]
     },
     "metadata": {
      "needs_background": "light"
     },
     "output_type": "display_data"
    }
   ],
   "source": [
    "plt.figure(figsize=(8,4))\n",
    "for i, col in enumerate(corona_df.columns[1:5]):    \n",
    "    \n",
    "    plt.subplot(2,2,i+1)\n",
    "    plt.scatter(x=corona_df['Date'],y=corona_df[col])\n",
    "    plt.title(col)\n",
    "    plt.xlabel('TCI')\n",
    "    plt.tight_layout()\n",
    "    \n",
    "# 전처리로 평활화?? 혹은 가중치 조정 필요해 보임 \n",
    "# 회귀분석을 하려면 변수들이 정규분포를 보여야함......"
   ]
  },
  {
   "cell_type": "code",
   "execution_count": 69,
   "metadata": {},
   "outputs": [
    {
     "data": {
      "image/png": "[encoded data removed]",
      "text/plain": [
       "<Figure size 720x360 with 4 Axes>"
      ]
     },
     "metadata": {
      "needs_background": "light"
     },
     "output_type": "display_data"
    }
   ],
   "source": [
    "plt.figure(figsize=(10,5))\n",
    "for i, col in enumerate(corona_df.columns[1:5]):    \n",
    "    \n",
    "    plt.subplot(2,2,i+1)\n",
    "    plt.hist(corona_df[col])\n",
    "    plt.title(col)\n",
    "    #plt.xlabel()\n",
    "    plt.tight_layout()"
   ]
  },
  {
   "cell_type": "code",
   "execution_count": 59,
   "metadata": {},
   "outputs": [
    {
     "data": {
      "image/png": "[encoded data removed]",
      "text/plain": [
       "<Figure size 1080x720 with 7 Axes>"
      ]
     },
     "metadata": {
      "needs_background": "light"
     },
     "output_type": "display_data"
    }
   ],
   "source": [
    "plt.figure(figsize=(15,10))\n",
    "for i, col in enumerate(corona_df.columns):    \n",
    "    \n",
    "    plt.subplot(4,4,i+1)\n",
    "    plt.scatter(corona_df[col],corona_df['Kospi'])\n",
    "    plt.title(col)\n",
    "    plt.ylabel('KOSPI', size=10)\n",
    "    plt.xlabel('CTI',size=10)\n",
    "    plt.tight_layout()\n",
    "    "
   ]
  },
  {
   "cell_type": "code",
   "execution_count": 61,
   "metadata": {},
   "outputs": [
    {
     "data": {
      "text/html": [
       "<div>\n",
       "<style scoped>\n",
       "    .dataframe tbody tr th:only-of-type {\n",
       "        vertical-align: middle;\n",
       "    }\n",
       "\n",
       "    .dataframe tbody tr th {\n",
       "        vertical-align: top;\n",
       "    }\n",
       "\n",
       "    .dataframe thead th {\n",
       "        text-align: right;\n",
       "    }\n",
       "</style>\n",
       "<table border=\"1\" class=\"dataframe\">\n",
       "  <thead>\n",
       "    <tr style=\"text-align: right;\">\n",
       "      <th></th>\n",
       "      <th>DailyDeadCnt</th>\n",
       "      <th>DailyConfirmedCnt</th>\n",
       "      <th>D/C(%)</th>\n",
       "      <th>Level</th>\n",
       "      <th>Kospi</th>\n",
       "      <th>Kosdq</th>\n",
       "    </tr>\n",
       "  </thead>\n",
       "  <tbody>\n",
       "    <tr>\n",
       "      <th>DailyDeadCnt</th>\n",
       "      <td>1.000000</td>\n",
       "      <td>0.562670</td>\n",
       "      <td>-0.578671</td>\n",
       "      <td>-0.108192</td>\n",
       "      <td>0.213057</td>\n",
       "      <td>0.250230</td>\n",
       "    </tr>\n",
       "    <tr>\n",
       "      <th>DailyConfirmedCnt</th>\n",
       "      <td>0.562670</td>\n",
       "      <td>1.000000</td>\n",
       "      <td>-0.397775</td>\n",
       "      <td>-0.038542</td>\n",
       "      <td>0.028319</td>\n",
       "      <td>0.008087</td>\n",
       "    </tr>\n",
       "    <tr>\n",
       "      <th>D/C(%)</th>\n",
       "      <td>-0.578671</td>\n",
       "      <td>-0.397775</td>\n",
       "      <td>1.000000</td>\n",
       "      <td>-0.335290</td>\n",
       "      <td>-0.539559</td>\n",
       "      <td>-0.535703</td>\n",
       "    </tr>\n",
       "    <tr>\n",
       "      <th>Level</th>\n",
       "      <td>-0.108192</td>\n",
       "      <td>-0.038542</td>\n",
       "      <td>-0.335290</td>\n",
       "      <td>1.000000</td>\n",
       "      <td>0.210047</td>\n",
       "      <td>0.179154</td>\n",
       "    </tr>\n",
       "    <tr>\n",
       "      <th>Kospi</th>\n",
       "      <td>0.213057</td>\n",
       "      <td>0.028319</td>\n",
       "      <td>-0.539559</td>\n",
       "      <td>0.210047</td>\n",
       "      <td>1.000000</td>\n",
       "      <td>0.956166</td>\n",
       "    </tr>\n",
       "    <tr>\n",
       "      <th>Kosdq</th>\n",
       "      <td>0.250230</td>\n",
       "      <td>0.008087</td>\n",
       "      <td>-0.535703</td>\n",
       "      <td>0.179154</td>\n",
       "      <td>0.956166</td>\n",
       "      <td>1.000000</td>\n",
       "    </tr>\n",
       "  </tbody>\n",
       "</table>\n",
       "</div>"
      ],
      "text/plain": [
       "                   DailyDeadCnt  DailyConfirmedCnt    D/C(%)     Level  \\\n",
       "DailyDeadCnt           1.000000           0.562670 -0.578671 -0.108192   \n",
       "DailyConfirmedCnt      0.562670           1.000000 -0.397775 -0.038542   \n",
       "D/C(%)                -0.578671          -0.397775  1.000000 -0.335290   \n",
       "Level                 -0.108192          -0.038542 -0.335290  1.000000   \n",
       "Kospi                  0.213057           0.028319 -0.539559  0.210047   \n",
       "Kosdq                  0.250230           0.008087 -0.535703  0.179154   \n",
       "\n",
       "                      Kospi     Kosdq  \n",
       "DailyDeadCnt       0.213057  0.250230  \n",
       "DailyConfirmedCnt  0.028319  0.008087  \n",
       "D/C(%)            -0.539559 -0.535703  \n",
       "Level              0.210047  0.179154  \n",
       "Kospi              1.000000  0.956166  \n",
       "Kosdq              0.956166  1.000000  "
      ]
     },
     "execution_count": 61,
     "metadata": {},
     "output_type": "execute_result"
    }
   ],
   "source": [
    "corr = corona_df.corr()\n",
    "corr\n",
    "# 우선 Regression 모델 만들어서 회귀모형 돌려보기 "
   ]
  },
  {
   "cell_type": "code",
   "execution_count": 80,
   "metadata": {},
   "outputs": [],
   "source": [
    "corona_feature = corona_df.iloc[:,1:4]"
   ]
  },
  {
   "cell_type": "markdown",
   "metadata": {},
   "source": [
    "### LinearRegression"
   ]
  },
  {
   "cell_type": "code",
   "execution_count": 81,
   "metadata": {},
   "outputs": [
    {
     "data": {
      "text/plain": [
       "LinearRegression(normalize=True)"
      ]
     },
     "execution_count": 81,
     "metadata": {},
     "output_type": "execute_result"
    }
   ],
   "source": [
    "from sklearn.model_selection import train_test_split\n",
    "from sklearn.linear_model import LinearRegression\n",
    "\n",
    "model = LinearRegression(normalize=True)\n",
    "\n",
    "X_train, X_test, y_train, y_test = train_test_split(corona_feature,corona_df['Kospi'], test_size = 0.2)\n",
    "model.fit(X_train,y_train)"
   ]
  },
  {
   "cell_type": "code",
   "execution_count": 82,
   "metadata": {},
   "outputs": [
    {
     "name": "stdout",
     "output_type": "stream",
     "text": [
      "학습 데이터 점수:0.33143887687652807\n",
      "test 데이터 점수:0.3401302540694121\n"
     ]
    }
   ],
   "source": [
    "print(f'학습 데이터 점수:{model.score(X_train,y_train)}')\n",
    "print(f'test 데이터 점수:{model.score(X_test,y_test)}')"
   ]
  },
  {
   "cell_type": "markdown",
   "metadata": {},
   "source": [
    "### TCI 만들기 "
   ]
  },
  {
   "cell_type": "code",
   "execution_count": null,
   "metadata": {},
   "outputs": [],
   "source": []
  }
 ],
 "metadata": {
  "interpreter": {
   "hash": "de415b4ccc84710333d4cce7c3157faf7a031aee324e8431b231be5e6b20506c"
  },
  "kernelspec": {
   "display_name": "Python 3.10.4 64-bit",
   "language": "python",
   "name": "python3"
  },
  "language_info": {
   "codemirror_mode": {
    "name": "ipython",
    "version": 3
   },
   "file_extension": ".py",
   "mimetype": "text/x-python",
   "name": "python",
   "nbconvert_exporter": "python",
   "pygments_lexer": "ipython3",
   "version": "3.10.4"
  },
  "orig_nbformat": 4
 },
 "nbformat": 4,
 "nbformat_minor": 2
}
