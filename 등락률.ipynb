{
 "cells": [
  {
   "cell_type": "code",
   "execution_count": 1,
   "metadata": {},
   "outputs": [],
   "source": [
    "import pandas as pd"
   ]
  },
  {
   "cell_type": "code",
   "execution_count": 2,
   "metadata": {},
   "outputs": [
    {
     "data": {
      "text/html": [
       "<div>\n",
       "<style scoped>\n",
       "    .dataframe tbody tr th:only-of-type {\n",
       "        vertical-align: middle;\n",
       "    }\n",
       "\n",
       "    .dataframe tbody tr th {\n",
       "        vertical-align: top;\n",
       "    }\n",
       "\n",
       "    .dataframe thead th {\n",
       "        text-align: right;\n",
       "    }\n",
       "</style>\n",
       "<table border=\"1\" class=\"dataframe\">\n",
       "  <thead>\n",
       "    <tr style=\"text-align: right;\">\n",
       "      <th></th>\n",
       "      <th>종목코드</th>\n",
       "      <th>종목명</th>\n",
       "      <th>시작일 기준가</th>\n",
       "      <th>종료일 종가</th>\n",
       "      <th>대비</th>\n",
       "      <th>등락률</th>\n",
       "      <th>거래량</th>\n",
       "      <th>거래대금</th>\n",
       "    </tr>\n",
       "  </thead>\n",
       "  <tbody>\n",
       "    <tr>\n",
       "      <th>0</th>\n",
       "      <td>095570</td>\n",
       "      <td>AJ네트웍스</td>\n",
       "      <td>4970</td>\n",
       "      <td>6620</td>\n",
       "      <td>1650</td>\n",
       "      <td>33.20</td>\n",
       "      <td>149815876</td>\n",
       "      <td>683.0</td>\n",
       "    </tr>\n",
       "    <tr>\n",
       "      <th>1</th>\n",
       "      <td>006840</td>\n",
       "      <td>AK홀딩스</td>\n",
       "      <td>34600</td>\n",
       "      <td>23000</td>\n",
       "      <td>-11600</td>\n",
       "      <td>-33.53</td>\n",
       "      <td>36249054</td>\n",
       "      <td>919.0</td>\n",
       "    </tr>\n",
       "    <tr>\n",
       "      <th>2</th>\n",
       "      <td>027410</td>\n",
       "      <td>BGF</td>\n",
       "      <td>5600</td>\n",
       "      <td>5650</td>\n",
       "      <td>50</td>\n",
       "      <td>0.89</td>\n",
       "      <td>253363798</td>\n",
       "      <td>1478.0</td>\n",
       "    </tr>\n",
       "    <tr>\n",
       "      <th>3</th>\n",
       "      <td>282330</td>\n",
       "      <td>BGF리테일</td>\n",
       "      <td>169500</td>\n",
       "      <td>179500</td>\n",
       "      <td>10000</td>\n",
       "      <td>5.90</td>\n",
       "      <td>23474522</td>\n",
       "      <td>3588.0</td>\n",
       "    </tr>\n",
       "    <tr>\n",
       "      <th>4</th>\n",
       "      <td>138930</td>\n",
       "      <td>BNK금융지주</td>\n",
       "      <td>7660</td>\n",
       "      <td>8040</td>\n",
       "      <td>380</td>\n",
       "      <td>4.96</td>\n",
       "      <td>917946857</td>\n",
       "      <td>6044.0</td>\n",
       "    </tr>\n",
       "  </tbody>\n",
       "</table>\n",
       "</div>"
      ],
      "text/plain": [
       "     종목코드      종목명  시작일 기준가  종료일 종가     대비    등락률        거래량    거래대금\n",
       "0  095570   AJ네트웍스     4970    6620   1650  33.20  149815876   683.0\n",
       "1  006840    AK홀딩스    34600   23000 -11600 -33.53   36249054   919.0\n",
       "2  027410      BGF     5600    5650     50   0.89  253363798  1478.0\n",
       "3  282330   BGF리테일   169500  179500  10000   5.90   23474522  3588.0\n",
       "4  138930  BNK금융지주     7660    8040    380   4.96  917946857  6044.0"
      ]
     },
     "execution_count": 2,
     "metadata": {},
     "output_type": "execute_result"
    }
   ],
   "source": [
    "ksp_crn = pd.read_csv('./ksp_crn.csv',encoding='CP949')   # 2020.1~2022.4\n",
    "ksp_crn.head()"
   ]
  },
  {
   "cell_type": "code",
   "execution_count": 3,
   "metadata": {},
   "outputs": [
    {
     "data": {
      "text/html": [
       "<div>\n",
       "<style scoped>\n",
       "    .dataframe tbody tr th:only-of-type {\n",
       "        vertical-align: middle;\n",
       "    }\n",
       "\n",
       "    .dataframe tbody tr th {\n",
       "        vertical-align: top;\n",
       "    }\n",
       "\n",
       "    .dataframe thead th {\n",
       "        text-align: right;\n",
       "    }\n",
       "</style>\n",
       "<table border=\"1\" class=\"dataframe\">\n",
       "  <thead>\n",
       "    <tr style=\"text-align: right;\">\n",
       "      <th></th>\n",
       "      <th>종목코드</th>\n",
       "      <th>종목명</th>\n",
       "      <th>시작일 기준가</th>\n",
       "      <th>종료일 종가</th>\n",
       "      <th>대비</th>\n",
       "      <th>등락률</th>\n",
       "      <th>거래량</th>\n",
       "      <th>거래대금</th>\n",
       "    </tr>\n",
       "  </thead>\n",
       "  <tbody>\n",
       "    <tr>\n",
       "      <th>0</th>\n",
       "      <td>019175</td>\n",
       "      <td>신풍제약우</td>\n",
       "      <td>5960</td>\n",
       "      <td>54300</td>\n",
       "      <td>48340</td>\n",
       "      <td>811.07</td>\n",
       "      <td>148878543</td>\n",
       "      <td>9937.0</td>\n",
       "    </tr>\n",
       "    <tr>\n",
       "      <th>1</th>\n",
       "      <td>011000</td>\n",
       "      <td>진원생명과학</td>\n",
       "      <td>1442</td>\n",
       "      <td>12100</td>\n",
       "      <td>10658</td>\n",
       "      <td>739.11</td>\n",
       "      <td>2945051434</td>\n",
       "      <td>61241.0</td>\n",
       "    </tr>\n",
       "    <tr>\n",
       "      <th>2</th>\n",
       "      <td>011200</td>\n",
       "      <td>HMM</td>\n",
       "      <td>3550</td>\n",
       "      <td>27400</td>\n",
       "      <td>23850</td>\n",
       "      <td>671.83</td>\n",
       "      <td>3698620526</td>\n",
       "      <td>90449.0</td>\n",
       "    </tr>\n",
       "    <tr>\n",
       "      <th>3</th>\n",
       "      <td>016710</td>\n",
       "      <td>대성홀딩스</td>\n",
       "      <td>8330</td>\n",
       "      <td>59700</td>\n",
       "      <td>51370</td>\n",
       "      <td>616.69</td>\n",
       "      <td>41762484</td>\n",
       "      <td>1121.0</td>\n",
       "    </tr>\n",
       "    <tr>\n",
       "      <th>4</th>\n",
       "      <td>011700</td>\n",
       "      <td>한신기계</td>\n",
       "      <td>1670</td>\n",
       "      <td>11700</td>\n",
       "      <td>10030</td>\n",
       "      <td>600.60</td>\n",
       "      <td>2322325309</td>\n",
       "      <td>12320.0</td>\n",
       "    </tr>\n",
       "    <tr>\n",
       "      <th>5</th>\n",
       "      <td>005070</td>\n",
       "      <td>코스모신소재</td>\n",
       "      <td>8900</td>\n",
       "      <td>58600</td>\n",
       "      <td>49700</td>\n",
       "      <td>558.43</td>\n",
       "      <td>670080004</td>\n",
       "      <td>16341.0</td>\n",
       "    </tr>\n",
       "    <tr>\n",
       "      <th>6</th>\n",
       "      <td>006110</td>\n",
       "      <td>삼아알미늄</td>\n",
       "      <td>4430</td>\n",
       "      <td>26500</td>\n",
       "      <td>22070</td>\n",
       "      <td>498.19</td>\n",
       "      <td>379160409</td>\n",
       "      <td>6553.0</td>\n",
       "    </tr>\n",
       "    <tr>\n",
       "      <th>7</th>\n",
       "      <td>003535</td>\n",
       "      <td>한화투자증권우</td>\n",
       "      <td>2025</td>\n",
       "      <td>11150</td>\n",
       "      <td>9125</td>\n",
       "      <td>450.62</td>\n",
       "      <td>281275139</td>\n",
       "      <td>4290.0</td>\n",
       "    </tr>\n",
       "    <tr>\n",
       "      <th>8</th>\n",
       "      <td>002710</td>\n",
       "      <td>TCC스틸</td>\n",
       "      <td>2664</td>\n",
       "      <td>13950</td>\n",
       "      <td>11286</td>\n",
       "      <td>423.65</td>\n",
       "      <td>801774189</td>\n",
       "      <td>4669.0</td>\n",
       "    </tr>\n",
       "    <tr>\n",
       "      <th>9</th>\n",
       "      <td>037270</td>\n",
       "      <td>YG PLUS</td>\n",
       "      <td>1370</td>\n",
       "      <td>6810</td>\n",
       "      <td>5440</td>\n",
       "      <td>397.08</td>\n",
       "      <td>1839148940</td>\n",
       "      <td>10811.0</td>\n",
       "    </tr>\n",
       "  </tbody>\n",
       "</table>\n",
       "</div>"
      ],
      "text/plain": [
       "     종목코드      종목명  시작일 기준가  종료일 종가     대비     등락률         거래량     거래대금\n",
       "0  019175    신풍제약우     5960   54300  48340  811.07   148878543   9937.0\n",
       "1  011000   진원생명과학     1442   12100  10658  739.11  2945051434  61241.0\n",
       "2  011200      HMM     3550   27400  23850  671.83  3698620526  90449.0\n",
       "3  016710    대성홀딩스     8330   59700  51370  616.69    41762484   1121.0\n",
       "4  011700     한신기계     1670   11700  10030  600.60  2322325309  12320.0\n",
       "5  005070   코스모신소재     8900   58600  49700  558.43   670080004  16341.0\n",
       "6  006110    삼아알미늄     4430   26500  22070  498.19   379160409   6553.0\n",
       "7  003535  한화투자증권우     2025   11150   9125  450.62   281275139   4290.0\n",
       "8  002710    TCC스틸     2664   13950  11286  423.65   801774189   4669.0\n",
       "9  037270  YG PLUS     1370    6810   5440  397.08  1839148940  10811.0"
      ]
     },
     "execution_count": 3,
     "metadata": {},
     "output_type": "execute_result"
    }
   ],
   "source": [
    "ksp_crn.sort_values(by='등락률',key=pd.Series.abs,ascending=False,inplace=True) # 등락률 절댓값 내림차순\n",
    "ksp_crn.reset_index(drop=True,inplace=True)\n",
    "ksp_crn.head(10)"
   ]
  },
  {
   "cell_type": "code",
   "execution_count": 4,
   "metadata": {},
   "outputs": [],
   "source": [
    "import FinanceDataReader as fdr"
   ]
  },
  {
   "cell_type": "code",
   "execution_count": 5,
   "metadata": {},
   "outputs": [],
   "source": [
    "import matplotlib.pyplot as plt"
   ]
  },
  {
   "cell_type": "markdown",
   "metadata": {},
   "source": [
    "# 신풍제약 그래프 그리기 "
   ]
  },
  {
   "cell_type": "code",
   "execution_count": 6,
   "metadata": {},
   "outputs": [
    {
     "data": {
      "text/plain": [
       "<AxesSubplot:xlabel='Date'>"
      ]
     },
     "execution_count": 6,
     "metadata": {},
     "output_type": "execute_result"
    },
    {
     "data": {
      "image/png": "[encoded data removed]",
      "text/plain": [
       "<Figure size 432x288 with 1 Axes>"
      ]
     },
     "metadata": {
      "needs_background": "light"
     },
     "output_type": "display_data"
    }
   ],
   "source": [
    "dt = fdr.DataReader('019175','2020-01','2022-04')\n",
    "dt.Change.plot()\n"
   ]
  },
  {
   "cell_type": "code",
   "execution_count": 7,
   "metadata": {},
   "outputs": [
    {
     "data": {
      "text/plain": [
       "<AxesSubplot:xlabel='Date'>"
      ]
     },
     "execution_count": 7,
     "metadata": {},
     "output_type": "execute_result"
    },
    {
     "data": {
      "image/png": "[encoded data removed]",
      "text/plain": [
       "<Figure size 432x288 with 1 Axes>"
      ]
     },
     "metadata": {
      "needs_background": "light"
     },
     "output_type": "display_data"
    }
   ],
   "source": [
    "dt.Close.plot()"
   ]
  },
  {
   "cell_type": "code",
   "execution_count": null,
   "metadata": {},
   "outputs": [],
   "source": []
  }
 ],
 "metadata": {
  "interpreter": {
   "hash": "de415b4ccc84710333d4cce7c3157faf7a031aee324e8431b231be5e6b20506c"
  },
  "kernelspec": {
   "display_name": "Python 3.10.4 64-bit",
   "language": "python",
   "name": "python3"
  },
  "language_info": {
   "codemirror_mode": {
    "name": "ipython",
    "version": 3
   },
   "file_extension": ".py",
   "mimetype": "text/x-python",
   "name": "python",
   "nbconvert_exporter": "python",
   "pygments_lexer": "ipython3",
   "version": "3.10.4"
  },
  "orig_nbformat": 4
 },
 "nbformat": 4,
 "nbformat_minor": 2
}
